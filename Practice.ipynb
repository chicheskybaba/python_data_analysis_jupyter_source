{
 "cells": [
  {
   "cell_type": "code",
   "execution_count": 1,
   "id": "ff2dac41-e3bb-4819-a0f1-52b9ca963885",
   "metadata": {},
   "outputs": [
    {
     "name": "stdout",
     "output_type": "stream",
     "text": [
      "Hello, World!\n"
     ]
    }
   ],
   "source": [
    "print(\"Hello, World!\")"
   ]
  },
  {
   "cell_type": "code",
   "execution_count": 4,
   "id": "bb8081bf-7616-430c-9498-1e66f9ce2397",
   "metadata": {},
   "outputs": [
    {
     "name": "stdout",
     "output_type": "stream",
     "text": [
      "B is less than A\n"
     ]
    }
   ],
   "source": [
    "A = 1\n",
    "B = 2\n",
    "if A > B:\n",
    "    print(\"A is greater than B\")\n",
    "else:\n",
    "    print(\"B is less than A\")"
   ]
  },
  {
   "cell_type": "code",
   "execution_count": 5,
   "id": "47c3192f-2d63-4dd1-b7fc-ed0d2177fffc",
   "metadata": {},
   "outputs": [
    {
     "name": "stdout",
     "output_type": "stream",
     "text": [
      "<class 'int'>\n",
      "<class 'str'>\n"
     ]
    }
   ],
   "source": [
    "x = 5\n",
    "y = \"John\"\n",
    "print(type(x))\n",
    "print(type(y))"
   ]
  },
  {
   "cell_type": "code",
   "execution_count": 6,
   "id": "71bae820-8bd8-4ac6-bd94-d923ec9c31d2",
   "metadata": {},
   "outputs": [
    {
     "name": "stdout",
     "output_type": "stream",
     "text": [
      "Orange\n",
      "Banana\n",
      "Cherry\n"
     ]
    }
   ],
   "source": [
    "x, y, z = \"Orange\", \"Banana\", \"Cherry\"\n",
    "print(x)\n",
    "print(y)\n",
    "print(z)"
   ]
  },
  {
   "cell_type": "code",
   "execution_count": 7,
   "id": "65499b13-5633-401c-9b46-791291d403c8",
   "metadata": {},
   "outputs": [
    {
     "name": "stdout",
     "output_type": "stream",
     "text": [
      "Orange\n",
      "Orange\n",
      "Orange\n"
     ]
    }
   ],
   "source": [
    "x = y = z = \"Orange\"\n",
    "print(x)\n",
    "print(y)\n",
    "print(z)"
   ]
  },
  {
   "cell_type": "code",
   "execution_count": 8,
   "id": "d057cc43-ee1f-40bf-999c-1c4cced6ba48",
   "metadata": {},
   "outputs": [
    {
     "name": "stdout",
     "output_type": "stream",
     "text": [
      "apple\n",
      "banana\n",
      "cherry\n"
     ]
    }
   ],
   "source": [
    "fruits = [\"apple\", \"banana\", \"cherry\"]\n",
    "x, y, z = fruits\n",
    "print(x)\n",
    "print(y)\n",
    "print(z)"
   ]
  },
  {
   "cell_type": "code",
   "execution_count": null,
   "id": "40d7f2e7-9630-41f4-bfa7-f0a2796b4f75",
   "metadata": {},
   "outputs": [],
   "source": []
  },
  {
   "cell_type": "code",
   "execution_count": null,
   "id": "bf8b92d8-2cde-4ad5-adda-cc3ab9fbb82c",
   "metadata": {},
   "outputs": [],
   "source": []
  },
  {
   "cell_type": "markdown",
   "id": "f8bd42dd-8bf5-4c91-8635-815fa7f44c02",
   "metadata": {},
   "source": [
    "# Move Zeros to Left Side"
   ]
  },
  {
   "cell_type": "code",
   "execution_count": 9,
   "id": "a39cf87c-ba4a-4b0e-af0e-aa1b75e00cd8",
   "metadata": {},
   "outputs": [
    {
     "name": "stdout",
     "output_type": "stream",
     "text": [
      "Original Array: [1, 10, 20, 0, 59, 63, 0, 88, 0]\n",
      "After Moving Zeroes to Left:  [0, 0, 0, 1, 10, 20, 59, 63, 88]\n"
     ]
    }
   ],
   "source": [
    "def move_zeros_to_left(A):\n",
    "  if len(A) < 1:\n",
    "    return\n",
    "\n",
    "  lengthA = len(A)\n",
    "  write_index = lengthA - 1\n",
    "  read_index = lengthA - 1\n",
    "\n",
    "  while(read_index >= 0):\n",
    "    if A[read_index] != 0:\n",
    "      A[write_index] = A[read_index]\n",
    "      write_index -= 1\n",
    "\n",
    "    read_index -= 1\n",
    "\n",
    "  while(write_index >= 0):\n",
    "    A[write_index]=0;\n",
    "    write_index-=1\n",
    "    \n",
    "v = [1, 10, 20, 0, 59, 63, 0, 88, 0]\n",
    "print(\"Original Array:\", v)\n",
    "\n",
    "move_zeros_to_left(v)\n",
    "\n",
    "print(\"After Moving Zeroes to Left: \", v)"
   ]
  },
  {
   "cell_type": "code",
   "execution_count": null,
   "id": "eb36c5fe-0206-4e4d-b66c-ebb720c62661",
   "metadata": {},
   "outputs": [],
   "source": []
  },
  {
   "cell_type": "code",
   "execution_count": null,
   "id": "4899d600-a2d1-4883-8856-490a1737778c",
   "metadata": {},
   "outputs": [],
   "source": []
  },
  {
   "cell_type": "code",
   "execution_count": 10,
   "id": "4deca5e0-247e-4739-8dec-b67b040066d4",
   "metadata": {},
   "outputs": [
    {
     "name": "stdout",
     "output_type": "stream",
     "text": [
      "Python is awesome\n"
     ]
    }
   ],
   "source": [
    "x = \"Python\"\n",
    "y = \"is\"\n",
    "z = \"awesome\"\n",
    "print(x, y, z)"
   ]
  },
  {
   "cell_type": "code",
   "execution_count": null,
   "id": "5baba3e4-821a-4b0e-8884-5f2a32de0195",
   "metadata": {},
   "outputs": [],
   "source": []
  },
  {
   "cell_type": "code",
   "execution_count": null,
   "id": "c7342ad2-4b17-4cd1-8d48-9ac87cd0f7b4",
   "metadata": {},
   "outputs": [],
   "source": []
  },
  {
   "cell_type": "code",
   "execution_count": 11,
   "id": "4986e5a6-1894-45b7-a1e3-35efee5c6d49",
   "metadata": {},
   "outputs": [
    {
     "name": "stdout",
     "output_type": "stream",
     "text": [
      "Python is awesome\n"
     ]
    }
   ],
   "source": [
    "x = \"Python \"\n",
    "y = \"is \"\n",
    "z = \"awesome\"\n",
    "print(x + y + z)"
   ]
  },
  {
   "cell_type": "code",
   "execution_count": null,
   "id": "6924a27b-876f-4eda-9848-8569a593fb58",
   "metadata": {},
   "outputs": [],
   "source": []
  },
  {
   "cell_type": "code",
   "execution_count": null,
   "id": "a86b08cc-05ed-402e-b7e5-821a1a327b90",
   "metadata": {},
   "outputs": [],
   "source": []
  },
  {
   "cell_type": "code",
   "execution_count": 12,
   "id": "b9280898-ae2f-4088-ae1c-82a00ce41f3d",
   "metadata": {},
   "outputs": [
    {
     "name": "stdout",
     "output_type": "stream",
     "text": [
      "15\n"
     ]
    }
   ],
   "source": [
    "x = 5\n",
    "y = 10\n",
    "print(x + y)"
   ]
  },
  {
   "cell_type": "code",
   "execution_count": null,
   "id": "66d4bdfb-674e-4658-999a-6f7217cb430f",
   "metadata": {},
   "outputs": [],
   "source": []
  },
  {
   "cell_type": "code",
   "execution_count": null,
   "id": "c04a6408-1218-42aa-91a5-6b8d57c8f367",
   "metadata": {},
   "outputs": [],
   "source": []
  },
  {
   "cell_type": "code",
   "execution_count": 13,
   "id": "545680c0-0d09-4aca-bfa3-6eb9c550adb5",
   "metadata": {},
   "outputs": [
    {
     "name": "stdout",
     "output_type": "stream",
     "text": [
      "5 John\n"
     ]
    }
   ],
   "source": [
    "x = 5\n",
    "y = \"John\"\n",
    "print(x, y)"
   ]
  },
  {
   "cell_type": "code",
   "execution_count": null,
   "id": "61faddfa-0d9e-4cf1-ac6f-77eb29b22f44",
   "metadata": {},
   "outputs": [],
   "source": []
  },
  {
   "cell_type": "code",
   "execution_count": null,
   "id": "5397f203-d8a2-4db1-8635-5e7f3d41df4b",
   "metadata": {},
   "outputs": [],
   "source": []
  },
  {
   "cell_type": "code",
   "execution_count": 16,
   "id": "0bcee2be-f1bb-4810-a4d5-4192eb9cd667",
   "metadata": {},
   "outputs": [
    {
     "name": "stdout",
     "output_type": "stream",
     "text": [
      "Python is awesome\n"
     ]
    }
   ],
   "source": [
    "x = \"awesome\"\n",
    "\n",
    "def myfunc():\n",
    "  print(\"Python is \" + x)\n",
    "\n",
    "myfunc()"
   ]
  },
  {
   "cell_type": "code",
   "execution_count": null,
   "id": "9cd1e746-75fc-4563-9f87-47ac460373c1",
   "metadata": {},
   "outputs": [],
   "source": []
  },
  {
   "cell_type": "code",
   "execution_count": null,
   "id": "6472e22c-e793-469f-a7c8-42c3a7fe21d7",
   "metadata": {},
   "outputs": [],
   "source": []
  },
  {
   "cell_type": "code",
   "execution_count": 18,
   "id": "889521e3-5157-48f1-aa48-5c7feca3acb2",
   "metadata": {},
   "outputs": [
    {
     "name": "stdout",
     "output_type": "stream",
     "text": [
      "Python is fantastic\n",
      "Python is awesome\n"
     ]
    }
   ],
   "source": [
    "x = \"awesome\"\n",
    "\n",
    "def myfunc():\n",
    "  x = \"fantastic\"\n",
    "  print(\"Python is \" + x)\n",
    "\n",
    "myfunc()\n",
    "\n",
    "print(\"Python is \" + x)"
   ]
  },
  {
   "cell_type": "code",
   "execution_count": null,
   "id": "93e7f685-f9c9-42d5-b7f5-22df7a4a6743",
   "metadata": {},
   "outputs": [],
   "source": []
  },
  {
   "cell_type": "code",
   "execution_count": null,
   "id": "6f710314-3e19-42d3-9b34-121fdf6f1135",
   "metadata": {},
   "outputs": [],
   "source": []
  },
  {
   "cell_type": "code",
   "execution_count": 19,
   "id": "597ca994-3df3-4f30-b61f-142faba1d602",
   "metadata": {},
   "outputs": [
    {
     "name": "stdout",
     "output_type": "stream",
     "text": [
      "Python is fantastic\n"
     ]
    }
   ],
   "source": [
    "def myfunc():\n",
    "  global x\n",
    "  x = \"fantastic\"\n",
    "\n",
    "myfunc()\n",
    "\n",
    "print(\"Python is \" + x)"
   ]
  },
  {
   "cell_type": "code",
   "execution_count": null,
   "id": "3eea85e5-2e08-4bfe-92fa-79de445ec300",
   "metadata": {},
   "outputs": [],
   "source": []
  },
  {
   "cell_type": "code",
   "execution_count": null,
   "id": "4ff662b9-c398-488b-a092-a8482aaa3260",
   "metadata": {},
   "outputs": [],
   "source": []
  },
  {
   "cell_type": "code",
   "execution_count": 24,
   "id": "0f64ed0d-591a-4c92-a9f6-0c11a1a3726a",
   "metadata": {},
   "outputs": [
    {
     "name": "stdout",
     "output_type": "stream",
     "text": [
      "Python is fantastic\n"
     ]
    }
   ],
   "source": [
    "x = \"awesome\"\n",
    "\n",
    "def myfunc():\n",
    "  global x\n",
    "  x = \"fantastic\"\n",
    "\n",
    "myfunc()\n",
    "\n",
    "print(\"Python is \" + x)"
   ]
  },
  {
   "cell_type": "code",
   "execution_count": null,
   "id": "d061e4e4-d589-4bc2-81ac-3962ed6d956d",
   "metadata": {},
   "outputs": [],
   "source": []
  },
  {
   "cell_type": "code",
   "execution_count": null,
   "id": "7aa04db3-488e-4029-8f31-b5b55725db65",
   "metadata": {},
   "outputs": [],
   "source": []
  },
  {
   "cell_type": "code",
   "execution_count": null,
   "id": "e64eb7bd-80d4-4f20-b40f-3617ff44858e",
   "metadata": {},
   "outputs": [],
   "source": []
  },
  {
   "cell_type": "markdown",
   "id": "d19aa8c4-ad7e-4b9d-97b8-4592c8cf4eb7",
   "metadata": {},
   "source": [
    "# Arrays: Merge overlapping intervals"
   ]
  },
  {
   "cell_type": "code",
   "execution_count": 3,
   "id": "d05bf075-9a77-47d4-b69b-d8bb43bf9543",
   "metadata": {},
   "outputs": [
    {
     "name": "stdout",
     "output_type": "stream",
     "text": [
      "[1, 8] [10, 15] "
     ]
    }
   ],
   "source": [
    "class Pair:\n",
    "  def __init__(self, first, second):\n",
    "    self.first = first\n",
    "    self.second = second\n",
    "\n",
    "def merge_intervals(v):\n",
    "  if v == None or len(v) == 0 :\n",
    "    return None\n",
    "\n",
    "  result = []\n",
    "  result.append(Pair(v[0].first, v[0].second))\n",
    "\n",
    "  for i in range(1, len(v)):\n",
    "    x1 = v[i].first\n",
    "    y1 = v[i].second\n",
    "    x2 = result[len(result) - 1].first\n",
    "    y2 = result[len(result) - 1].second\n",
    "\n",
    "    if y2 >= x1:\n",
    "      result[len(result) - 1].second = max(y1, y2)\n",
    "    else:\n",
    "      result.append(Pair(x1, y1))\n",
    "\n",
    "  return result;\n",
    "\n",
    "v = [Pair(1, 5), Pair(3, 1), Pair(4, 6), \n",
    "     Pair(6, 8), Pair(10, 12), Pair(11, 15)]\n",
    "\n",
    "result = merge_intervals(v)\n",
    "\n",
    "for i in range(len(result)):\n",
    "  print(\"[\" + str(result[i].first) + \", \" + str(result[i].second) + \"]\", end =\" \")"
   ]
  },
  {
   "cell_type": "code",
   "execution_count": null,
   "id": "1fb17a29-960d-4ef2-8fa6-8d5ece2299eb",
   "metadata": {},
   "outputs": [],
   "source": []
  },
  {
   "cell_type": "code",
   "execution_count": null,
   "id": "cb74f44a-b941-4797-9d01-4968ae0d8d0f",
   "metadata": {},
   "outputs": [],
   "source": []
  },
  {
   "cell_type": "code",
   "execution_count": null,
   "id": "7218ae72-3e69-4f65-93ef-935a23d0baf8",
   "metadata": {},
   "outputs": [],
   "source": []
  },
  {
   "cell_type": "code",
   "execution_count": 14,
   "id": "f3f811d6-4366-4dbe-9d0c-61fcac647b3e",
   "metadata": {},
   "outputs": [
    {
     "name": "stdout",
     "output_type": "stream",
     "text": [
      "<class 'int'>\n"
     ]
    }
   ],
   "source": [
    "x = 5\n",
    "print(type(x))"
   ]
  },
  {
   "cell_type": "code",
   "execution_count": null,
   "id": "d1c1b25b-185b-4f9a-b2a7-e8c9939a9df2",
   "metadata": {},
   "outputs": [],
   "source": []
  },
  {
   "cell_type": "code",
   "execution_count": null,
   "id": "567c8b06-0220-43be-b0aa-5eb0cca32cff",
   "metadata": {},
   "outputs": [],
   "source": []
  },
  {
   "cell_type": "code",
   "execution_count": 15,
   "id": "3739c339-769c-44d5-a6fa-92172d8f9874",
   "metadata": {},
   "outputs": [
    {
     "name": "stdout",
     "output_type": "stream",
     "text": [
      "<class 'set'>\n"
     ]
    }
   ],
   "source": [
    "x = set((\"apple\", \"banana\", \"cherry\"))\n",
    "print(type(x))\n"
   ]
  },
  {
   "cell_type": "code",
   "execution_count": 16,
   "id": "df7481ee-937c-4f46-bc2b-59299d79feba",
   "metadata": {},
   "outputs": [
    {
     "name": "stdout",
     "output_type": "stream",
     "text": [
      "<class 'complex'>\n",
      "<class 'complex'>\n",
      "<class 'complex'>\n"
     ]
    }
   ],
   "source": [
    "x = 3+5j\n",
    "y = 5j\n",
    "z = -5j\n",
    "\n",
    "print(type(x))\n",
    "print(type(y))\n",
    "print(type(z))"
   ]
  },
  {
   "cell_type": "code",
   "execution_count": null,
   "id": "c1344d08-7bc6-473c-8182-84fead06434c",
   "metadata": {},
   "outputs": [],
   "source": []
  },
  {
   "cell_type": "code",
   "execution_count": null,
   "id": "813891cd-5608-492b-a525-1da8f3fb2c5d",
   "metadata": {},
   "outputs": [],
   "source": []
  },
  {
   "cell_type": "code",
   "execution_count": 26,
   "id": "e0d2c9d8-533b-4800-a843-40e693e78f3b",
   "metadata": {},
   "outputs": [
    {
     "name": "stdout",
     "output_type": "stream",
     "text": [
      "6\n"
     ]
    }
   ],
   "source": [
    "import random\n",
    "\n",
    "print(random.randrange(1, 10))"
   ]
  },
  {
   "cell_type": "code",
   "execution_count": null,
   "id": "7f1b7cf1-578c-4425-9e27-f2673d2aa936",
   "metadata": {},
   "outputs": [],
   "source": []
  },
  {
   "cell_type": "code",
   "execution_count": null,
   "id": "e1ddd628-7913-4559-9e6e-bf5db3606116",
   "metadata": {},
   "outputs": [],
   "source": []
  },
  {
   "cell_type": "markdown",
   "id": "f953b5d3-a6ba-4262-8c63-821a71ae84f1",
   "metadata": {},
   "source": [
    "# Strings: String segmentation"
   ]
  },
  {
   "cell_type": "code",
   "execution_count": 28,
   "id": "84316d29-552a-4acd-b5fe-3b3c710f105a",
   "metadata": {},
   "outputs": [
    {
     "name": "stdout",
     "output_type": "stream",
     "text": [
      "String Can be Segmented\n"
     ]
    }
   ],
   "source": [
    "def can_segment_string(s, dictionary):\n",
    "  for i in range(1, len(s) + 1):\n",
    "    first = s[0:i]\n",
    "    if first in dictionary:\n",
    "      second = s[i:]\n",
    "      if not second or second in dictionary or can_segment_string(second, dictionary):\n",
    "        return True\n",
    "  return False\n",
    "  \n",
    "s = \"hellonow\";\n",
    "dictionary= set([\"hello\",\"hell\",\"on\",\"now\"])\n",
    "if can_segment_string(s, dictionary):\n",
    "  print(\"String Can be Segmented\")\n",
    "else:\n",
    "  print(\"String Can NOT be Segmented\")"
   ]
  },
  {
   "cell_type": "code",
   "execution_count": null,
   "id": "9e85e936-aac4-439c-a255-60c39236dcc9",
   "metadata": {},
   "outputs": [],
   "source": []
  },
  {
   "cell_type": "code",
   "execution_count": null,
   "id": "6525fe68-085a-49b2-8fec-78b545ce6263",
   "metadata": {},
   "outputs": [],
   "source": []
  },
  {
   "cell_type": "markdown",
   "id": "7d601dbd-9c4e-4ebb-930c-f383318a67a3",
   "metadata": {},
   "source": [
    "# Dynamic Programming: Find maximum single sell profit"
   ]
  },
  {
   "cell_type": "code",
   "execution_count": 29,
   "id": "f25af873-0cd5-40df-9b89-796346e3c4f8",
   "metadata": {},
   "outputs": [
    {
     "name": "stdout",
     "output_type": "stream",
     "text": [
      "Buy Price: 1, Sell Price: 5\n",
      "Buy Price: 6, Sell Price: 5\n"
     ]
    }
   ],
   "source": [
    "def find_buy_sell_stock_prices(array):\n",
    "  if array == None or len(array) < 2:\n",
    "    return None\n",
    "\n",
    "  current_buy = array[0]\n",
    "  global_sell = array[1]\n",
    "  global_profit = global_sell - current_buy\n",
    "\n",
    "  current_profit = float('-inf')\n",
    "\n",
    "  for i in range(1, len(array)):\n",
    "    current_profit = array[i] - current_buy\n",
    "\n",
    "    if current_profit > global_profit:\n",
    "      global_profit = current_profit\n",
    "      global_sell = array[i]\n",
    "\n",
    "    if current_buy > array[i]:\n",
    "      current_buy = array[i];\n",
    "\n",
    "  result = global_sell - global_profit, global_sell                 \n",
    "   \n",
    "  return result\n",
    "\n",
    "array = [1, 2, 3, 4, 3, 2, 1, 2, 5]  \n",
    "result = find_buy_sell_stock_prices(array)\n",
    "print(\"Buy Price: \" + str(result[0]) + \", Sell Price: \" + str(result[1]))\n",
    "\n",
    "array = [8, 6, 5, 4, 3, 2, 1]\n",
    "result = find_buy_sell_stock_prices(array)\n",
    "print(\"Buy Price: \" + str(result[0]) + \", Sell Price: \" + str(result[1]))"
   ]
  },
  {
   "cell_type": "code",
   "execution_count": null,
   "id": "0de054cc-363a-43a7-8387-1c508edd8591",
   "metadata": {},
   "outputs": [],
   "source": []
  },
  {
   "cell_type": "code",
   "execution_count": null,
   "id": "2bec97a0-faf7-4251-b6cf-08860104194c",
   "metadata": {},
   "outputs": [],
   "source": []
  },
  {
   "cell_type": "markdown",
   "id": "300bd78b-e648-4963-8a0c-2b9e7488751f",
   "metadata": {},
   "source": [
    "# Math and Stats: Calculate the power of a number"
   ]
  },
  {
   "cell_type": "code",
   "execution_count": 33,
   "id": "8139f973-22f7-4a1b-b5c2-c50dec9ae35f",
   "metadata": {},
   "outputs": [
    {
     "name": "stdout",
     "output_type": "stream",
     "text": [
      "32\n"
     ]
    }
   ],
   "source": [
    "def power_rec(x, n):\n",
    "  if n == 0:\n",
    "    return 1\n",
    "  if n == 1:\n",
    "    return x\n",
    "  \n",
    "  temp = power_rec(x, n//2)\n",
    "  if n % 2 == 0:\n",
    "    return temp * temp\n",
    "  else:\n",
    "    return x * temp * temp\n",
    "\n",
    "def power(x, n):\n",
    "  is_negative = False\n",
    "  if n < 0:\n",
    "    is_negative = True\n",
    "    n *= -1\n",
    "\n",
    "  result = power_rec(x, n)\n",
    "\n",
    "  if is_negative:\n",
    "    return 1 / result\n",
    "  \n",
    "  return result\n",
    "\n",
    "def main():\n",
    "  pass_count = 0\n",
    "  fail_count = 0\n",
    "  for x in range(-10, 5, 1):\n",
    "    for n in range(-4, 6):\n",
    "      if x == 0 and n < 0:\n",
    "        continue\n",
    "      r1 = power(x * 1.0, n)\n",
    "      r2 = pow(x, n)\n",
    "      diff = r1 - r2\n",
    "      if diff < 0:\n",
    "        diff *= -1\n",
    "\n",
    "      if diff > 0.0000000001:\n",
    "        msg = \"r1 = %f, r2 = %f, difference = %f\" % (r1, r2, diff)\n",
    "        print(\"Failed for (%d, %d) - %s\" % (x, n, msg))\n",
    "        fail_count += 1\n",
    "      else:\n",
    "        pass_count += 1\n",
    "      assert diff <= 0.0000000001\n",
    "\n",
    "main()\n",
    "print(pow(2, 5))"
   ]
  },
  {
   "cell_type": "code",
   "execution_count": null,
   "id": "ddab41fc-baed-4e46-a09b-1b79c0aa2840",
   "metadata": {},
   "outputs": [],
   "source": []
  },
  {
   "cell_type": "code",
   "execution_count": null,
   "id": "4d7d4200-677a-4294-ac13-506e65bd5874",
   "metadata": {},
   "outputs": [],
   "source": []
  },
  {
   "cell_type": "code",
   "execution_count": null,
   "id": "1f1e5d1e-785d-40cf-8151-954b4ccf957a",
   "metadata": {},
   "outputs": [],
   "source": []
  },
  {
   "cell_type": "markdown",
   "id": "c9dd8c4f-9997-4486-adb3-54593d13f105",
   "metadata": {},
   "source": [
    "# Backtracking: Find all possible subsets"
   ]
  },
  {
   "cell_type": "code",
   "execution_count": 34,
   "id": "1ea6a7c9-c9f2-4514-9c18-afb06fd3fde8",
   "metadata": {},
   "outputs": [
    {
     "name": "stdout",
     "output_type": "stream",
     "text": [
      "****Total*****512\n",
      "{set()}\n",
      "{{8}}\n",
      "{{13}}\n",
      "{{8, 13}}\n",
      "{{3}}\n",
      "{{8, 3}}\n",
      "{{3, 13}}\n",
      "{{8, 3, 13}}\n",
      "{{22}}\n",
      "{{8, 22}}\n",
      "{{13, 22}}\n",
      "{{8, 13, 22}}\n",
      "{{3, 22}}\n",
      "{{8, 3, 22}}\n",
      "{{3, 13, 22}}\n",
      "{{8, 3, 13, 22}}\n",
      "{{17}}\n",
      "{{8, 17}}\n",
      "{{17, 13}}\n",
      "{{8, 17, 13}}\n",
      "{{17, 3}}\n",
      "{{8, 17, 3}}\n",
      "{{17, 3, 13}}\n",
      "{{8, 17, 3, 13}}\n",
      "{{17, 22}}\n",
      "{{8, 17, 22}}\n",
      "{{17, 13, 22}}\n",
      "{{8, 17, 13, 22}}\n",
      "{{17, 3, 22}}\n",
      "{{8, 17, 3, 22}}\n",
      "{{17, 3, 13, 22}}\n",
      "{{3, 8, 13, 17, 22}}\n",
      "{{39}}\n",
      "{{8, 39}}\n",
      "{{13, 39}}\n",
      "{{8, 13, 39}}\n",
      "{{3, 39}}\n",
      "{{8, 3, 39}}\n",
      "{{3, 13, 39}}\n",
      "{{8, 3, 13, 39}}\n",
      "{{22, 39}}\n",
      "{{8, 22, 39}}\n",
      "{{13, 22, 39}}\n",
      "{{8, 13, 22, 39}}\n",
      "{{3, 22, 39}}\n",
      "{{8, 3, 22, 39}}\n",
      "{{3, 13, 22, 39}}\n",
      "{{3, 39, 8, 13, 22}}\n",
      "{{17, 39}}\n",
      "{{8, 17, 39}}\n",
      "{{17, 13, 39}}\n",
      "{{8, 17, 13, 39}}\n",
      "{{17, 3, 39}}\n",
      "{{8, 17, 3, 39}}\n",
      "{{17, 3, 13, 39}}\n",
      "{{3, 39, 8, 13, 17}}\n",
      "{{17, 22, 39}}\n",
      "{{8, 17, 22, 39}}\n",
      "{{17, 13, 22, 39}}\n",
      "{{39, 8, 13, 17, 22}}\n",
      "{{17, 3, 22, 39}}\n",
      "{{3, 39, 8, 17, 22}}\n",
      "{{3, 39, 13, 17, 22}}\n",
      "{{3, 39, 8, 13, 17, 22}}\n",
      "{{87}}\n",
      "{{8, 87}}\n",
      "{{13, 87}}\n",
      "{{8, 13, 87}}\n",
      "{{3, 87}}\n",
      "{{8, 3, 87}}\n",
      "{{3, 13, 87}}\n",
      "{{8, 3, 13, 87}}\n",
      "{{22, 87}}\n",
      "{{8, 22, 87}}\n",
      "{{13, 22, 87}}\n",
      "{{8, 13, 22, 87}}\n",
      "{{3, 22, 87}}\n",
      "{{8, 3, 22, 87}}\n",
      "{{3, 13, 22, 87}}\n",
      "{{3, 8, 13, 22, 87}}\n",
      "{{17, 87}}\n",
      "{{8, 17, 87}}\n",
      "{{17, 13, 87}}\n",
      "{{8, 17, 13, 87}}\n",
      "{{17, 3, 87}}\n",
      "{{8, 17, 3, 87}}\n",
      "{{17, 3, 13, 87}}\n",
      "{{3, 8, 13, 17, 87}}\n",
      "{{17, 22, 87}}\n",
      "{{8, 17, 22, 87}}\n",
      "{{17, 13, 22, 87}}\n",
      "{{8, 13, 17, 22, 87}}\n",
      "{{17, 3, 22, 87}}\n",
      "{{3, 8, 17, 22, 87}}\n",
      "{{3, 13, 17, 22, 87}}\n",
      "{{3, 8, 13, 17, 22, 87}}\n",
      "{{87, 39}}\n",
      "{{8, 87, 39}}\n",
      "{{13, 87, 39}}\n",
      "{{8, 13, 87, 39}}\n",
      "{{3, 87, 39}}\n",
      "{{8, 3, 87, 39}}\n",
      "{{3, 13, 87, 39}}\n",
      "{{3, 39, 8, 13, 87}}\n",
      "{{87, 22, 39}}\n",
      "{{8, 87, 22, 39}}\n",
      "{{87, 13, 22, 39}}\n",
      "{{39, 8, 13, 22, 87}}\n",
      "{{3, 87, 22, 39}}\n",
      "{{3, 39, 8, 22, 87}}\n",
      "{{3, 39, 13, 22, 87}}\n",
      "{{3, 39, 8, 13, 22, 87}}\n",
      "{{17, 87, 39}}\n",
      "{{8, 17, 87, 39}}\n",
      "{{17, 13, 87, 39}}\n",
      "{{39, 8, 13, 17, 87}}\n",
      "{{17, 3, 87, 39}}\n",
      "{{3, 39, 8, 17, 87}}\n",
      "{{3, 39, 13, 17, 87}}\n",
      "{{3, 39, 8, 13, 17, 87}}\n",
      "{{17, 87, 22, 39}}\n",
      "{{39, 8, 17, 22, 87}}\n",
      "{{39, 13, 17, 22, 87}}\n",
      "{{39, 8, 13, 17, 22, 87}}\n",
      "{{3, 39, 17, 22, 87}}\n",
      "{{3, 39, 8, 17, 22, 87}}\n",
      "{{3, 39, 13, 17, 22, 87}}\n",
      "{{3, 39, 8, 13, 17, 22, 87}}\n",
      "{{45}}\n",
      "{{8, 45}}\n",
      "{{45, 13}}\n",
      "{{8, 45, 13}}\n",
      "{{3, 45}}\n",
      "{{8, 3, 45}}\n",
      "{{45, 3, 13}}\n",
      "{{8, 45, 3, 13}}\n",
      "{{45, 22}}\n",
      "{{8, 45, 22}}\n",
      "{{45, 13, 22}}\n",
      "{{8, 45, 13, 22}}\n",
      "{{3, 45, 22}}\n",
      "{{8, 3, 45, 22}}\n",
      "{{45, 3, 13, 22}}\n",
      "{{3, 8, 45, 13, 22}}\n",
      "{{17, 45}}\n",
      "{{8, 17, 45}}\n",
      "{{17, 45, 13}}\n",
      "{{8, 17, 45, 13}}\n",
      "{{17, 3, 45}}\n",
      "{{8, 17, 3, 45}}\n",
      "{{45, 17, 3, 13}}\n",
      "{{3, 8, 13, 45, 17}}\n",
      "{{17, 45, 22}}\n",
      "{{8, 17, 45, 22}}\n",
      "{{17, 45, 13, 22}}\n",
      "{{8, 45, 13, 17, 22}}\n",
      "{{17, 3, 45, 22}}\n",
      "{{3, 8, 45, 17, 22}}\n",
      "{{3, 45, 13, 17, 22}}\n",
      "{{3, 8, 13, 45, 17, 22}}\n",
      "{{45, 39}}\n",
      "{{8, 45, 39}}\n",
      "{{45, 13, 39}}\n",
      "{{8, 45, 13, 39}}\n",
      "{{3, 45, 39}}\n",
      "{{8, 3, 45, 39}}\n",
      "{{45, 3, 13, 39}}\n",
      "{{3, 39, 8, 45, 13}}\n",
      "{{45, 22, 39}}\n",
      "{{8, 45, 22, 39}}\n",
      "{{45, 13, 22, 39}}\n",
      "{{39, 8, 45, 13, 22}}\n",
      "{{3, 45, 22, 39}}\n",
      "{{3, 39, 8, 45, 22}}\n",
      "{{3, 39, 45, 13, 22}}\n",
      "{{3, 39, 8, 13, 45, 22}}\n",
      "{{17, 45, 39}}\n",
      "{{8, 17, 45, 39}}\n",
      "{{17, 45, 13, 39}}\n",
      "{{39, 8, 45, 13, 17}}\n",
      "{{17, 3, 45, 39}}\n",
      "{{3, 39, 8, 45, 17}}\n",
      "{{3, 39, 45, 13, 17}}\n",
      "{{3, 39, 8, 13, 45, 17}}\n",
      "{{17, 45, 22, 39}}\n",
      "{{39, 8, 45, 17, 22}}\n",
      "{{39, 45, 13, 17, 22}}\n",
      "{{39, 8, 13, 45, 17, 22}}\n",
      "{{3, 39, 45, 17, 22}}\n",
      "{{3, 39, 8, 45, 17, 22}}\n",
      "{{3, 39, 13, 45, 17, 22}}\n",
      "{{3, 39, 8, 13, 45, 17, 22}}\n",
      "{{45, 87}}\n",
      "{{8, 45, 87}}\n",
      "{{45, 13, 87}}\n",
      "{{8, 45, 13, 87}}\n",
      "{{3, 45, 87}}\n",
      "{{8, 3, 45, 87}}\n",
      "{{45, 3, 13, 87}}\n",
      "{{3, 8, 45, 13, 87}}\n",
      "{{45, 22, 87}}\n",
      "{{8, 45, 22, 87}}\n",
      "{{45, 13, 22, 87}}\n",
      "{{8, 45, 13, 22, 87}}\n",
      "{{3, 45, 22, 87}}\n",
      "{{3, 8, 45, 22, 87}}\n",
      "{{3, 45, 13, 22, 87}}\n",
      "{{3, 8, 13, 45, 22, 87}}\n",
      "{{17, 45, 87}}\n",
      "{{8, 17, 45, 87}}\n",
      "{{17, 45, 13, 87}}\n",
      "{{8, 45, 13, 17, 87}}\n",
      "{{17, 3, 45, 87}}\n",
      "{{3, 8, 45, 17, 87}}\n",
      "{{3, 45, 13, 17, 87}}\n",
      "{{3, 8, 13, 45, 17, 87}}\n",
      "{{17, 45, 22, 87}}\n",
      "{{8, 45, 17, 22, 87}}\n",
      "{{45, 13, 17, 22, 87}}\n",
      "{{8, 13, 45, 17, 22, 87}}\n",
      "{{3, 45, 17, 22, 87}}\n",
      "{{3, 8, 45, 17, 22, 87}}\n",
      "{{3, 13, 45, 17, 22, 87}}\n",
      "{{3, 8, 13, 45, 17, 22, 87}}\n",
      "{{45, 87, 39}}\n",
      "{{8, 45, 87, 39}}\n",
      "{{45, 13, 87, 39}}\n",
      "{{39, 8, 45, 13, 87}}\n",
      "{{3, 45, 87, 39}}\n",
      "{{3, 39, 8, 45, 87}}\n",
      "{{3, 39, 45, 13, 87}}\n",
      "{{3, 39, 8, 13, 45, 87}}\n",
      "{{87, 45, 22, 39}}\n",
      "{{39, 8, 45, 22, 87}}\n",
      "{{39, 45, 13, 22, 87}}\n",
      "{{39, 8, 13, 45, 22, 87}}\n",
      "{{3, 39, 45, 22, 87}}\n",
      "{{3, 39, 8, 45, 22, 87}}\n",
      "{{3, 39, 13, 45, 22, 87}}\n",
      "{{3, 39, 8, 13, 45, 22, 87}}\n",
      "{{17, 45, 87, 39}}\n",
      "{{39, 8, 45, 17, 87}}\n",
      "{{39, 45, 13, 17, 87}}\n",
      "{{39, 8, 13, 45, 17, 87}}\n",
      "{{3, 39, 45, 17, 87}}\n",
      "{{3, 39, 8, 45, 17, 87}}\n",
      "{{3, 39, 13, 45, 17, 87}}\n",
      "{{3, 39, 8, 13, 45, 17, 87}}\n",
      "{{39, 45, 17, 22, 87}}\n",
      "{{39, 8, 45, 17, 22, 87}}\n",
      "{{39, 13, 45, 17, 22, 87}}\n",
      "{{39, 8, 13, 45, 17, 22, 87}}\n",
      "{{3, 39, 45, 17, 22, 87}}\n",
      "{{3, 39, 8, 45, 17, 22, 87}}\n",
      "{{3, 39, 13, 45, 17, 22, 87}}\n",
      "{{3, 39, 8, 13, 45, 17, 22, 87}}\n",
      "{{36}}\n",
      "{{8, 36}}\n",
      "{{36, 13}}\n",
      "{{8, 36, 13}}\n",
      "{{3, 36}}\n",
      "{{8, 3, 36}}\n",
      "{{3, 36, 13}}\n",
      "{{8, 3, 36, 13}}\n",
      "{{36, 22}}\n",
      "{{8, 36, 22}}\n",
      "{{36, 13, 22}}\n",
      "{{8, 36, 13, 22}}\n",
      "{{3, 36, 22}}\n",
      "{{8, 3, 36, 22}}\n",
      "{{3, 36, 13, 22}}\n",
      "{{3, 36, 8, 13, 22}}\n",
      "{{17, 36}}\n",
      "{{8, 17, 36}}\n",
      "{{17, 36, 13}}\n",
      "{{8, 17, 36, 13}}\n",
      "{{17, 3, 36}}\n",
      "{{8, 17, 3, 36}}\n",
      "{{17, 3, 36, 13}}\n",
      "{{3, 36, 8, 13, 17}}\n",
      "{{17, 36, 22}}\n",
      "{{8, 17, 36, 22}}\n",
      "{{17, 36, 13, 22}}\n",
      "{{36, 8, 13, 17, 22}}\n",
      "{{17, 3, 36, 22}}\n",
      "{{3, 36, 8, 17, 22}}\n",
      "{{3, 36, 13, 17, 22}}\n",
      "{{3, 36, 8, 13, 17, 22}}\n",
      "{{36, 39}}\n",
      "{{8, 36, 39}}\n",
      "{{36, 13, 39}}\n",
      "{{8, 36, 13, 39}}\n",
      "{{3, 36, 39}}\n",
      "{{8, 3, 36, 39}}\n",
      "{{3, 36, 13, 39}}\n",
      "{{3, 36, 39, 8, 13}}\n",
      "{{36, 22, 39}}\n",
      "{{8, 36, 22, 39}}\n",
      "{{36, 13, 22, 39}}\n",
      "{{36, 39, 8, 13, 22}}\n",
      "{{3, 36, 22, 39}}\n",
      "{{3, 36, 39, 8, 22}}\n",
      "{{3, 36, 39, 13, 22}}\n",
      "{{3, 36, 39, 8, 13, 22}}\n",
      "{{17, 36, 39}}\n",
      "{{8, 17, 36, 39}}\n",
      "{{17, 36, 13, 39}}\n",
      "{{36, 39, 8, 13, 17}}\n",
      "{{17, 3, 36, 39}}\n",
      "{{3, 36, 39, 8, 17}}\n",
      "{{3, 36, 39, 13, 17}}\n",
      "{{3, 36, 39, 8, 13, 17}}\n",
      "{{17, 36, 22, 39}}\n",
      "{{36, 39, 8, 17, 22}}\n",
      "{{36, 39, 13, 17, 22}}\n",
      "{{36, 39, 8, 13, 17, 22}}\n",
      "{{3, 36, 39, 17, 22}}\n",
      "{{3, 36, 39, 8, 17, 22}}\n",
      "{{3, 36, 39, 13, 17, 22}}\n",
      "{{3, 36, 39, 8, 13, 17, 22}}\n",
      "{{36, 87}}\n",
      "{{8, 36, 87}}\n",
      "{{36, 13, 87}}\n",
      "{{8, 36, 13, 87}}\n",
      "{{3, 36, 87}}\n",
      "{{8, 3, 36, 87}}\n",
      "{{3, 36, 13, 87}}\n",
      "{{3, 36, 8, 13, 87}}\n",
      "{{36, 22, 87}}\n",
      "{{8, 36, 22, 87}}\n",
      "{{36, 13, 22, 87}}\n",
      "{{36, 8, 13, 22, 87}}\n",
      "{{3, 36, 22, 87}}\n",
      "{{3, 36, 8, 22, 87}}\n",
      "{{3, 36, 13, 22, 87}}\n",
      "{{3, 36, 8, 13, 22, 87}}\n",
      "{{17, 36, 87}}\n",
      "{{8, 17, 36, 87}}\n",
      "{{17, 36, 13, 87}}\n",
      "{{36, 8, 13, 17, 87}}\n",
      "{{17, 3, 36, 87}}\n",
      "{{3, 36, 8, 17, 87}}\n",
      "{{3, 36, 13, 17, 87}}\n",
      "{{3, 36, 8, 13, 17, 87}}\n",
      "{{17, 36, 22, 87}}\n",
      "{{36, 8, 17, 22, 87}}\n",
      "{{36, 13, 17, 22, 87}}\n",
      "{{36, 8, 13, 17, 22, 87}}\n",
      "{{3, 36, 17, 22, 87}}\n",
      "{{3, 36, 8, 17, 22, 87}}\n",
      "{{3, 36, 13, 17, 22, 87}}\n",
      "{{3, 36, 8, 13, 17, 22, 87}}\n",
      "{{36, 87, 39}}\n",
      "{{8, 36, 87, 39}}\n",
      "{{36, 13, 87, 39}}\n",
      "{{36, 39, 8, 13, 87}}\n",
      "{{3, 36, 87, 39}}\n",
      "{{3, 36, 39, 8, 87}}\n",
      "{{3, 36, 39, 13, 87}}\n",
      "{{3, 36, 39, 8, 13, 87}}\n",
      "{{87, 36, 22, 39}}\n",
      "{{36, 39, 8, 22, 87}}\n",
      "{{36, 39, 13, 22, 87}}\n",
      "{{36, 39, 8, 13, 22, 87}}\n",
      "{{3, 36, 39, 22, 87}}\n",
      "{{3, 36, 39, 8, 22, 87}}\n",
      "{{3, 36, 39, 13, 22, 87}}\n",
      "{{3, 36, 39, 8, 13, 22, 87}}\n",
      "{{17, 36, 87, 39}}\n",
      "{{36, 39, 8, 17, 87}}\n",
      "{{36, 39, 13, 17, 87}}\n",
      "{{36, 39, 8, 13, 17, 87}}\n",
      "{{3, 36, 39, 17, 87}}\n",
      "{{3, 36, 39, 8, 17, 87}}\n",
      "{{3, 36, 39, 13, 17, 87}}\n",
      "{{3, 36, 39, 8, 13, 17, 87}}\n",
      "{{36, 39, 17, 22, 87}}\n",
      "{{36, 39, 8, 17, 22, 87}}\n",
      "{{36, 39, 13, 17, 22, 87}}\n",
      "{{36, 39, 8, 13, 17, 22, 87}}\n",
      "{{3, 36, 39, 17, 22, 87}}\n",
      "{{3, 36, 39, 8, 17, 22, 87}}\n",
      "{{3, 36, 39, 13, 17, 22, 87}}\n",
      "{{3, 36, 39, 8, 13, 17, 22, 87}}\n",
      "{{36, 45}}\n",
      "{{8, 36, 45}}\n",
      "{{45, 36, 13}}\n",
      "{{8, 45, 36, 13}}\n",
      "{{3, 36, 45}}\n",
      "{{8, 3, 36, 45}}\n",
      "{{45, 3, 36, 13}}\n",
      "{{3, 36, 8, 45, 13}}\n",
      "{{36, 45, 22}}\n",
      "{{8, 36, 45, 22}}\n",
      "{{45, 36, 13, 22}}\n",
      "{{36, 8, 45, 13, 22}}\n",
      "{{3, 36, 45, 22}}\n",
      "{{3, 36, 8, 45, 22}}\n",
      "{{3, 36, 45, 13, 22}}\n",
      "{{3, 36, 8, 45, 13, 22}}\n",
      "{{17, 36, 45}}\n",
      "{{8, 17, 36, 45}}\n",
      "{{17, 45, 36, 13}}\n",
      "{{36, 8, 45, 13, 17}}\n",
      "{{17, 3, 36, 45}}\n",
      "{{3, 36, 8, 45, 17}}\n",
      "{{3, 36, 45, 13, 17}}\n",
      "{{3, 36, 8, 13, 45, 17}}\n",
      "{{17, 36, 45, 22}}\n",
      "{{36, 8, 45, 17, 22}}\n",
      "{{36, 45, 13, 17, 22}}\n",
      "{{36, 8, 45, 13, 17, 22}}\n",
      "{{3, 36, 45, 17, 22}}\n",
      "{{3, 36, 8, 45, 17, 22}}\n",
      "{{3, 36, 45, 13, 17, 22}}\n",
      "{{3, 36, 8, 13, 45, 17, 22}}\n",
      "{{36, 45, 39}}\n",
      "{{8, 36, 45, 39}}\n",
      "{{45, 36, 13, 39}}\n",
      "{{36, 39, 8, 45, 13}}\n",
      "{{3, 36, 45, 39}}\n",
      "{{3, 36, 39, 8, 45}}\n",
      "{{3, 36, 39, 45, 13}}\n",
      "{{3, 36, 39, 8, 45, 13}}\n",
      "{{36, 45, 22, 39}}\n",
      "{{36, 39, 8, 45, 22}}\n",
      "{{36, 39, 45, 13, 22}}\n",
      "{{36, 39, 8, 45, 13, 22}}\n",
      "{{3, 36, 39, 45, 22}}\n",
      "{{3, 36, 39, 8, 45, 22}}\n",
      "{{3, 36, 39, 45, 13, 22}}\n",
      "{{3, 36, 39, 8, 13, 45, 22}}\n",
      "{{17, 36, 45, 39}}\n",
      "{{36, 39, 8, 45, 17}}\n",
      "{{36, 39, 45, 13, 17}}\n",
      "{{36, 39, 8, 45, 13, 17}}\n",
      "{{3, 36, 39, 45, 17}}\n",
      "{{3, 36, 39, 8, 45, 17}}\n",
      "{{3, 36, 39, 45, 13, 17}}\n",
      "{{3, 36, 39, 8, 13, 45, 17}}\n",
      "{{36, 39, 45, 17, 22}}\n",
      "{{36, 39, 8, 45, 17, 22}}\n",
      "{{36, 39, 45, 13, 17, 22}}\n",
      "{{36, 39, 8, 13, 45, 17, 22}}\n",
      "{{3, 36, 39, 45, 17, 22}}\n",
      "{{3, 36, 39, 8, 45, 17, 22}}\n",
      "{{3, 36, 39, 13, 45, 17, 22}}\n",
      "{{3, 36, 39, 8, 13, 45, 17, 22}}\n",
      "{{36, 45, 87}}\n",
      "{{8, 36, 45, 87}}\n",
      "{{45, 36, 13, 87}}\n",
      "{{36, 8, 45, 13, 87}}\n",
      "{{3, 36, 45, 87}}\n",
      "{{3, 36, 8, 45, 87}}\n",
      "{{3, 36, 45, 13, 87}}\n",
      "{{3, 36, 8, 45, 13, 87}}\n",
      "{{36, 45, 22, 87}}\n",
      "{{36, 8, 45, 22, 87}}\n",
      "{{36, 45, 13, 22, 87}}\n",
      "{{36, 8, 45, 13, 22, 87}}\n",
      "{{3, 36, 45, 22, 87}}\n",
      "{{3, 36, 8, 45, 22, 87}}\n",
      "{{3, 36, 45, 13, 22, 87}}\n",
      "{{3, 36, 8, 13, 45, 22, 87}}\n",
      "{{17, 36, 45, 87}}\n",
      "{{36, 8, 45, 17, 87}}\n",
      "{{36, 45, 13, 17, 87}}\n",
      "{{36, 8, 45, 13, 17, 87}}\n",
      "{{3, 36, 45, 17, 87}}\n",
      "{{3, 36, 8, 45, 17, 87}}\n",
      "{{3, 36, 45, 13, 17, 87}}\n",
      "{{3, 36, 8, 13, 45, 17, 87}}\n",
      "{{36, 45, 17, 22, 87}}\n",
      "{{36, 8, 45, 17, 22, 87}}\n",
      "{{36, 45, 13, 17, 22, 87}}\n",
      "{{36, 8, 13, 45, 17, 22, 87}}\n",
      "{{3, 36, 45, 17, 22, 87}}\n",
      "{{3, 36, 8, 45, 17, 22, 87}}\n",
      "{{3, 36, 13, 45, 17, 22, 87}}\n",
      "{{3, 36, 8, 13, 45, 17, 22, 87}}\n",
      "{{36, 45, 87, 39}}\n",
      "{{36, 39, 8, 45, 87}}\n",
      "{{36, 39, 45, 13, 87}}\n",
      "{{36, 39, 8, 45, 13, 87}}\n",
      "{{3, 36, 39, 45, 87}}\n",
      "{{3, 36, 39, 8, 45, 87}}\n",
      "{{3, 36, 39, 45, 13, 87}}\n",
      "{{3, 36, 39, 8, 13, 45, 87}}\n",
      "{{36, 39, 45, 22, 87}}\n",
      "{{36, 39, 8, 45, 22, 87}}\n",
      "{{36, 39, 45, 13, 22, 87}}\n",
      "{{36, 39, 8, 13, 45, 22, 87}}\n",
      "{{3, 36, 39, 45, 22, 87}}\n",
      "{{3, 36, 39, 8, 45, 22, 87}}\n",
      "{{3, 36, 39, 13, 45, 22, 87}}\n",
      "{{3, 36, 39, 8, 13, 45, 22, 87}}\n",
      "{{36, 39, 45, 17, 87}}\n",
      "{{36, 39, 8, 45, 17, 87}}\n",
      "{{36, 39, 45, 13, 17, 87}}\n",
      "{{36, 39, 8, 13, 45, 17, 87}}\n",
      "{{3, 36, 39, 45, 17, 87}}\n",
      "{{3, 36, 39, 8, 45, 17, 87}}\n",
      "{{3, 36, 39, 13, 45, 17, 87}}\n",
      "{{3, 36, 39, 8, 13, 45, 17, 87}}\n",
      "{{36, 39, 45, 17, 22, 87}}\n",
      "{{36, 39, 8, 45, 17, 22, 87}}\n",
      "{{36, 39, 13, 45, 17, 22, 87}}\n",
      "{{36, 39, 8, 13, 45, 17, 22, 87}}\n",
      "{{3, 36, 39, 45, 17, 22, 87}}\n",
      "{{3, 36, 39, 8, 45, 17, 22, 87}}\n",
      "{{3, 36, 39, 13, 45, 17, 22, 87}}\n",
      "{{3, 36, 39, 8, 13, 45, 17, 22, 87}}\n",
      "****Total*****512\n"
     ]
    }
   ],
   "source": [
    "def get_bit(num, bit):\n",
    "    temp = (1 << bit)\n",
    "    temp = temp & num\n",
    "    if temp == 0:\n",
    "      return 0\n",
    "    return 1\n",
    "        \n",
    "def get_all_subsets(v, sets):\n",
    "    subsets_count = 2 ** len(v)\n",
    "    for i in range(0, subsets_count):\n",
    "      st = set([])\n",
    "      for j in range(0, len(v)):\n",
    "         if get_bit(i, j) == 1:\n",
    "            st.add(v[j])\n",
    "      sets.append(st)\n",
    "      \n",
    "def main():\n",
    "    v = [8,13,3,22,17,39,87,45,36]\n",
    "    subsets = []\n",
    "    get_all_subsets(v, subsets);\n",
    "    print(\"****Total*****\" + str(len(subsets)))\n",
    "    for i in range(0, len(subsets)):\n",
    "        print(\"{\", end = \"\")\n",
    "        print(subsets[i], end = \"\")\n",
    "        print(\"}\")\n",
    "    print(\"****Total*****\" + str(len(subsets)))\n",
    "\n",
    "main()  "
   ]
  },
  {
   "cell_type": "code",
   "execution_count": null,
   "id": "8d43577d-ef67-4d0e-8f34-383baa527311",
   "metadata": {},
   "outputs": [],
   "source": []
  },
  {
   "cell_type": "markdown",
   "id": "4a1c3070-77ec-4e58-9ba7-c2ccf883ca90",
   "metadata": {},
   "source": [
    "# Sorting and Searching: Find the high and low index"
   ]
  },
  {
   "cell_type": "code",
   "execution_count": 37,
   "id": "e4fe71b1-e926-41f9-80a8-14072e3b5230",
   "metadata": {},
   "outputs": [
    {
     "name": "stdout",
     "output_type": "stream",
     "text": [
      "Low Index of 5: 15\n",
      "High Index of 5: 17\n",
      "Low Index of -2: -1\n",
      "High Index of -2: -1\n"
     ]
    }
   ],
   "source": [
    "def find_low_index(arr, key):\n",
    "  \n",
    "  low = 0\n",
    "  high = len(arr) - 1\n",
    "  mid = int(high / 2)\n",
    "\n",
    "  while low <= high:\n",
    "\n",
    "    mid_elem = arr[mid]\n",
    "\n",
    "    if mid_elem < key:\n",
    "      low = mid + 1\n",
    "    else:\n",
    "      high = mid - 1\n",
    "\n",
    "    mid = low + int((high - low) / 2)\n",
    "\n",
    "  if low < len(arr) and arr[low] == key:\n",
    "    return low\n",
    "\n",
    "  return -1\n",
    "\n",
    "def find_high_index(arr, key):\n",
    "  low = 0\n",
    "  high = len(arr) - 1\n",
    "  mid = int(high / 2)\n",
    "\n",
    "  while low <= high:\n",
    "    mid_elem = arr[mid]\n",
    "\n",
    "    if mid_elem <= key:\n",
    "      low = mid + 1\n",
    "    else:\n",
    "      high = mid - 1\n",
    "\n",
    "    mid = low + int((high - low) / 2);\n",
    "  \n",
    "  if high == -1:\n",
    "    return high\n",
    "\n",
    "  if high < len(arr) and arr[high] == key:\n",
    "    return high\n",
    "\n",
    "  return -1\n",
    "\n",
    "\n",
    "array = [1, 1, 1, 2, 2, 2, 2, 2, 3, 3, 3, 4, 4, 4, 4, 5, 5, 5, 6, 6, 6, 6, 6, 6]\n",
    "key = 5\n",
    "low = find_low_index(array, key)\n",
    "high = find_high_index(array, key)\n",
    "print(\"Low Index of \" + str(key) + \": \" + str(low))\n",
    "print(\"High Index of \" + str(key) + \": \" + str(high))\n",
    "\n",
    "key = -2\n",
    "low = find_low_index(array, key)\n",
    "high = find_high_index(array, key)\n",
    "print(\"Low Index of \" + str(key) + \": \" + str(low))\n",
    "print(\"High Index of \" + str(key) + \": \" + str(high))"
   ]
  },
  {
   "cell_type": "code",
   "execution_count": null,
   "id": "d6b0236a-acfb-445c-b9b8-e3d8ae64318d",
   "metadata": {},
   "outputs": [],
   "source": []
  },
  {
   "cell_type": "code",
   "execution_count": null,
   "id": "10086cd3-86c8-444c-a238-44c34919adef",
   "metadata": {},
   "outputs": [],
   "source": []
  },
  {
   "cell_type": "code",
   "execution_count": null,
   "id": "2c07f02a-817e-4c94-9fe0-fc6661d07ed0",
   "metadata": {},
   "outputs": [],
   "source": []
  },
  {
   "cell_type": "markdown",
   "id": "bf097274-d0ae-4629-aef2-dcf19880d437",
   "metadata": {},
   "source": [
    "# Sorting and Searching: Search rotated array"
   ]
  },
  {
   "cell_type": "code",
   "execution_count": 38,
   "id": "e40e029b-a996-4502-8374-e85df7ef84d4",
   "metadata": {},
   "outputs": [
    {
     "name": "stdout",
     "output_type": "stream",
     "text": [
      "Key(3) found at: 4\n",
      "Key(6) found at: 0\n",
      "Key(3) found at: 5\n",
      "Key(6) found at: 2\n"
     ]
    }
   ],
   "source": [
    "def binary_search(arr, start, end, key):\n",
    "  # assuming all the keys are unique.\n",
    "  \n",
    "  if (start > end):\n",
    "    return -1;\n",
    "\n",
    "  mid = int(start + (end - start) / 2)\n",
    "\n",
    "  if arr[mid] == key:\n",
    "    return mid\n",
    "    \n",
    "  if arr[start] <= arr[mid] and key <= arr[mid] and key >= arr[start]:\n",
    "    return binary_search(arr, start, mid - 1, key)\n",
    "  \n",
    "  elif arr[mid] <= arr[end] and key >= arr[mid] and key <= arr[end]: \n",
    "    return binary_search(arr, mid + 1, end, key)\n",
    "\n",
    "  elif arr[end] <= arr[mid]:\n",
    "    return binary_search(arr, mid + 1, end, key)\n",
    "\n",
    "  elif arr[start] >= arr[mid]:\n",
    "    return binary_search(arr, start, mid - 1, key)\n",
    "\n",
    "  return -1;\n",
    "\n",
    "def binary_search_rotated(arr, key):\n",
    "  return binary_search(arr, 0, len(arr)-1, key)\n",
    "\n",
    "v1 = [6, 7, 1, 2, 3, 4, 5];\n",
    "  \n",
    "print(\"Key(3) found at: \" + str(binary_search_rotated(v1, 3)))\n",
    "print(\"Key(6) found at: \" + str(binary_search_rotated(v1, 6)))\n",
    "  \n",
    "v2 = [4, 5, 6, 1, 2, 3];\n",
    "  \n",
    "print(\"Key(3) found at: \" + str(binary_search_rotated(v2, 3)))\n",
    "print(\"Key(6) found at: \" + str(binary_search_rotated(v2, 6)))   "
   ]
  },
  {
   "cell_type": "code",
   "execution_count": null,
   "id": "f2601f5e-9655-4650-a117-5c329f6e9580",
   "metadata": {},
   "outputs": [],
   "source": []
  },
  {
   "cell_type": "markdown",
   "id": "25840168-10d0-4805-8594-29945e075b6c",
   "metadata": {},
   "source": [
    "# Python Casting"
   ]
  },
  {
   "cell_type": "code",
   "execution_count": 43,
   "id": "79d56cf0-95fa-4f72-bd1c-a4515217d6df",
   "metadata": {},
   "outputs": [
    {
     "data": {
      "text/plain": [
       "2"
      ]
     },
     "execution_count": 43,
     "metadata": {},
     "output_type": "execute_result"
    }
   ],
   "source": [
    "x = int(1)   # x will be 1\n",
    "y = int(2.8) # y will be 2\n",
    "z = int(\"3\") # z will be 3\n",
    "\n",
    "y\n"
   ]
  },
  {
   "cell_type": "code",
   "execution_count": 47,
   "id": "5202fa5e-3031-4620-9e15-76f0de31fa56",
   "metadata": {},
   "outputs": [
    {
     "data": {
      "text/plain": [
       "3.0"
      ]
     },
     "execution_count": 47,
     "metadata": {},
     "output_type": "execute_result"
    }
   ],
   "source": [
    "x = float(1)     # x will be 1.0\n",
    "y = float(2.8)   # y will be 2.8\n",
    "z = float(\"3\")   # z will be 3.0\n",
    "w = float(\"4.2\") # w will be 4.2\n",
    "\n",
    "z"
   ]
  },
  {
   "cell_type": "code",
   "execution_count": null,
   "id": "2abbdc07-a53d-48c0-934c-7cb433966249",
   "metadata": {},
   "outputs": [],
   "source": []
  },
  {
   "cell_type": "code",
   "execution_count": 2,
   "id": "d5dc37aa-90e8-47e4-a4b2-b89549a8b4da",
   "metadata": {},
   "outputs": [
    {
     "name": "stdout",
     "output_type": "stream",
     "text": [
      "Lorem ipsum dolor sit amet,\n",
      "consectetur adipiscing elit,\n",
      "sed do eiusmod tempor incididunt\n",
      "ut labore et dolore magna aliqua.\n"
     ]
    }
   ],
   "source": [
    "a = '''Lorem ipsum dolor sit amet,\n",
    "consectetur adipiscing elit,\n",
    "sed do eiusmod tempor incididunt\n",
    "ut labore et dolore magna aliqua.'''\n",
    "print(a)"
   ]
  },
  {
   "cell_type": "code",
   "execution_count": null,
   "id": "886d6ea9-d919-40a7-bde3-29198956c1ba",
   "metadata": {},
   "outputs": [],
   "source": []
  },
  {
   "cell_type": "markdown",
   "id": "306736cd-635f-4029-b80f-1e0b1be1cfc7",
   "metadata": {},
   "source": [
    "# Get the character at position 1 (remember that the first character has the position 0):"
   ]
  },
  {
   "cell_type": "code",
   "execution_count": 50,
   "id": "c2d9b723-7795-4710-8262-44e5e26d3aab",
   "metadata": {},
   "outputs": [
    {
     "name": "stdout",
     "output_type": "stream",
     "text": [
      "e\n"
     ]
    }
   ],
   "source": [
    "a = \"Hello, World!\"\n",
    "print(a[1])"
   ]
  },
  {
   "cell_type": "code",
   "execution_count": null,
   "id": "23af4594-bd4d-4603-8437-899711e9c112",
   "metadata": {},
   "outputs": [],
   "source": []
  },
  {
   "cell_type": "markdown",
   "id": "d3c46f98-cbe6-4691-9779-47582cc449e6",
   "metadata": {},
   "source": [
    "# Loop through the letters in the word \"banana\":"
   ]
  },
  {
   "cell_type": "code",
   "execution_count": 51,
   "id": "7b372fe1-0970-480a-b9a2-44b22167f45b",
   "metadata": {},
   "outputs": [
    {
     "name": "stdout",
     "output_type": "stream",
     "text": [
      "b\n",
      "a\n",
      "n\n",
      "a\n",
      "n\n",
      "a\n"
     ]
    }
   ],
   "source": [
    "for x in \"banana\":\n",
    "  print(x)"
   ]
  },
  {
   "cell_type": "code",
   "execution_count": null,
   "id": "b90ae4ec-5f72-4f2a-9757-87375fd6f69c",
   "metadata": {},
   "outputs": [],
   "source": []
  },
  {
   "cell_type": "markdown",
   "id": "f3204c25-33c0-4c52-84fb-6bd5625a9a73",
   "metadata": {},
   "source": [
    "# The len() function returns the length of a string:"
   ]
  },
  {
   "cell_type": "code",
   "execution_count": 52,
   "id": "d93230a6-8b19-4fbd-9f79-a8585a8e95b6",
   "metadata": {},
   "outputs": [
    {
     "name": "stdout",
     "output_type": "stream",
     "text": [
      "13\n"
     ]
    }
   ],
   "source": [
    "a = \"Hello, World!\"\n",
    "print(len(a))"
   ]
  },
  {
   "cell_type": "code",
   "execution_count": null,
   "id": "53fb438e-e427-430f-9b04-959dfc0f58b7",
   "metadata": {},
   "outputs": [],
   "source": []
  },
  {
   "cell_type": "markdown",
   "id": "ad083e20-3e18-4ef0-a1c8-1d1251106b4a",
   "metadata": {},
   "source": [
    "# Check if \"free\" is present in the following text::"
   ]
  },
  {
   "cell_type": "code",
   "execution_count": 53,
   "id": "e14e02c2-3489-4ca4-96e3-527bb8fc07ff",
   "metadata": {},
   "outputs": [
    {
     "name": "stdout",
     "output_type": "stream",
     "text": [
      "True\n"
     ]
    }
   ],
   "source": [
    "txt = \"The best things in life are free!\"\n",
    "print(\"free\" in txt)"
   ]
  },
  {
   "cell_type": "code",
   "execution_count": null,
   "id": "03e8e534-1055-4ce6-9ea8-ed7bdd4c790a",
   "metadata": {},
   "outputs": [],
   "source": []
  },
  {
   "cell_type": "markdown",
   "id": "4e41fbee-d4e2-4b98-bc64-326a1ef6d33f",
   "metadata": {},
   "source": [
    "# Or Use it in an if statement::"
   ]
  },
  {
   "cell_type": "code",
   "execution_count": 56,
   "id": "c6975e2f-2762-4ab5-ac43-f23bdaca949f",
   "metadata": {},
   "outputs": [
    {
     "name": "stdout",
     "output_type": "stream",
     "text": [
      "Yes, 'free' is present.\n"
     ]
    }
   ],
   "source": [
    "txt = \"The best things in life are free!\"\n",
    "if \"free\" in txt:\n",
    "  print(\"Yes, 'free' is present.\")\n",
    "else:\n",
    "    print(\"No, 'free' is not present.\")"
   ]
  },
  {
   "cell_type": "code",
   "execution_count": null,
   "id": "138a7c82-1fa9-41d7-a1fd-a3c4239b4a1b",
   "metadata": {},
   "outputs": [],
   "source": []
  },
  {
   "cell_type": "markdown",
   "id": "09633153-6982-41cc-8fc0-d04fd3b02f5a",
   "metadata": {},
   "source": [
    "# To check if a certain phrase or character is NOT present in a string, we can use the keyword not in:"
   ]
  },
  {
   "cell_type": "code",
   "execution_count": 57,
   "id": "632d3114-746c-4a99-be1c-58a6f4769078",
   "metadata": {},
   "outputs": [
    {
     "name": "stdout",
     "output_type": "stream",
     "text": [
      "True\n"
     ]
    }
   ],
   "source": [
    "txt = \"The best things in life are free!\"\n",
    "print(\"expensive\" not in txt)"
   ]
  },
  {
   "cell_type": "code",
   "execution_count": null,
   "id": "0ba0fc88-1167-4ca4-a692-aefff519f85b",
   "metadata": {},
   "outputs": [],
   "source": []
  },
  {
   "cell_type": "markdown",
   "id": "8ca663df-d21f-431c-a31d-ea0a42fc97bd",
   "metadata": {},
   "source": [
    "# or Use it in an if statement:"
   ]
  },
  {
   "cell_type": "code",
   "execution_count": 61,
   "id": "39f8ba86-53aa-4cf5-af39-c29320163121",
   "metadata": {},
   "outputs": [
    {
     "name": "stdout",
     "output_type": "stream",
     "text": [
      "No, 'expensive' is NOT present.\n"
     ]
    }
   ],
   "source": [
    "txt = \"The best things in life are free!\"\n",
    "if \"expensive\" not in txt:\n",
    "  print(\"No, 'expensive' is NOT present.\")\n",
    "else:\n",
    "    print(\"Yes, 'expensive' is present.\")"
   ]
  },
  {
   "cell_type": "code",
   "execution_count": null,
   "id": "4c11b293-bd92-4906-a8a1-b520a1914e6d",
   "metadata": {},
   "outputs": [],
   "source": []
  },
  {
   "cell_type": "markdown",
   "id": "bec035b5-064a-4963-b663-698256bd81be",
   "metadata": {},
   "source": [
    "# Slicing\n",
    "# You can return a range of characters by using the slice syntax.\n",
    "\n",
    "# Specify the start index and the end index, separated by a colon, to return a part of the string.\n",
    "\n",
    "# Example: Note: The first character has index 0."
   ]
  },
  {
   "cell_type": "code",
   "execution_count": 63,
   "id": "484e365a-046e-4f51-b39c-6d0880906874",
   "metadata": {},
   "outputs": [
    {
     "name": "stdout",
     "output_type": "stream",
     "text": [
      "llo\n"
     ]
    }
   ],
   "source": [
    "b = \"Hello, World!\"\n",
    "print(b[2:5])"
   ]
  },
  {
   "cell_type": "code",
   "execution_count": null,
   "id": "d1d28c99-ac35-4631-aa7a-e1ee5b06eade",
   "metadata": {},
   "outputs": [],
   "source": []
  },
  {
   "cell_type": "markdown",
   "id": "cf5cc7ef-515e-46de-bd7c-eb88321d71d9",
   "metadata": {},
   "source": [
    "# Get the characters from the start to position 5 (not included):"
   ]
  },
  {
   "cell_type": "code",
   "execution_count": 64,
   "id": "eb7fa1a4-2f82-4dfd-aec6-fe5c4b65dc57",
   "metadata": {},
   "outputs": [
    {
     "name": "stdout",
     "output_type": "stream",
     "text": [
      "Hello\n"
     ]
    }
   ],
   "source": [
    "b = \"Hello, World!\"\n",
    "print(b[:5])"
   ]
  },
  {
   "cell_type": "code",
   "execution_count": null,
   "id": "ca3c3f05-4a4b-45ed-95a6-b676946d9d25",
   "metadata": {},
   "outputs": [],
   "source": []
  },
  {
   "cell_type": "markdown",
   "id": "4a8db5d0-53cd-4156-9b68-a572f32bc0c2",
   "metadata": {},
   "source": [
    "# Slice To the End\n",
    "# By leaving out the end index, the range will go to the end:\n",
    "\n",
    "# Example\n",
    "# Get the characters from position 2, and all the way to the end:"
   ]
  },
  {
   "cell_type": "code",
   "execution_count": 65,
   "id": "e7f791f2-0902-4864-965e-b67c565cc774",
   "metadata": {},
   "outputs": [
    {
     "name": "stdout",
     "output_type": "stream",
     "text": [
      "llo, World!\n"
     ]
    }
   ],
   "source": [
    "b = \"Hello, World!\"\n",
    "print(b[2:])"
   ]
  },
  {
   "cell_type": "code",
   "execution_count": null,
   "id": "e765c27f-a098-4041-8724-2e579d40c3d7",
   "metadata": {},
   "outputs": [],
   "source": []
  },
  {
   "cell_type": "markdown",
   "id": "f910c08a-4646-4c7a-98b5-562b3f376847",
   "metadata": {},
   "source": [
    "# Negative Indexing\n",
    "# Use negative indexes to start the slice from the end of the string:\n",
    "# Example\n",
    "# Get the characters:\n",
    "\n",
    "# From: \"o\" in \"World!\" (position -5)\n",
    "\n",
    "# To, but not included: \"d\" in \"World!\" (position -2):"
   ]
  },
  {
   "cell_type": "code",
   "execution_count": 66,
   "id": "af6e7549-63c8-49f6-a3e2-4640967a1a8d",
   "metadata": {},
   "outputs": [
    {
     "name": "stdout",
     "output_type": "stream",
     "text": [
      "orl\n"
     ]
    }
   ],
   "source": [
    "b = \"Hello, World!\"\n",
    "print(b[-5:-2])"
   ]
  },
  {
   "cell_type": "code",
   "execution_count": null,
   "id": "74beebd7-5700-4af7-afd3-133f59093504",
   "metadata": {},
   "outputs": [],
   "source": []
  },
  {
   "cell_type": "markdown",
   "id": "c2371a18-295c-4c39-8945-62fa36eebafd",
   "metadata": {},
   "source": [
    "# Python - Modify Strings:\n",
    "# The upper() method returns the string in upper case:"
   ]
  },
  {
   "cell_type": "code",
   "execution_count": 67,
   "id": "e7e5294b-b8ac-4250-9e34-fd062d13ab7f",
   "metadata": {},
   "outputs": [
    {
     "name": "stdout",
     "output_type": "stream",
     "text": [
      "HELLO, WORLD!\n"
     ]
    }
   ],
   "source": [
    "a = \"Hello, World!\"\n",
    "print(a.upper())"
   ]
  },
  {
   "cell_type": "code",
   "execution_count": null,
   "id": "f9bd4159-1201-4e53-ae0c-4963353db51c",
   "metadata": {},
   "outputs": [],
   "source": []
  },
  {
   "cell_type": "markdown",
   "id": "d3a95bd6-467e-4e74-a44a-0e73dfbce2e7",
   "metadata": {},
   "source": [
    "# The lower() method returns the string in lower case:"
   ]
  },
  {
   "cell_type": "code",
   "execution_count": 68,
   "id": "e9e2d40a-47ac-44a9-b4d8-abdacab31a83",
   "metadata": {},
   "outputs": [
    {
     "name": "stdout",
     "output_type": "stream",
     "text": [
      "hello, world!\n"
     ]
    }
   ],
   "source": [
    "a = \"Hello, World!\"\n",
    "print(a.lower())"
   ]
  },
  {
   "cell_type": "code",
   "execution_count": null,
   "id": "47bf9491-01a4-4b2c-9fd2-89d99a9b0d82",
   "metadata": {},
   "outputs": [],
   "source": []
  },
  {
   "cell_type": "markdown",
   "id": "e4abaa8f-7cb5-4a70-9ce4-721bb4f86669",
   "metadata": {},
   "source": [
    "# Remove Whitespace\n",
    "# Whitespace is the space before and/or after the actual text, and very often you want to remove this space:"
   ]
  },
  {
   "cell_type": "code",
   "execution_count": 69,
   "id": "764bc5e7-0025-4312-9313-9b493eec23c8",
   "metadata": {},
   "outputs": [
    {
     "name": "stdout",
     "output_type": "stream",
     "text": [
      "Hello, World!\n"
     ]
    }
   ],
   "source": [
    "a = \" Hello, World! \"\n",
    "print(a.strip()) # returns \"Hello, World!\""
   ]
  },
  {
   "cell_type": "code",
   "execution_count": null,
   "id": "5a0c9760-7fa1-4ac8-90da-d55cad6f05d2",
   "metadata": {},
   "outputs": [],
   "source": []
  },
  {
   "cell_type": "markdown",
   "id": "6de02fb6-2734-41f9-9b4b-99b8b99fe218",
   "metadata": {},
   "source": [
    "# Replace String:\n",
    "# The replace() method replaces a string with another string:"
   ]
  },
  {
   "cell_type": "code",
   "execution_count": 70,
   "id": "a6edc47a-0382-4100-a88d-8d21951778d4",
   "metadata": {},
   "outputs": [
    {
     "name": "stdout",
     "output_type": "stream",
     "text": [
      "Jello, World!\n"
     ]
    }
   ],
   "source": [
    "a = \"Hello, World!\"\n",
    "print(a.replace(\"H\", \"J\"))"
   ]
  },
  {
   "cell_type": "code",
   "execution_count": null,
   "id": "76a85492-f8e7-45f8-b47c-7af77f8abb40",
   "metadata": {},
   "outputs": [],
   "source": []
  },
  {
   "cell_type": "code",
   "execution_count": null,
   "id": "d163367d-27dc-452d-845e-ce15f9f77097",
   "metadata": {},
   "outputs": [],
   "source": [
    "# Split String:\n",
    "# The split() method splits the string into substrings if it finds instances of the separator:"
   ]
  },
  {
   "cell_type": "code",
   "execution_count": 71,
   "id": "d31cad37-2721-44b4-b8bb-d2493305e427",
   "metadata": {},
   "outputs": [
    {
     "name": "stdout",
     "output_type": "stream",
     "text": [
      "['Hello', ' World!']\n"
     ]
    }
   ],
   "source": [
    "a = \"Hello, World!\"\n",
    "print(a.split(\",\")) # returns ['Hello', ' World!']"
   ]
  },
  {
   "cell_type": "code",
   "execution_count": null,
   "id": "196e578d-1250-4e67-847e-29e51ce1b6bc",
   "metadata": {},
   "outputs": [],
   "source": []
  },
  {
   "cell_type": "markdown",
   "id": "d3d626c1-2e5a-44f2-b189-39e5f1d8aabb",
   "metadata": {},
   "source": [
    "# String Concatenation:\n",
    "# Merge variable a with variable b into variable c:"
   ]
  },
  {
   "cell_type": "code",
   "execution_count": 1,
   "id": "7cd6e546-343a-4137-954f-c2eedb0ef371",
   "metadata": {},
   "outputs": [
    {
     "name": "stdout",
     "output_type": "stream",
     "text": [
      "HelloWorld\n"
     ]
    }
   ],
   "source": [
    "a = \"Hello\"\n",
    "b = \"World\"\n",
    "c = a + b\n",
    "print(c)"
   ]
  },
  {
   "cell_type": "code",
   "execution_count": null,
   "id": "b4d059f0-12c5-44de-a037-37b4a93a78e6",
   "metadata": {},
   "outputs": [],
   "source": []
  },
  {
   "cell_type": "markdown",
   "id": "4cd3b760-90f9-4c0c-ba21-12d1f89beb6e",
   "metadata": {},
   "source": [
    "# String Concatenation:\n",
    "# To add a space between them, add a \" \":"
   ]
  },
  {
   "cell_type": "code",
   "execution_count": 2,
   "id": "3cb12e09-89a3-4b55-ba90-d56fa82bf23e",
   "metadata": {},
   "outputs": [
    {
     "name": "stdout",
     "output_type": "stream",
     "text": [
      "Hello World\n"
     ]
    }
   ],
   "source": [
    "a = \"Hello\"\n",
    "b = \"World\"\n",
    "c = a + \" \" + b\n",
    "print(c)"
   ]
  },
  {
   "cell_type": "code",
   "execution_count": null,
   "id": "35d0b996-b6a4-43ff-9ccc-356b9faa4337",
   "metadata": {},
   "outputs": [],
   "source": []
  },
  {
   "cell_type": "markdown",
   "id": "7f37ce77-ffab-40f2-b8ee-7f9823b46be1",
   "metadata": {},
   "source": [
    "# Python - Format - Strings\n",
    "# As we learned in the Python Variables chapter, we cannot combine strings and numbers like this:\n"
   ]
  },
  {
   "cell_type": "code",
   "execution_count": 5,
   "id": "d504dbd4-d7cb-49db-8332-05042f3e686e",
   "metadata": {},
   "outputs": [
    {
     "ename": "TypeError",
     "evalue": "can only concatenate str (not \"int\") to str",
     "output_type": "error",
     "traceback": [
      "\u001b[1;31m---------------------------------------------------------------------------\u001b[0m",
      "\u001b[1;31mTypeError\u001b[0m                                 Traceback (most recent call last)",
      "Input \u001b[1;32mIn [5]\u001b[0m, in \u001b[0;36m<cell line: 2>\u001b[1;34m()\u001b[0m\n\u001b[0;32m      1\u001b[0m age \u001b[38;5;241m=\u001b[39m \u001b[38;5;241m36\u001b[39m\n\u001b[1;32m----> 2\u001b[0m txt \u001b[38;5;241m=\u001b[39m \u001b[38;5;124;43m\"\u001b[39;49m\u001b[38;5;124;43mMy name is John, I am \u001b[39;49m\u001b[38;5;124;43m\"\u001b[39;49m\u001b[43m \u001b[49m\u001b[38;5;241;43m+\u001b[39;49m\u001b[43m \u001b[49m\u001b[43mage\u001b[49m\n\u001b[0;32m      3\u001b[0m \u001b[38;5;28mprint\u001b[39m(txt)\n",
      "\u001b[1;31mTypeError\u001b[0m: can only concatenate str (not \"int\") to str"
     ]
    }
   ],
   "source": [
    "age = 36\n",
    "txt = \"My name is John, I am \" + age\n",
    "print(txt)"
   ]
  },
  {
   "cell_type": "markdown",
   "id": "6f3c01f8-004a-4544-9a42-c81c6de732ca",
   "metadata": {},
   "source": [
    "# But we can combine strings and numbers by using the format() method!"
   ]
  },
  {
   "cell_type": "code",
   "execution_count": 6,
   "id": "1b04f423-7632-40bd-aa95-dd35139bb76b",
   "metadata": {},
   "outputs": [
    {
     "name": "stdout",
     "output_type": "stream",
     "text": [
      "My name is John, and I am 36\n"
     ]
    }
   ],
   "source": [
    "age = 36\n",
    "txt = \"My name is John, and I am {}\"\n",
    "print(txt.format(age))"
   ]
  },
  {
   "cell_type": "code",
   "execution_count": null,
   "id": "03347900-de1c-4615-aa82-56055b14323b",
   "metadata": {},
   "outputs": [],
   "source": []
  },
  {
   "cell_type": "code",
   "execution_count": 7,
   "id": "1fa86be8-8efa-4ca2-aa34-16c8372044cc",
   "metadata": {},
   "outputs": [
    {
     "name": "stdout",
     "output_type": "stream",
     "text": [
      "I want 3 pieces of item 567 for 49.95 dollars.\n"
     ]
    }
   ],
   "source": [
    "quantity = 3\n",
    "itemno = 567\n",
    "price = 49.95\n",
    "myorder = \"I want {} pieces of item {} for {} dollars.\"\n",
    "print(myorder.format(quantity, itemno, price))"
   ]
  },
  {
   "cell_type": "code",
   "execution_count": null,
   "id": "0f34c3c4-906a-419a-ba49-e41e0d054060",
   "metadata": {},
   "outputs": [],
   "source": []
  },
  {
   "cell_type": "code",
   "execution_count": 9,
   "id": "844f6768-1c2c-48a6-98d2-22e934bd047d",
   "metadata": {},
   "outputs": [
    {
     "name": "stdout",
     "output_type": "stream",
     "text": [
      "I want to pay 49.95 dollars for 3 pieces of item 567.\n"
     ]
    }
   ],
   "source": [
    "quantity = 3\n",
    "itemno = 567\n",
    "price = 49.95\n",
    "myorder = \"I want to pay {2} dollars for {0} pieces of item {1}.\"\n",
    "print(myorder.format(quantity, itemno, price))\n"
   ]
  },
  {
   "cell_type": "code",
   "execution_count": null,
   "id": "2e1394b4-8e84-45e1-b228-f1d9ecd9b22b",
   "metadata": {},
   "outputs": [],
   "source": []
  },
  {
   "cell_type": "markdown",
   "id": "93fddcbb-8ee1-436a-b66b-cf0c2aa56ec4",
   "metadata": {},
   "source": [
    "# Python - Escape Characters\n",
    "\n",
    "# To insert characters that are illegal in a string, use an escape character.\n",
    "\n",
    "# An escape character is a backslash \\ followed by the character you want to insert.\n",
    "\n",
    "# An example of an illegal character is a double quote inside a string that is surrounded by double quotes:\n",
    "\n",
    "# Example\n",
    "# You will get an error if you use double quotes inside a string that is surrounded by double quotes:\n"
   ]
  },
  {
   "cell_type": "code",
   "execution_count": 2,
   "id": "cf355180-6196-40f8-b508-be4413ee09b4",
   "metadata": {},
   "outputs": [
    {
     "ename": "SyntaxError",
     "evalue": "invalid syntax (2903018907.py, line 1)",
     "output_type": "error",
     "traceback": [
      "\u001b[1;36m  Input \u001b[1;32mIn [2]\u001b[1;36m\u001b[0m\n\u001b[1;33m    txt = \"We are the so-called \"Vikings\" from the north.\"\u001b[0m\n\u001b[1;37m                                 ^\u001b[0m\n\u001b[1;31mSyntaxError\u001b[0m\u001b[1;31m:\u001b[0m invalid syntax\n"
     ]
    }
   ],
   "source": [
    "txt = \"We are the so-called \"Vikings\" from the north.\"\n",
    "\n",
    "txt"
   ]
  },
  {
   "cell_type": "markdown",
   "id": "13dd0dbe-25ad-4033-945a-f929a502da42",
   "metadata": {},
   "source": [
    "# To fix this problem, use the escape character \\\":"
   ]
  },
  {
   "cell_type": "code",
   "execution_count": 4,
   "id": "8f4cc73a-cbbc-4d7e-9e0a-708a9acb776e",
   "metadata": {},
   "outputs": [
    {
     "data": {
      "text/plain": [
       "'We are the so-called \"Vikings\" from the north.'"
      ]
     },
     "execution_count": 4,
     "metadata": {},
     "output_type": "execute_result"
    }
   ],
   "source": [
    "txt = \"We are the so-called \\\"Vikings\\\" from the north.\"\n",
    "txt"
   ]
  },
  {
   "cell_type": "code",
   "execution_count": null,
   "id": "fae6bbdc-587d-431b-883d-b8b01f141d59",
   "metadata": {},
   "outputs": [],
   "source": []
  },
  {
   "cell_type": "markdown",
   "id": "0704a47a-166c-4fc2-8764-26de82809185",
   "metadata": {},
   "source": [
    "# Python - String Methods\n",
    "# Python has a set of built-in methods that you can use on strings.\n",
    "# Note: All string methods returns new values. They do not change the original string.\n",
    "# The capitalize() method returns a string where the first character is upper case, and the rest is lower case"
   ]
  },
  {
   "cell_type": "code",
   "execution_count": 5,
   "id": "9d2c532d-1549-49c5-aec1-c0b721426878",
   "metadata": {},
   "outputs": [
    {
     "name": "stdout",
     "output_type": "stream",
     "text": [
      "Hello, and welcome to my world.\n"
     ]
    }
   ],
   "source": [
    "txt = \"hello, and welcome to my world.\"\n",
    "\n",
    "x = txt.capitalize()\n",
    "\n",
    "print (x)"
   ]
  },
  {
   "cell_type": "code",
   "execution_count": null,
   "id": "c9b5130a-5ef2-4872-9167-9e0af34623cd",
   "metadata": {},
   "outputs": [],
   "source": []
  },
  {
   "cell_type": "markdown",
   "id": "1ced83e4-045d-45ed-9bef-ee7ea4bed645",
   "metadata": {},
   "source": [
    "# See Other String Methods and Descriptions below:\n",
    "\n",
    "\n",
    "# capitalize()\tConverts the first character to upper case\n",
    "\n",
    "# casefold()\tConverts string into lower case\n",
    "\n",
    "# center()\tReturns a centered string\n",
    "\n",
    "# count()\tReturns the number of times a specified value occurs in a string\n",
    "\n",
    "# encode()\tReturns an encoded version of the string\n",
    "\n",
    "# endswith()\tReturns true if the string ends with the specified value\n",
    "\n",
    "# expandtabs()\tSets the tab size of the string\n",
    "\n",
    "# find()\tSearches the string for a specified value and returns the position of where it was found\n",
    "\n",
    "# format()\tFormats specified values in a string\n",
    "\n",
    "# format_map()\tFormats specified values in a string\n",
    "\n",
    "# index()\tSearches the string for a specified value and returns the position of where it was found\n",
    "\n",
    "# isalnum()\tReturns True if all characters in the string are alphanumeric\n",
    "\n",
    "# isalpha()\tReturns True if all characters in the string are in the alphabet\n",
    "\n",
    "# isdecimal()\tReturns True if all characters in the string are decimals\n",
    "\n",
    "# isdigit()\tReturns True if all characters in the string are digits\n",
    "\n",
    "# isidentifier()\tReturns True if the string is an identifier\n",
    "\n",
    "# islower()\tReturns True if all characters in the string are lower case\n",
    "\n",
    "# isnumeric()\tReturns True if all characters in the string are numeric\n",
    "\n",
    "# isprintable()\tReturns True if all characters in the string are printable\n",
    "\n",
    "# isspace()\tReturns True if all characters in the string are whitespaces\n",
    "\n",
    "# istitle()\tReturns True if the string follows the rules of a title\n",
    "\n",
    "# isupper()\tReturns True if all characters in the string are upper case\n",
    "\n",
    "# join()\tJoins the elements of an iterable to the end of the string\n",
    "\n",
    "# ljust()\tReturns a left justified version of the string\n",
    "\n",
    "# lower()\tConverts a string into lower case\n",
    "\n",
    "# lstrip()\tReturns a left trim version of the string\n",
    "\n",
    "# maketrans()\tReturns a translation table to be used in translations\n",
    "\n",
    "# partition()\tReturns a tuple where the string is parted into three parts\n",
    "\n",
    "# replace()\tReturns a string where a specified value is replaced with a specified value\n",
    "\n",
    "# rfind()\tSearches the string for a specified value and returns the last position of where it was found\n",
    "\n",
    "# rindex()\tSearches the string for a specified value and returns the last position of where it was found\n",
    "\n",
    "# rjust()\tReturns a right justified version of the string\n",
    "\n",
    "# rpartition()\tReturns a tuple where the string is parted into three parts\n",
    "\n",
    "# rsplit()\tSplits the string at the specified separator, and returns a list\n",
    "\n",
    "# rstrip()\tReturns a right trim version of the string\n",
    "\n",
    "# split()\tSplits the string at the specified separator, and returns a list\n",
    "\n",
    "# splitlines()\tSplits the string at line breaks and returns a list\n",
    "\n",
    "# startswith()\tReturns true if the string starts with the specified value\n",
    "\n",
    "# strip()\tReturns a trimmed version of the string\n",
    "\n",
    "# swapcase()\tSwaps cases, lower case becomes upper case and vice versa\n",
    "\n",
    "# title()\tConverts the first character of each word to upper case\n",
    "\n",
    "# translate()\tReturns a translated string\n",
    "\n",
    "# upper()\tConverts a string into upper case\n",
    "\n",
    "# zfill()\tFills the string with a specified number of 0 values at the beginning"
   ]
  },
  {
   "cell_type": "code",
   "execution_count": 20,
   "id": "43aaf940-63a8-4d18-a94f-b8b7f9696960",
   "metadata": {},
   "outputs": [
    {
     "name": "stdout",
     "output_type": "stream",
     "text": [
      "hello, and welcome to my world!\n"
     ]
    }
   ],
   "source": [
    "# Converts string into lower case\n",
    "txt = \"Hello, And Welcome To My World!\"\n",
    "\n",
    "x = txt.casefold()\n",
    "\n",
    "print(x)"
   ]
  },
  {
   "cell_type": "code",
   "execution_count": null,
   "id": "c6455bbb-ba85-49ba-aecc-942064c6a222",
   "metadata": {},
   "outputs": [],
   "source": []
  },
  {
   "cell_type": "code",
   "execution_count": 10,
   "id": "87966cec-f042-404d-8574-4988fd738e26",
   "metadata": {},
   "outputs": [
    {
     "name": "stdout",
     "output_type": "stream",
     "text": [
      "       banana       \n"
     ]
    }
   ],
   "source": [
    "txt = \"banana\"\n",
    "\n",
    "x = txt.center(20)\n",
    "\n",
    "print(x)"
   ]
  },
  {
   "cell_type": "code",
   "execution_count": null,
   "id": "f272e9ad-25b7-425a-a9f3-e9c5452ebcfa",
   "metadata": {},
   "outputs": [],
   "source": []
  },
  {
   "cell_type": "code",
   "execution_count": 11,
   "id": "32a6a740-c086-4b8c-b6c9-766ab44891e0",
   "metadata": {},
   "outputs": [
    {
     "name": "stdout",
     "output_type": "stream",
     "text": [
      "2\n"
     ]
    }
   ],
   "source": [
    "txt = \"I love apples, apple are my favorite fruit\"\n",
    "\n",
    "x = txt.count(\"apple\")\n",
    "\n",
    "print(x)"
   ]
  },
  {
   "cell_type": "code",
   "execution_count": null,
   "id": "6b9c3efd-abc3-4e7f-9525-b8677d91c111",
   "metadata": {},
   "outputs": [],
   "source": []
  },
  {
   "cell_type": "code",
   "execution_count": 14,
   "id": "54ce4b61-72b2-43c5-a1a8-93854882ab1d",
   "metadata": {},
   "outputs": [
    {
     "name": "stdout",
     "output_type": "stream",
     "text": [
      "b'My name is St\\xc3\\xa5le'\n"
     ]
    }
   ],
   "source": [
    "txt = \"My name is Ståle\"\n",
    "\n",
    "x = txt.encode()\n",
    "\n",
    "print(x)"
   ]
  },
  {
   "cell_type": "code",
   "execution_count": null,
   "id": "6bce5939-1f3e-4cad-9b7d-418da69ce6fb",
   "metadata": {},
   "outputs": [],
   "source": []
  },
  {
   "cell_type": "code",
   "execution_count": 15,
   "id": "b3b70390-2464-4c62-8933-f85f1906c452",
   "metadata": {},
   "outputs": [
    {
     "name": "stdout",
     "output_type": "stream",
     "text": [
      "b'My name is St\\\\xe5le'\n",
      "b'My name is Stle'\n",
      "b'My name is St\\\\N{LATIN SMALL LETTER A WITH RING ABOVE}le'\n",
      "b'My name is St?le'\n",
      "b'My name is St&#229;le'\n"
     ]
    }
   ],
   "source": [
    "txt = \"My name is Ståle\"\n",
    "\n",
    "print(txt.encode(encoding=\"ascii\",errors=\"backslashreplace\"))\n",
    "print(txt.encode(encoding=\"ascii\",errors=\"ignore\"))\n",
    "print(txt.encode(encoding=\"ascii\",errors=\"namereplace\"))\n",
    "print(txt.encode(encoding=\"ascii\",errors=\"replace\"))\n",
    "print(txt.encode(encoding=\"ascii\",errors=\"xmlcharrefreplace\"))"
   ]
  },
  {
   "cell_type": "code",
   "execution_count": null,
   "id": "1a23d446-abfa-4662-9176-1822043bd104",
   "metadata": {},
   "outputs": [],
   "source": []
  },
  {
   "cell_type": "code",
   "execution_count": 16,
   "id": "f101cc6b-b61d-48df-ac00-9591c1f3bebf",
   "metadata": {},
   "outputs": [
    {
     "name": "stdout",
     "output_type": "stream",
     "text": [
      "True\n"
     ]
    }
   ],
   "source": [
    "txt = \"Hello, welcome to my world.\"\n",
    "\n",
    "x = txt.endswith(\".\")\n",
    "\n",
    "print(x)"
   ]
  },
  {
   "cell_type": "code",
   "execution_count": null,
   "id": "558dc3ad-fd2b-47bc-9e78-d94c49488c11",
   "metadata": {},
   "outputs": [],
   "source": []
  },
  {
   "cell_type": "code",
   "execution_count": 17,
   "id": "0c240b05-b0ec-4ce4-a38d-8b57d3d70386",
   "metadata": {},
   "outputs": [
    {
     "name": "stdout",
     "output_type": "stream",
     "text": [
      "False\n"
     ]
    }
   ],
   "source": [
    "txt = \"Hello, welcome to my world.\"\n",
    "\n",
    "x = txt.endswith(\"black\")\n",
    "\n",
    "print(x)"
   ]
  },
  {
   "cell_type": "code",
   "execution_count": null,
   "id": "3b01f27c-8b92-48e2-9a28-57f727e893c2",
   "metadata": {},
   "outputs": [],
   "source": []
  },
  {
   "cell_type": "code",
   "execution_count": 21,
   "id": "e887c50c-d0e8-4a38-903c-d53e20c8f4a5",
   "metadata": {},
   "outputs": [
    {
     "name": "stdout",
     "output_type": "stream",
     "text": [
      "H e l l o\n"
     ]
    }
   ],
   "source": [
    "txt = \"H\\te\\tl\\tl\\to\"\n",
    "\n",
    "x =  txt.expandtabs(2)\n",
    "\n",
    "print(x)"
   ]
  },
  {
   "cell_type": "code",
   "execution_count": null,
   "id": "9b3c3248-615f-43bc-8260-ff3815900cc8",
   "metadata": {},
   "outputs": [],
   "source": []
  },
  {
   "cell_type": "code",
   "execution_count": 24,
   "id": "a0869680-e8fb-4321-9bf5-dcf6e7460cfc",
   "metadata": {},
   "outputs": [
    {
     "name": "stdout",
     "output_type": "stream",
     "text": [
      "H\te\tl\tl\to\n",
      "H       e       l       l       o\n",
      "H e l l o\n",
      "H   e   l   l   o\n",
      "H         e         l         l         o\n"
     ]
    }
   ],
   "source": [
    "txt = \"H\\te\\tl\\tl\\to\"\n",
    "\n",
    "print(txt)\n",
    "print(txt.expandtabs())\n",
    "print(txt.expandtabs(2))\n",
    "print(txt.expandtabs(4))\n",
    "print(txt.expandtabs(10))"
   ]
  },
  {
   "cell_type": "code",
   "execution_count": null,
   "id": "161b2f7a-3c2a-442b-8e15-bcc0ddfa1956",
   "metadata": {},
   "outputs": [],
   "source": []
  },
  {
   "cell_type": "code",
   "execution_count": 26,
   "id": "a8d3abe2-2049-4d3c-96f7-4daf2953a30e",
   "metadata": {},
   "outputs": [
    {
     "name": "stdout",
     "output_type": "stream",
     "text": [
      "Ni\tge\tr\ti\ta\n",
      "Ni      ge      r       i       a\n",
      "Ni  ge  r i a\n",
      "Ni  ge  r   i   a\n",
      "Ni             ge             r              i              a\n"
     ]
    }
   ],
   "source": [
    "txt = \"Ni\\tge\\tr\\ti\\ta\"\n",
    "print(txt)\n",
    "print(txt.expandtabs())\n",
    "print(txt.expandtabs(2))\n",
    "print(txt.expandtabs(4))\n",
    "print(txt.expandtabs(15))"
   ]
  },
  {
   "cell_type": "code",
   "execution_count": null,
   "id": "91c92441-d488-45ec-a5c9-71d43ead49b5",
   "metadata": {},
   "outputs": [],
   "source": []
  },
  {
   "cell_type": "code",
   "execution_count": 30,
   "id": "cbbc76d5-10d9-4f01-bf2f-13ae7f235833",
   "metadata": {},
   "outputs": [
    {
     "name": "stdout",
     "output_type": "stream",
     "text": [
      "0\n"
     ]
    }
   ],
   "source": [
    "# Searches the string for a specified value and returns the position of where it was found\n",
    "txt = \"Hello, welcome to my world.\"\n",
    "\n",
    "x = txt.find(\"Hello\")\n",
    "\n",
    "print(x)"
   ]
  },
  {
   "cell_type": "code",
   "execution_count": null,
   "id": "3cf54639-72b8-4268-b7c3-6a945ec3a79a",
   "metadata": {},
   "outputs": [],
   "source": []
  },
  {
   "cell_type": "code",
   "execution_count": 32,
   "id": "3b6b93b5-9f87-42ab-abd5-73badbac4c4a",
   "metadata": {},
   "outputs": [
    {
     "name": "stdout",
     "output_type": "stream",
     "text": [
      "18\n"
     ]
    }
   ],
   "source": [
    "# Searches the string for a specified value and returns the position of where it was found\n",
    "txt = \"Hello, welcome to my world.\"\n",
    "\n",
    "x = txt.find(\"my\")\n",
    "\n",
    "print(x)"
   ]
  },
  {
   "cell_type": "code",
   "execution_count": null,
   "id": "7f59722a-44dc-4bfc-bf9e-140e0c407078",
   "metadata": {},
   "outputs": [],
   "source": []
  },
  {
   "cell_type": "code",
   "execution_count": 37,
   "id": "f1dc8750-713f-4f71-b60b-d70e3497d139",
   "metadata": {},
   "outputs": [
    {
     "name": "stdout",
     "output_type": "stream",
     "text": [
      "7\n"
     ]
    }
   ],
   "source": [
    "# Searches the string for a specified value and returns the position of where it was found\n",
    "txt = \"Hello, welcome to my world.\"\n",
    "\n",
    "x = txt.find(\"welcome\")\n",
    "\n",
    "print(x)"
   ]
  },
  {
   "cell_type": "code",
   "execution_count": null,
   "id": "1b5197e2-c570-4119-b3cb-f554989e897e",
   "metadata": {},
   "outputs": [],
   "source": []
  },
  {
   "cell_type": "code",
   "execution_count": 35,
   "id": "db1d64d8-8303-48f3-a5ef-7747462adf97",
   "metadata": {},
   "outputs": [
    {
     "name": "stdout",
     "output_type": "stream",
     "text": [
      "For only 49.00 dollars!\n"
     ]
    }
   ],
   "source": [
    "# Formats specified values in a string\n",
    "# Insert the price inside the placeholder, the price should be in fixed point, two-decimal format:\n",
    "\n",
    "txt = \"For only {price:.2f} dollars!\"\n",
    "print(txt.format(price = 49))"
   ]
  },
  {
   "cell_type": "code",
   "execution_count": null,
   "id": "93c610b2-a1e8-4068-92a0-c2abb78af0c6",
   "metadata": {},
   "outputs": [],
   "source": []
  },
  {
   "cell_type": "code",
   "execution_count": 36,
   "id": "8bce4630-6a6b-4b1a-9bd7-42cb5f949473",
   "metadata": {},
   "outputs": [
    {
     "name": "stdout",
     "output_type": "stream",
     "text": [
      "7\n"
     ]
    }
   ],
   "source": [
    "txt = \"Hello, welcome to my world.\"\n",
    "\n",
    "x = txt.index(\"welcome\")\n",
    "\n",
    "print(x)"
   ]
  },
  {
   "cell_type": "code",
   "execution_count": null,
   "id": "d078ccbc-7805-42f9-9f96-558018a2e060",
   "metadata": {},
   "outputs": [],
   "source": []
  },
  {
   "cell_type": "code",
   "execution_count": 39,
   "id": "e0cad3c9-55d7-40da-bd89-c357ab1daf7d",
   "metadata": {},
   "outputs": [
    {
     "name": "stdout",
     "output_type": "stream",
     "text": [
      "1\n"
     ]
    }
   ],
   "source": [
    "# Where in the text is the first occurrence of the letter \"e\"?:\n",
    "txt = \"Hello, welcome to my world.\"\n",
    "\n",
    "x = txt.index(\"e\")\n",
    "\n",
    "print(x)"
   ]
  },
  {
   "cell_type": "code",
   "execution_count": null,
   "id": "e23f587b-8587-465a-abcf-4c0557488ade",
   "metadata": {},
   "outputs": [],
   "source": []
  },
  {
   "cell_type": "code",
   "execution_count": 40,
   "id": "fa0d22d4-4460-4b4f-8853-8d70ad8fea46",
   "metadata": {},
   "outputs": [
    {
     "name": "stdout",
     "output_type": "stream",
     "text": [
      "8\n"
     ]
    }
   ],
   "source": [
    "txt = \"Hello, welcome to my world.\"\n",
    "\n",
    "x = txt.index(\"e\", 5, 10)\n",
    "\n",
    "print(x)"
   ]
  },
  {
   "cell_type": "code",
   "execution_count": null,
   "id": "0930e55b-9736-46d5-a842-b01748d5c278",
   "metadata": {},
   "outputs": [],
   "source": []
  },
  {
   "cell_type": "code",
   "execution_count": 41,
   "id": "9af971e6-f53a-493e-ab9e-754e62c8550e",
   "metadata": {},
   "outputs": [
    {
     "name": "stdout",
     "output_type": "stream",
     "text": [
      "True\n"
     ]
    }
   ],
   "source": [
    "# Check if all the characters in the text are alphanumeric:\n",
    "txt = \"Company12\"\n",
    "\n",
    "x = txt.isalnum()\n",
    "\n",
    "print(x)"
   ]
  },
  {
   "cell_type": "code",
   "execution_count": null,
   "id": "08ddc2bf-ccc1-4782-b60f-9ade563f63bb",
   "metadata": {},
   "outputs": [],
   "source": []
  },
  {
   "cell_type": "code",
   "execution_count": 42,
   "id": "45a7f180-d81f-4442-a562-cac42e43dff0",
   "metadata": {},
   "outputs": [
    {
     "name": "stdout",
     "output_type": "stream",
     "text": [
      "True\n"
     ]
    }
   ],
   "source": [
    "# Check if all the characters in the text are letters (alphabets):\n",
    "txt = \"CompanyX\"\n",
    "\n",
    "x = txt.isalpha()\n",
    "\n",
    "print(x)"
   ]
  },
  {
   "cell_type": "code",
   "execution_count": null,
   "id": "abcadab4-c520-4333-bb89-f48c5a6f5546",
   "metadata": {},
   "outputs": [],
   "source": []
  },
  {
   "cell_type": "code",
   "execution_count": 44,
   "id": "df80eb50-bd29-48f5-8493-e8feac4d8511",
   "metadata": {},
   "outputs": [
    {
     "name": "stdout",
     "output_type": "stream",
     "text": [
      "False\n"
     ]
    }
   ],
   "source": [
    "# Check if all the characters in the text are letters (alphabets):\n",
    "txt = \"Company10\"\n",
    "\n",
    "x = txt.isalpha()\n",
    "\n",
    "print(x)"
   ]
  },
  {
   "cell_type": "code",
   "execution_count": null,
   "id": "d6eecabf-aac4-43f4-a113-6f53a204917f",
   "metadata": {
    "tags": []
   },
   "outputs": [],
   "source": []
  },
  {
   "cell_type": "code",
   "execution_count": 47,
   "id": "9d2fd701-dc82-40c6-85a3-d87b3f9de1ce",
   "metadata": {},
   "outputs": [
    {
     "name": "stdout",
     "output_type": "stream",
     "text": [
      "True\n"
     ]
    }
   ],
   "source": [
    "#Returns True if all characters in the string are decimals\n",
    "txt = \"\\u0033\" #unicode for 3\n",
    "\n",
    "x = txt.isdecimal()\n",
    "\n",
    "print(x)"
   ]
  },
  {
   "cell_type": "code",
   "execution_count": null,
   "id": "1c03f74c-c093-4285-b584-f76018d14f82",
   "metadata": {},
   "outputs": [],
   "source": []
  },
  {
   "cell_type": "code",
   "execution_count": 48,
   "id": "7ec7dcf3-e862-4ff9-a971-3a81a6e15a23",
   "metadata": {},
   "outputs": [
    {
     "name": "stdout",
     "output_type": "stream",
     "text": [
      "True\n",
      "False\n"
     ]
    }
   ],
   "source": [
    "#Returns True if all characters in the string are decimals\n",
    "a = \"\\u0030\" #unicode for 0\n",
    "b = \"\\u0047\" #unicode for G\n",
    "\n",
    "print(a.isdecimal())\n",
    "print(b.isdecimal())"
   ]
  },
  {
   "cell_type": "code",
   "execution_count": null,
   "id": "b430b877-754c-4938-8e3b-d2b77f0f0391",
   "metadata": {},
   "outputs": [],
   "source": []
  },
  {
   "cell_type": "code",
   "execution_count": 49,
   "id": "178eb9a6-9230-4507-8e75-a05e203c77dd",
   "metadata": {},
   "outputs": [
    {
     "name": "stdout",
     "output_type": "stream",
     "text": [
      "True\n"
     ]
    }
   ],
   "source": [
    "#Returns True if all characters in the string are digits\n",
    "txt = \"50800\"\n",
    "\n",
    "x = txt.isdigit()\n",
    "\n",
    "print(x)"
   ]
  },
  {
   "cell_type": "code",
   "execution_count": null,
   "id": "86547a14-a1d2-40f6-b772-1ad15b18d79a",
   "metadata": {},
   "outputs": [],
   "source": []
  },
  {
   "cell_type": "code",
   "execution_count": 51,
   "id": "2a8550c5-481d-4494-8c3b-8864551a73be",
   "metadata": {},
   "outputs": [
    {
     "name": "stdout",
     "output_type": "stream",
     "text": [
      "False\n"
     ]
    }
   ],
   "source": [
    "#Returns True if all characters in the string are digits\n",
    "txt = \"5a800\"\n",
    "\n",
    "x = txt.isdigit()\n",
    "\n",
    "print(x)"
   ]
  },
  {
   "cell_type": "code",
   "execution_count": null,
   "id": "0391fd22-3883-4a3b-a85a-9168cff4097e",
   "metadata": {},
   "outputs": [],
   "source": []
  },
  {
   "cell_type": "code",
   "execution_count": 58,
   "id": "ac8bf52a-00aa-41fa-b477-e78a054603d2",
   "metadata": {},
   "outputs": [
    {
     "name": "stdout",
     "output_type": "stream",
     "text": [
      "True\n"
     ]
    }
   ],
   "source": [
    "# Returns True if the string is an identifier\n",
    "# The isidentifier() method returns True if the string is a valid identifier, otherwise False.\n",
    "\n",
    "# A string is considered a valid identifier if it only contains alphanumeric letters (a-z) and (0-9), or underscores (_). \n",
    "# A valid identifier cannot start with a number, or contain any spaces.\n",
    "\n",
    "txt = \"Demo\"\n",
    "\n",
    "x = txt.isidentifier()\n",
    "\n",
    "print(x)"
   ]
  },
  {
   "cell_type": "code",
   "execution_count": null,
   "id": "23f55e87-6075-46e8-95ab-433357120da9",
   "metadata": {},
   "outputs": [],
   "source": []
  },
  {
   "cell_type": "code",
   "execution_count": 59,
   "id": "6e0b2e87-c20c-467b-a41c-ac799fd45ac5",
   "metadata": {},
   "outputs": [
    {
     "name": "stdout",
     "output_type": "stream",
     "text": [
      "True\n",
      "True\n",
      "False\n",
      "False\n"
     ]
    }
   ],
   "source": [
    "# Returns True if the string is an identifier\n",
    "# The isidentifier() method returns True if the string is a valid identifier, otherwise False.\n",
    "\n",
    "# A string is considered a valid identifier if it only contains alphanumeric letters (a-z) and (0-9), or underscores (_). \n",
    "# A valid identifier cannot start with a number, or contain any spaces.\n",
    "\n",
    "a = \"MyFolder\"\n",
    "b = \"Demo002\"\n",
    "c = \"2bring\"\n",
    "d = \"my demo\"\n",
    "\n",
    "print(a.isidentifier())\n",
    "print(b.isidentifier())\n",
    "print(c.isidentifier())\n",
    "print(d.isidentifier())"
   ]
  },
  {
   "cell_type": "code",
   "execution_count": null,
   "id": "d91b4316-375b-47e5-8d34-aeeaad0a91f5",
   "metadata": {},
   "outputs": [],
   "source": []
  },
  {
   "cell_type": "code",
   "execution_count": 60,
   "id": "c6ac8e2d-cde5-4d56-be93-848fce7a60c2",
   "metadata": {},
   "outputs": [
    {
     "name": "stdout",
     "output_type": "stream",
     "text": [
      "True\n"
     ]
    }
   ],
   "source": [
    "# Returns True if all characters in the string are lower case\n",
    "txt = \"hello world!\"\n",
    "\n",
    "x = txt.islower()\n",
    "\n",
    "print(x)\n"
   ]
  },
  {
   "cell_type": "code",
   "execution_count": null,
   "id": "c424c956-90fc-4b88-8562-d872b08fd36f",
   "metadata": {},
   "outputs": [],
   "source": []
  },
  {
   "cell_type": "code",
   "execution_count": 62,
   "id": "2cf9642e-fd9c-47ef-bf10-19ebb0247cb3",
   "metadata": {},
   "outputs": [
    {
     "name": "stdout",
     "output_type": "stream",
     "text": [
      "False\n",
      "True\n",
      "False\n"
     ]
    }
   ],
   "source": [
    "# Returns True if all characters in the string are lower case\n",
    "a = \"Hello world!\"\n",
    "b = \"hello 123\"\n",
    "c = \"mynameisPeter\"\n",
    "\n",
    "print(a.islower())\n",
    "print(b.islower())\n",
    "print(c.islower())"
   ]
  },
  {
   "cell_type": "code",
   "execution_count": null,
   "id": "d750d4b4-98e9-4766-bc22-5fab0344583a",
   "metadata": {},
   "outputs": [],
   "source": []
  },
  {
   "cell_type": "code",
   "execution_count": 65,
   "id": "203cc2d3-88bd-4f40-b93c-95986195c769",
   "metadata": {},
   "outputs": [
    {
     "name": "stdout",
     "output_type": "stream",
     "text": [
      "True\n"
     ]
    }
   ],
   "source": [
    "# Check if all the characters in the text are numeric:\n",
    "txt = \"565543\"\n",
    "\n",
    "x = txt.isnumeric()\n",
    "\n",
    "print(x)"
   ]
  },
  {
   "cell_type": "code",
   "execution_count": null,
   "id": "379fa149-76cc-4f58-bbdc-fa87d19632d2",
   "metadata": {},
   "outputs": [],
   "source": []
  },
  {
   "cell_type": "code",
   "execution_count": 64,
   "id": "c69a1d14-68d8-4a3c-beca-8fa8266f3a96",
   "metadata": {},
   "outputs": [
    {
     "name": "stdout",
     "output_type": "stream",
     "text": [
      "False\n"
     ]
    }
   ],
   "source": [
    "# Check if all the characters in the text are numeric:\n",
    "txt = \"565a43\"\n",
    "\n",
    "x = txt.isnumeric()\n",
    "\n",
    "print(x)"
   ]
  },
  {
   "cell_type": "code",
   "execution_count": null,
   "id": "1fde6b4c-b110-47a9-bc77-f9da95d63dbe",
   "metadata": {},
   "outputs": [],
   "source": []
  },
  {
   "cell_type": "code",
   "execution_count": 67,
   "id": "95b1bb35-1cf5-4a0d-b926-4df713210a9d",
   "metadata": {},
   "outputs": [
    {
     "name": "stdout",
     "output_type": "stream",
     "text": [
      "True\n",
      "True\n",
      "False\n",
      "False\n",
      "False\n"
     ]
    }
   ],
   "source": [
    "# # Check if all the characters in the text are numeric:\n",
    "\n",
    "a = \"\\u0030\" #unicode for 0\n",
    "b = \"\\u00B2\" #unicode for &sup2;\n",
    "c = \"10km2\"\n",
    "d = \"-1\"\n",
    "e = \"1.5\"\n",
    "\n",
    "print(a.isnumeric())\n",
    "print(b.isnumeric())\n",
    "print(c.isnumeric())\n",
    "print(d.isnumeric())\n",
    "print(e.isnumeric())"
   ]
  },
  {
   "cell_type": "code",
   "execution_count": null,
   "id": "67899e16-3426-457b-85ef-722b6b0d8677",
   "metadata": {},
   "outputs": [],
   "source": []
  },
  {
   "cell_type": "code",
   "execution_count": 68,
   "id": "7fee7bc7-c76f-4211-acb7-8006472a20ad",
   "metadata": {},
   "outputs": [
    {
     "name": "stdout",
     "output_type": "stream",
     "text": [
      "True\n"
     ]
    }
   ],
   "source": [
    "# Returns True if all characters in the string are printable\n",
    "txt = \"Hello! Are you #1?\"\n",
    "\n",
    "x = txt.isprintable()\n",
    "\n",
    "print(x)"
   ]
  },
  {
   "cell_type": "code",
   "execution_count": null,
   "id": "c21e3b30-cf47-4d1b-8a77-db5c27622d09",
   "metadata": {},
   "outputs": [],
   "source": []
  },
  {
   "cell_type": "code",
   "execution_count": 69,
   "id": "1da9b169-8ad1-4af7-a185-902b5e0a84d1",
   "metadata": {},
   "outputs": [
    {
     "name": "stdout",
     "output_type": "stream",
     "text": [
      "False\n"
     ]
    }
   ],
   "source": [
    "# Returns True if all characters in the string are printable\n",
    "txt = \"Hello!\\nAre you #1?\"\n",
    "\n",
    "x = txt.isprintable()\n",
    "\n",
    "print(x)"
   ]
  },
  {
   "cell_type": "code",
   "execution_count": null,
   "id": "21cb9f1c-dce4-41ee-b1f9-eeda051d5c77",
   "metadata": {},
   "outputs": [],
   "source": []
  },
  {
   "cell_type": "code",
   "execution_count": 70,
   "id": "3a4b4e00-ee2a-41d8-a7be-3ad07b72f558",
   "metadata": {},
   "outputs": [
    {
     "name": "stdout",
     "output_type": "stream",
     "text": [
      "True\n"
     ]
    }
   ],
   "source": [
    "# Returns True if all characters in the string are whitespaces\n",
    "txt = \"   \"\n",
    "\n",
    "x = txt.isspace()\n",
    "\n",
    "print(x)"
   ]
  },
  {
   "cell_type": "code",
   "execution_count": null,
   "id": "b98817a5-7d84-48fb-8ff7-36c99cae0b1f",
   "metadata": {},
   "outputs": [],
   "source": []
  },
  {
   "cell_type": "code",
   "execution_count": 71,
   "id": "2f290ed5-9c2a-4b1a-88cf-c02de6efda9a",
   "metadata": {},
   "outputs": [
    {
     "name": "stdout",
     "output_type": "stream",
     "text": [
      "False\n"
     ]
    }
   ],
   "source": [
    "# Returns True if all characters in the string are whitespaces\n",
    "txt = \"boy\"\n",
    "\n",
    "x = txt.isspace()\n",
    "\n",
    "print(x)"
   ]
  },
  {
   "cell_type": "code",
   "execution_count": null,
   "id": "c6bb23fa-dc72-4cf9-be10-7af8b72d9f8d",
   "metadata": {},
   "outputs": [],
   "source": []
  },
  {
   "cell_type": "code",
   "execution_count": 72,
   "id": "5d1f65c2-eac2-452d-b4b6-d0e177381ac1",
   "metadata": {},
   "outputs": [
    {
     "name": "stdout",
     "output_type": "stream",
     "text": [
      "False\n"
     ]
    }
   ],
   "source": [
    "# Returns True if all characters in the string are whitespaces\n",
    "txt = \"boy 1\"\n",
    "\n",
    "x = txt.isspace()\n",
    "\n",
    "print(x)"
   ]
  },
  {
   "cell_type": "code",
   "execution_count": null,
   "id": "111237a5-9981-4784-a6bf-a6332ce79a37",
   "metadata": {},
   "outputs": [],
   "source": []
  },
  {
   "cell_type": "code",
   "execution_count": 74,
   "id": "eab7b76e-4769-42c3-b7c3-dfbfd1a9dc78",
   "metadata": {},
   "outputs": [
    {
     "name": "stdout",
     "output_type": "stream",
     "text": [
      "False\n"
     ]
    }
   ],
   "source": [
    "# Returns True if all characters in the string are whitespaces\n",
    "txt = \"   s   \"\n",
    "\n",
    "x = txt.isspace()\n",
    "\n",
    "print(x)"
   ]
  },
  {
   "cell_type": "code",
   "execution_count": null,
   "id": "b15635dc-32bf-4879-b2ff-d039c0dfa833",
   "metadata": {},
   "outputs": [],
   "source": []
  },
  {
   "cell_type": "code",
   "execution_count": 77,
   "id": "9fab09b9-a61c-4e0b-8737-6cf5c339868c",
   "metadata": {},
   "outputs": [
    {
     "name": "stdout",
     "output_type": "stream",
     "text": [
      "True\n"
     ]
    }
   ],
   "source": [
    "# Returns True if the string follows the rules of a title\n",
    "# The istitle() method returns True if all words in a text start with a upper case letter, \n",
    "# AND the rest of the word are lower case letters, otherwise False.\n",
    "\n",
    "# Symbols and numbers are ignored.\n",
    "\n",
    "txt = \"Hello, And Welcome To My World!\"\n",
    "\n",
    "x = txt.istitle()\n",
    "\n",
    "print(x)"
   ]
  },
  {
   "cell_type": "code",
   "execution_count": null,
   "id": "6dcaa72a-1648-4a11-b2cf-ef96731b2f43",
   "metadata": {},
   "outputs": [],
   "source": []
  },
  {
   "cell_type": "code",
   "execution_count": 78,
   "id": "06352b7b-e0b2-4236-b3a1-476ff4ac122f",
   "metadata": {},
   "outputs": [
    {
     "name": "stdout",
     "output_type": "stream",
     "text": [
      "False\n",
      "True\n",
      "True\n",
      "True\n"
     ]
    }
   ],
   "source": [
    "# Returns True if the string follows the rules of a title\n",
    "# The istitle() method returns True if all words in a text start with a upper case letter, \n",
    "# AND the rest of the word are lower case letters, otherwise False.\n",
    "\n",
    "# Symbols and numbers are ignored.\n",
    "\n",
    "a = \"HELLO, AND WELCOME TO MY WORLD\"\n",
    "b = \"Hello\"\n",
    "c = \"22 Names\"\n",
    "d = \"This Is %'!?\"\n",
    "\n",
    "print(a.istitle())\n",
    "print(b.istitle())\n",
    "print(c.istitle())\n",
    "print(d.istitle())"
   ]
  },
  {
   "cell_type": "code",
   "execution_count": null,
   "id": "0eeb7a07-7771-426c-bf38-f8230ffd3b6d",
   "metadata": {},
   "outputs": [],
   "source": []
  },
  {
   "cell_type": "code",
   "execution_count": 79,
   "id": "127d0b74-82de-4cfa-aaae-96dca3b070fe",
   "metadata": {},
   "outputs": [
    {
     "name": "stdout",
     "output_type": "stream",
     "text": [
      "True\n"
     ]
    }
   ],
   "source": [
    "# Returns True if all characters in the string are upper case\n",
    "\n",
    "txt = \"THIS IS NOW!\"\n",
    "\n",
    "x = txt.isupper()\n",
    "\n",
    "print(x)"
   ]
  },
  {
   "cell_type": "code",
   "execution_count": null,
   "id": "05dc0180-4646-47b8-813f-1d24627f130f",
   "metadata": {},
   "outputs": [],
   "source": []
  },
  {
   "cell_type": "code",
   "execution_count": 81,
   "id": "28476163-4a63-4c8b-8cf1-0df45b700b8c",
   "metadata": {},
   "outputs": [
    {
     "name": "stdout",
     "output_type": "stream",
     "text": [
      "False\n",
      "False\n",
      "True\n"
     ]
    }
   ],
   "source": [
    "# Returns True if all characters in the string are upper case\n",
    "a = \"Hello World!\"\n",
    "b = \"hello 123\"\n",
    "c = \"MY NAME IS PETER\"\n",
    "\n",
    "print(a.isupper())\n",
    "print(b.isupper())\n",
    "print(c.isupper())"
   ]
  },
  {
   "cell_type": "code",
   "execution_count": null,
   "id": "0e153824-bf7a-4595-bb04-3d9dfded4e57",
   "metadata": {},
   "outputs": [],
   "source": []
  },
  {
   "cell_type": "code",
   "execution_count": 82,
   "id": "873de32b-88a0-4bb4-8ddc-cfd572970745",
   "metadata": {},
   "outputs": [
    {
     "name": "stdout",
     "output_type": "stream",
     "text": [
      "John#Peter#Vicky\n"
     ]
    }
   ],
   "source": [
    "# Joins the elements of an iterable to the end of the string\n",
    "\n",
    "myTuple = (\"John\", \"Peter\", \"Vicky\")\n",
    "\n",
    "x = \"#\".join(myTuple)\n",
    "\n",
    "print(x)"
   ]
  },
  {
   "cell_type": "code",
   "execution_count": null,
   "id": "976140ab-6ba1-42d2-8ef4-1d67a020afc3",
   "metadata": {},
   "outputs": [],
   "source": []
  },
  {
   "cell_type": "code",
   "execution_count": 84,
   "id": "6cfa455a-68fb-4397-b374-3fbcba325bc0",
   "metadata": {},
   "outputs": [
    {
     "name": "stdout",
     "output_type": "stream",
     "text": [
      "nameTESTcountryTESTfood\n"
     ]
    }
   ],
   "source": [
    "# Joins the elements of an iterable to the end of the string\n",
    "\n",
    "myDict = {\"name\": \"John\", \"country\": \"Norway\", \"food\": \"Rice\"}\n",
    "mySeparator = \"TEST\"\n",
    "\n",
    "x = mySeparator.join(myDict)\n",
    "\n",
    "print(x)"
   ]
  },
  {
   "cell_type": "code",
   "execution_count": null,
   "id": "57e5de64-29bf-45df-8d6c-df9512875d3a",
   "metadata": {},
   "outputs": [],
   "source": []
  },
  {
   "cell_type": "code",
   "execution_count": 85,
   "id": "77dd6eed-3086-4e3a-80a2-ce7d10f3538c",
   "metadata": {},
   "outputs": [
    {
     "name": "stdout",
     "output_type": "stream",
     "text": [
      "banana               is my favorite fruit.\n"
     ]
    }
   ],
   "source": [
    "# Returns a left justified version of the string\n",
    "\n",
    "txt = \"banana\"\n",
    "\n",
    "x = txt.ljust(20)\n",
    "\n",
    "print(x, \"is my favorite fruit.\")"
   ]
  },
  {
   "cell_type": "code",
   "execution_count": null,
   "id": "44daa8f8-9111-4263-b046-8150810e2c92",
   "metadata": {},
   "outputs": [],
   "source": []
  },
  {
   "cell_type": "code",
   "execution_count": 87,
   "id": "b3aedc0f-9afe-4372-ab45-7e1148499701",
   "metadata": {},
   "outputs": [
    {
     "name": "stdout",
     "output_type": "stream",
     "text": [
      "bananaOOOOOOOOOOOOOO\n"
     ]
    }
   ],
   "source": [
    "# Returns a left justified version of the string\n",
    "# Using the letter \"O\" as the padding character:\n",
    "\n",
    "txt = \"banana\"\n",
    "\n",
    "x = txt.ljust(20, \"O\")\n",
    "\n",
    "print(x)"
   ]
  },
  {
   "cell_type": "code",
   "execution_count": null,
   "id": "73af596d-4944-4a84-a273-3246964998fc",
   "metadata": {},
   "outputs": [],
   "source": []
  },
  {
   "cell_type": "code",
   "execution_count": 88,
   "id": "af348763-160e-449d-a26b-df8d8308e3e2",
   "metadata": {},
   "outputs": [
    {
     "name": "stdout",
     "output_type": "stream",
     "text": [
      "hello my friends\n"
     ]
    }
   ],
   "source": [
    "# Converts a string into lower case\n",
    "\n",
    "txt = \"Hello my FRIENDS\"\n",
    "\n",
    "x = txt.lower()\n",
    "\n",
    "print(x)\n"
   ]
  },
  {
   "cell_type": "code",
   "execution_count": null,
   "id": "1231cfcc-7394-4437-ad4a-c0d60734b667",
   "metadata": {},
   "outputs": [],
   "source": []
  },
  {
   "cell_type": "code",
   "execution_count": 91,
   "id": "11ccb6da-9db4-4013-9ed4-a1386a9d4a90",
   "metadata": {},
   "outputs": [
    {
     "name": "stdout",
     "output_type": "stream",
     "text": [
      "of all fruits banana      is my favorite\n"
     ]
    }
   ],
   "source": [
    "# Returns a left trim version of the string\n",
    "# The lstrip() method removes any leading characters (space is the default leading character to remove)\n",
    "\n",
    "txt = \"     banana     \"\n",
    "\n",
    "x = txt.lstrip()\n",
    "\n",
    "print(\"of all fruits\", x, \"is my favorite\")"
   ]
  },
  {
   "cell_type": "code",
   "execution_count": null,
   "id": "5440f788-1718-4880-ba48-52fe24897ba5",
   "metadata": {},
   "outputs": [],
   "source": []
  },
  {
   "cell_type": "code",
   "execution_count": 93,
   "id": "6df9f57d-cb3a-487b-a7f9-bc3acd231146",
   "metadata": {},
   "outputs": [
    {
     "name": "stdout",
     "output_type": "stream",
     "text": [
      "banana\n"
     ]
    }
   ],
   "source": [
    "# Returns a left trim version of the string\n",
    "# The lstrip() method removes any leading characters (space is the default leading character to remove)\n",
    "\n",
    "txt = \",,,,,ssaaww.....banana\"\n",
    "\n",
    "x = txt.lstrip(\",.asw\")\n",
    "\n",
    "print(x)"
   ]
  },
  {
   "cell_type": "code",
   "execution_count": null,
   "id": "02102145-6784-46ba-92a9-9f2c54aeba94",
   "metadata": {},
   "outputs": [],
   "source": []
  },
  {
   "cell_type": "code",
   "execution_count": 102,
   "id": "fed5db7c-5153-46fb-bb77-0c7359173f26",
   "metadata": {},
   "outputs": [
    {
     "name": "stdout",
     "output_type": "stream",
     "text": [
      "Hello Pam!\n"
     ]
    }
   ],
   "source": [
    "# Create a mapping table, and use it in the translate() method to replace \"S\" characters with \"P\" character:\n",
    "\n",
    "txt = \"Hello Sam!\"\n",
    "mytable = txt.maketrans(\"S\", \"P\")\n",
    "print(txt.translate(mytable))"
   ]
  },
  {
   "cell_type": "code",
   "execution_count": null,
   "id": "f50a917f-f4b6-4d9d-9f01-dad86dbfd893",
   "metadata": {},
   "outputs": [],
   "source": []
  },
  {
   "cell_type": "code",
   "execution_count": 103,
   "id": "2132c8d9-3516-43ea-9856-a5b136860107",
   "metadata": {},
   "outputs": [
    {
     "name": "stdout",
     "output_type": "stream",
     "text": [
      "Hi Joe!\n"
     ]
    }
   ],
   "source": [
    "# Create a mapping table, and use it in the translate() method to replace any \"x\" characters with a \"y\" character: \n",
    "\n",
    "txt = \"Hi Sam!\"\n",
    "x = \"mSa\"\n",
    "y = \"eJo\"\n",
    "mytable = txt.maketrans(x, y)\n",
    "print(txt.translate(mytable))"
   ]
  },
  {
   "cell_type": "code",
   "execution_count": null,
   "id": "e7cc2d1f-f0dc-4520-9a24-ea679241b68e",
   "metadata": {},
   "outputs": [],
   "source": []
  },
  {
   "cell_type": "code",
   "execution_count": 104,
   "id": "19e80af1-6720-4139-8ab4-cc9f2ff9a812",
   "metadata": {},
   "outputs": [
    {
     "name": "stdout",
     "output_type": "stream",
     "text": [
      "G i Joe!\n"
     ]
    }
   ],
   "source": [
    "# Create a mapping table, and use it in the translate() method to replace any \"x\" characters with a \"y\" character:\n",
    "# The third parameter in the mapping table describes characters that you want to remove from the string:\n",
    "\n",
    "txt = \"Good night Sam!\"\n",
    "x = \"mSa\"\n",
    "y = \"eJo\"\n",
    "z = \"odnght\"\n",
    "mytable = txt.maketrans(x, y, z)\n",
    "print(txt.translate(mytable))"
   ]
  },
  {
   "cell_type": "code",
   "execution_count": null,
   "id": "0666ecaf-1983-4c71-b396-eac7610186e1",
   "metadata": {},
   "outputs": [],
   "source": []
  },
  {
   "cell_type": "code",
   "execution_count": 105,
   "id": "7ebc538c-473b-481a-ac96-2fc0b424d6f5",
   "metadata": {},
   "outputs": [
    {
     "name": "stdout",
     "output_type": "stream",
     "text": [
      "('I could eat ', 'bananas', ' all day')\n"
     ]
    }
   ],
   "source": [
    "# Returns a tuple where the string is parted into three parts\n",
    "\n",
    "txt = \"I could eat bananas all day\"\n",
    "\n",
    "x = txt.partition(\"bananas\")\n",
    "\n",
    "print(x)"
   ]
  },
  {
   "cell_type": "code",
   "execution_count": null,
   "id": "eb1a8d70-8793-4497-85f9-f916d7cd01e4",
   "metadata": {},
   "outputs": [],
   "source": []
  },
  {
   "cell_type": "code",
   "execution_count": 107,
   "id": "f6b0ecd3-93c0-494d-afac-615a312b92e0",
   "metadata": {},
   "outputs": [
    {
     "name": "stdout",
     "output_type": "stream",
     "text": [
      "('I could eat bananas all day', '', '')\n"
     ]
    }
   ],
   "source": [
    "# Returns a tuple where the string is parted into three parts\n",
    "# If the specified value is not found, the partition() method returns \n",
    "# a tuple containing: 1 - the whole string, 2 - an empty string, 3 - an empty string:\n",
    "\n",
    "txt = \"I could eat bananas all day\"\n",
    "\n",
    "x = txt.partition(\"apples\")\n",
    "\n",
    "print(x)"
   ]
  },
  {
   "cell_type": "code",
   "execution_count": null,
   "id": "d146d7d5-b436-45de-9e22-1c0cad83d249",
   "metadata": {},
   "outputs": [],
   "source": []
  },
  {
   "cell_type": "code",
   "execution_count": 115,
   "id": "e19f8b7a-0d33-4c1a-9dd4-587d1fa91726",
   "metadata": {},
   "outputs": [
    {
     "name": "stdout",
     "output_type": "stream",
     "text": [
      "I like apples\n"
     ]
    }
   ],
   "source": [
    "# Replace \"bananas\" with the word \"apples\":\n",
    "\n",
    "txt = \"I like bananas\"\n",
    "\n",
    "x = txt.replace(\"bananas\", \"apples\")\n",
    "\n",
    "print(x)"
   ]
  },
  {
   "cell_type": "code",
   "execution_count": null,
   "id": "d4679d94-d651-4069-8074-c553b297de3a",
   "metadata": {},
   "outputs": [],
   "source": []
  },
  {
   "cell_type": "code",
   "execution_count": 111,
   "id": "8e411988-bbdc-4201-b4c4-12d8f3c23c90",
   "metadata": {},
   "outputs": [
    {
     "name": "stdout",
     "output_type": "stream",
     "text": [
      "three three was a race horse, two two was three too.\n"
     ]
    }
   ],
   "source": [
    "# Replace all occurrence of the word \"one\":\n",
    "\n",
    "txt = \"one one was a race horse, two two was one too.\"\n",
    "\n",
    "x = txt.replace(\"one\", \"three\")\n",
    "\n",
    "print(x)"
   ]
  },
  {
   "cell_type": "code",
   "execution_count": null,
   "id": "cad897fe-8596-4ff3-9eec-bd7a101f86f6",
   "metadata": {},
   "outputs": [],
   "source": []
  },
  {
   "cell_type": "code",
   "execution_count": 114,
   "id": "f39c9653-c8ee-4226-adaf-d349a181795c",
   "metadata": {},
   "outputs": [
    {
     "name": "stdout",
     "output_type": "stream",
     "text": [
      "three three was a race horse, two two was one too.\n"
     ]
    }
   ],
   "source": [
    "# Replace the two first occurrence of the word \"one\":\n",
    "\n",
    "txt = \"one one was a race horse, two two was one too.\"\n",
    "\n",
    "x = txt.replace(\"one\", \"three\", 2)\n",
    "\n",
    "print(x)"
   ]
  },
  {
   "cell_type": "code",
   "execution_count": null,
   "id": "adf365f6-ffb8-4da3-aad6-1581046ffd78",
   "metadata": {},
   "outputs": [],
   "source": []
  },
  {
   "cell_type": "code",
   "execution_count": 117,
   "id": "779e1f6e-8706-4db7-b574-70ee71dd0f26",
   "metadata": {},
   "outputs": [
    {
     "name": "stdout",
     "output_type": "stream",
     "text": [
      "12\n"
     ]
    }
   ],
   "source": [
    "# Searches the string for a specified value and returns the last position of where it was found\n",
    "# Where in the text is the last occurrence of the string \"casa\"?:\n",
    "\n",
    "txt = \"Mi casa, su casa.\"\n",
    "\n",
    "x = txt.rfind(\"casa\")\n",
    "\n",
    "print(x)"
   ]
  },
  {
   "cell_type": "code",
   "execution_count": null,
   "id": "6d330e46-8976-4e10-a92c-5725ae08d716",
   "metadata": {},
   "outputs": [],
   "source": []
  },
  {
   "cell_type": "code",
   "execution_count": 120,
   "id": "66f9a641-1b8b-4aa0-838b-44f23b0e68fe",
   "metadata": {},
   "outputs": [
    {
     "name": "stdout",
     "output_type": "stream",
     "text": [
      "13\n"
     ]
    }
   ],
   "source": [
    "# Where in the text is the last occurrence of the letter \"e\"?:\n",
    "    \n",
    "txt = \"Hello, welcome to my world.\"\n",
    "\n",
    "x = txt.rfind(\"e\")\n",
    "\n",
    "print(x)"
   ]
  },
  {
   "cell_type": "code",
   "execution_count": null,
   "id": "567d5b7f-a0b1-45a5-ae1e-e16ee871b050",
   "metadata": {},
   "outputs": [],
   "source": []
  },
  {
   "cell_type": "code",
   "execution_count": 121,
   "id": "e465f203-b1cc-43b7-a794-ac28b624a36a",
   "metadata": {},
   "outputs": [
    {
     "name": "stdout",
     "output_type": "stream",
     "text": [
      "8\n"
     ]
    }
   ],
   "source": [
    "# Where in the text is the last occurrence of the letter \"e\" when you only search between position 5 and 10?:\n",
    "\n",
    "txt = \"Hello, welcome to my world.\"\n",
    "\n",
    "x = txt.rfind(\"e\", 5, 10)\n",
    "\n",
    "print(x)"
   ]
  },
  {
   "cell_type": "code",
   "execution_count": null,
   "id": "8634e90e-b7fc-4206-9f30-52426e29209f",
   "metadata": {},
   "outputs": [],
   "source": []
  },
  {
   "cell_type": "code",
   "execution_count": 124,
   "id": "609bbdb9-d779-4934-b4f8-7e71a63144f7",
   "metadata": {},
   "outputs": [
    {
     "name": "stdout",
     "output_type": "stream",
     "text": [
      "12\n"
     ]
    }
   ],
   "source": [
    "# Searches the string for a specified value and returns the last position of where it was found\n",
    "\n",
    "txt = \"Mi casa, su casa.\"\n",
    "\n",
    "x = txt.rindex(\"casa\")\n",
    "\n",
    "print(x)"
   ]
  },
  {
   "cell_type": "code",
   "execution_count": null,
   "id": "3e15a5a1-6dcb-46fd-b116-c498c12edc3c",
   "metadata": {},
   "outputs": [],
   "source": []
  },
  {
   "cell_type": "code",
   "execution_count": 126,
   "id": "79119272-f35e-4c26-a874-26ce13cb7750",
   "metadata": {},
   "outputs": [
    {
     "name": "stdout",
     "output_type": "stream",
     "text": [
      "13\n"
     ]
    }
   ],
   "source": [
    "# Where in the text is the last occurrence of the letter \"e\"?:\n",
    "\n",
    "txt = \"Hello, welcome to my world.\"\n",
    "\n",
    "x = txt.rindex(\"e\")\n",
    "\n",
    "print(x)"
   ]
  },
  {
   "cell_type": "code",
   "execution_count": null,
   "id": "a444de6b-b0f1-4c79-8b49-0788d0db553c",
   "metadata": {},
   "outputs": [],
   "source": []
  },
  {
   "cell_type": "code",
   "execution_count": 128,
   "id": "230b9db3-ba46-4dc4-9c0c-493b46919c12",
   "metadata": {},
   "outputs": [
    {
     "name": "stdout",
     "output_type": "stream",
     "text": [
      "8\n"
     ]
    }
   ],
   "source": [
    "# here in the text is the last occurrence of the letter \"e\" when you only search between position 5 and 10?:\n",
    "    \n",
    "txt = \"Hello, welcome to my world.\"\n",
    "\n",
    "x = txt.rindex(\"e\", 5, 10)\n",
    "\n",
    "print(x)"
   ]
  },
  {
   "cell_type": "code",
   "execution_count": null,
   "id": "eedec896-b8b3-4067-9084-e500f95c7c39",
   "metadata": {},
   "outputs": [],
   "source": []
  },
  {
   "cell_type": "code",
   "execution_count": 2,
   "id": "7e1b0d62-881a-42c9-84c4-3f24b1081e6f",
   "metadata": {},
   "outputs": [
    {
     "name": "stdout",
     "output_type": "stream",
     "text": [
      "              banana is my favorite fruit.\n"
     ]
    }
   ],
   "source": [
    "# Return a 20 characters long, right justified version of the word \"banana\":\n",
    "\n",
    "\n",
    "txt = \"banana\"\n",
    "\n",
    "x = txt.rjust(20)\n",
    "\n",
    "print(x, \"is my favorite fruit.\")"
   ]
  },
  {
   "cell_type": "code",
   "execution_count": null,
   "id": "8c9b4f3b-8816-4ea8-8806-6da6ce77cbeb",
   "metadata": {},
   "outputs": [],
   "source": []
  },
  {
   "cell_type": "code",
   "execution_count": 1,
   "id": "cf10563c-1216-4ba8-8065-191ef4bba67a",
   "metadata": {},
   "outputs": [
    {
     "name": "stdout",
     "output_type": "stream",
     "text": [
      "OOOOOOOOOOOOOObanana\n"
     ]
    }
   ],
   "source": [
    "txt = \"banana\"\n",
    "\n",
    "x = txt.rjust(20, \"O\")\n",
    "\n",
    "print(x)"
   ]
  },
  {
   "cell_type": "code",
   "execution_count": null,
   "id": "c23738c3-fdd9-4412-b710-c2b0abccc380",
   "metadata": {},
   "outputs": [],
   "source": []
  },
  {
   "cell_type": "code",
   "execution_count": 2,
   "id": "db58f63d-b771-41b7-bf6c-421be8896096",
   "metadata": {},
   "outputs": [
    {
     "name": "stdout",
     "output_type": "stream",
     "text": [
      "('I could eat bananas all day, ', 'bananas', ' are my favorite fruit')\n"
     ]
    }
   ],
   "source": [
    "# Search for the last occurrence of the word \"bananas\", and return a tuple with three elements:\n",
    "\n",
    "# 1 - everything before the \"match\"\n",
    "# 2 - the \"match\"\n",
    "# 3 - everything after the \"match\"\n",
    "\n",
    "txt = \"I could eat bananas all day, bananas are my favorite fruit\"\n",
    "\n",
    "x = txt.rpartition(\"bananas\")\n",
    "\n",
    "print(x)"
   ]
  },
  {
   "cell_type": "code",
   "execution_count": null,
   "id": "7ee75b32-7964-43ae-9e90-39bedb67e07e",
   "metadata": {},
   "outputs": [],
   "source": []
  },
  {
   "cell_type": "code",
   "execution_count": 5,
   "id": "30916a7e-885c-40d5-9e53-8857f8cd851d",
   "metadata": {},
   "outputs": [
    {
     "name": "stdout",
     "output_type": "stream",
     "text": [
      "('', '', 'I could eat bananas all day, bananas are my favorite fruit')\n"
     ]
    }
   ],
   "source": [
    "# If the specified value is not found, the rpartition() method returns a tuple containing: 1 - an empty string, 2 - an empty string, 3 - the whole string:\n",
    "\n",
    "txt = \"I could eat bananas all day, bananas are my favorite fruit\"\n",
    "\n",
    "x = txt.rpartition(\"apples\")\n",
    "\n",
    "print(x)"
   ]
  },
  {
   "cell_type": "code",
   "execution_count": null,
   "id": "050ab617-0eac-4d1d-b812-c63c755213fd",
   "metadata": {},
   "outputs": [],
   "source": []
  },
  {
   "cell_type": "code",
   "execution_count": 6,
   "id": "e74c4934-16ad-4f7d-8913-4ffc0d05221b",
   "metadata": {},
   "outputs": [
    {
     "name": "stdout",
     "output_type": "stream",
     "text": [
      "['apple', 'banana', 'cherry']\n"
     ]
    }
   ],
   "source": [
    "# Splits the string at the specified separator, and returns a list\n",
    "\n",
    "# Split a string into a list, using comma, followed by a space (, ) as the separator:\n",
    "\n",
    "txt = \"apple, banana, cherry\"\n",
    "\n",
    "x = txt.rsplit(\", \")\n",
    "\n",
    "print(x)\n"
   ]
  },
  {
   "cell_type": "markdown",
   "id": "31c07c63-c297-4465-97a6-7f9ae43ebec7",
   "metadata": {
    "tags": []
   },
   "source": [
    "# Syntax\n",
    "\n",
    "# string.rsplit(separator, maxsplit)\n",
    "\n",
    "# separator\tOptional. Specifies the separator to use when splitting the string. By default any whitespace is a separator\n",
    "\n",
    "# maxsplit\tOptional. Specifies how many splits to do. Default value is -1, which is \"all occurrences\""
   ]
  },
  {
   "cell_type": "code",
   "execution_count": 10,
   "id": "4908be23-700f-46a0-a793-56c4e080e655",
   "metadata": {},
   "outputs": [
    {
     "name": "stdout",
     "output_type": "stream",
     "text": [
      "['apple, banana', 'cherry']\n"
     ]
    }
   ],
   "source": [
    "# Split the string into a list with maximum 2 items:\n",
    "\n",
    "txt = \"apple, banana, cherry\"\n",
    "\n",
    "# setting the maxsplit parameter to 1, will return a list with 2 elements!\n",
    "\n",
    "x = txt.rsplit(\", \", 1)\n",
    "\n",
    "print(x)"
   ]
  },
  {
   "cell_type": "code",
   "execution_count": null,
   "id": "e222779c-253c-4956-81b8-9f2122c32278",
   "metadata": {},
   "outputs": [],
   "source": []
  },
  {
   "cell_type": "code",
   "execution_count": 11,
   "id": "4181bacd-c4c2-4223-846f-0bcd9e06ef47",
   "metadata": {},
   "outputs": [
    {
     "name": "stdout",
     "output_type": "stream",
     "text": [
      "of all fruits      banana is my favorite\n"
     ]
    }
   ],
   "source": [
    "# Returns a right trim version of the string\n",
    "\n",
    "# Remove any white spaces at the end of the string:\n",
    "\n",
    "txt = \"     banana     \"\n",
    "\n",
    "x = txt.rstrip()\n",
    "\n",
    "print(\"of all fruits\", x, \"is my favorite\")"
   ]
  },
  {
   "cell_type": "code",
   "execution_count": null,
   "id": "9690e6c8-bd06-4dde-9353-5cf2294f0eea",
   "metadata": {},
   "outputs": [],
   "source": []
  },
  {
   "cell_type": "code",
   "execution_count": 16,
   "id": "213b8b19-549c-422c-bdfe-8f049200126b",
   "metadata": {},
   "outputs": [
    {
     "name": "stdout",
     "output_type": "stream",
     "text": [
      "banana\n"
     ]
    }
   ],
   "source": [
    "# Remove the trailing characters if they are commas, s, q, or w:\n",
    "\n",
    "txt = \"banana,,,,,ssqqqww.....\"\n",
    "\n",
    "x = txt.rstrip(\",.sqw\")\n",
    "\n",
    "print(x)"
   ]
  },
  {
   "cell_type": "code",
   "execution_count": null,
   "id": "811fa5e2-1065-4e36-9348-0fbfcb62747e",
   "metadata": {},
   "outputs": [],
   "source": []
  },
  {
   "cell_type": "code",
   "execution_count": 17,
   "id": "53305d8b-3a2d-4d53-a321-559837dca37d",
   "metadata": {},
   "outputs": [
    {
     "name": "stdout",
     "output_type": "stream",
     "text": [
      "['welcome', 'to', 'the', 'jungle']\n"
     ]
    }
   ],
   "source": [
    "# Splits the string at the specified separator, and returns a list\n",
    "\n",
    "# Split a string into a list where each word is a list item:\n",
    "\n",
    "txt = \"welcome to the jungle\"\n",
    "\n",
    "x = txt.split()\n",
    "\n",
    "print(x)"
   ]
  },
  {
   "cell_type": "code",
   "execution_count": null,
   "id": "25b1993a-46e0-4955-aa2c-9ccea585e597",
   "metadata": {},
   "outputs": [],
   "source": []
  },
  {
   "cell_type": "markdown",
   "id": "8d58f2ff-12e8-4eb0-9f70-ce3a335f24e0",
   "metadata": {},
   "source": [
    "# Syntax\n",
    "\n",
    "# string.split(separator, maxsplit)\n",
    "\n",
    "# separator\tOptional. Specifies the separator to use when splitting the string. By default any whitespace is a separator\n",
    "\n",
    "# maxsplit\tOptional. Specifies how many splits to do. Default value is -1, which is \"all occurrences\"\n"
   ]
  },
  {
   "cell_type": "code",
   "execution_count": null,
   "id": "235a4e46-d4f6-4755-a7be-7f309ca54253",
   "metadata": {},
   "outputs": [],
   "source": []
  },
  {
   "cell_type": "code",
   "execution_count": 19,
   "id": "97895b62-e8a3-498a-b249-df2ccbed3647",
   "metadata": {},
   "outputs": [
    {
     "name": "stdout",
     "output_type": "stream",
     "text": [
      "['hello', 'my name is Peter', 'I am 26 years old']\n"
     ]
    }
   ],
   "source": [
    "# Split the string, using comma, followed by a space, as a separator:\n",
    "    \n",
    "txt = \"hello, my name is Peter, I am 26 years old\"\n",
    "\n",
    "x = txt.split(\", \")\n",
    "\n",
    "print(x)"
   ]
  },
  {
   "cell_type": "code",
   "execution_count": null,
   "id": "a656567d-e87c-48b2-a4aa-58d37796cc2b",
   "metadata": {},
   "outputs": [],
   "source": []
  },
  {
   "cell_type": "code",
   "execution_count": 20,
   "id": "8f3a530d-f37e-4e0a-8070-f531c849c643",
   "metadata": {},
   "outputs": [
    {
     "name": "stdout",
     "output_type": "stream",
     "text": [
      "['apple', 'banana', 'cherry', 'orange']\n"
     ]
    }
   ],
   "source": [
    "# Use a hash character as a separator:\n",
    "\n",
    "txt = \"apple#banana#cherry#orange\"\n",
    "\n",
    "x = txt.split(\"#\")\n",
    "\n",
    "print(x)"
   ]
  },
  {
   "cell_type": "code",
   "execution_count": null,
   "id": "529cf7ec-1315-48e7-96bf-bf7da904ad05",
   "metadata": {},
   "outputs": [],
   "source": []
  },
  {
   "cell_type": "code",
   "execution_count": 23,
   "id": "4abcc266-f0e3-489f-9d44-ba3698f675a9",
   "metadata": {},
   "outputs": [
    {
     "name": "stdout",
     "output_type": "stream",
     "text": [
      "['apple', 'banana#cherry#orange']\n"
     ]
    }
   ],
   "source": [
    "# Split the string into a list with max 2 items:\n",
    "\n",
    "txt = \"apple#banana#cherry#orange\"\n",
    "\n",
    "# setting the maxsplit parameter to 1, will return a list with 2 elements!\n",
    "\n",
    "x = txt.split(\"#\", 1)\n",
    "\n",
    "print(x)"
   ]
  },
  {
   "cell_type": "code",
   "execution_count": null,
   "id": "f8276b6b-acea-4d66-9e86-5755a770b1a2",
   "metadata": {},
   "outputs": [],
   "source": []
  },
  {
   "cell_type": "code",
   "execution_count": 25,
   "id": "7795eae5-d671-49df-8a87-dca282d3cc59",
   "metadata": {},
   "outputs": [
    {
     "name": "stdout",
     "output_type": "stream",
     "text": [
      "['Thank you for the music', 'Welcome to the jungle']\n"
     ]
    }
   ],
   "source": [
    "# Split a string into a list where each line is a list item:\n",
    "\n",
    "txt = \"Thank you for the music\\nWelcome to the jungle\"\n",
    "\n",
    "x = txt.splitlines()\n",
    "\n",
    "print(x)"
   ]
  },
  {
   "cell_type": "code",
   "execution_count": null,
   "id": "4fb8d179-2525-4aba-87e2-abe635307888",
   "metadata": {},
   "outputs": [],
   "source": []
  },
  {
   "cell_type": "code",
   "execution_count": 26,
   "id": "59f6be54-540f-4e6d-a947-86115ee0cc92",
   "metadata": {},
   "outputs": [
    {
     "name": "stdout",
     "output_type": "stream",
     "text": [
      "['Thank you for the music\\n', 'Welcome to the jungle']\n"
     ]
    }
   ],
   "source": [
    "# Split the string, but keep the line breaks:\n",
    "\n",
    "\n",
    "txt = \"Thank you for the music\\nWelcome to the jungle\"\n",
    "\n",
    "x = txt.splitlines(True)\n",
    "\n",
    "print(x)"
   ]
  },
  {
   "cell_type": "code",
   "execution_count": null,
   "id": "e65fa343-295a-4513-bb89-40f34a809a97",
   "metadata": {},
   "outputs": [],
   "source": []
  },
  {
   "cell_type": "code",
   "execution_count": 1,
   "id": "b9aea61a-b9db-49a5-bc71-12b4453d2ca8",
   "metadata": {},
   "outputs": [
    {
     "name": "stdout",
     "output_type": "stream",
     "text": [
      "True\n"
     ]
    }
   ],
   "source": [
    "# Returns true if the string starts with the specified value\n",
    "\n",
    "txt = \"Hello, welcome to my world.\"\n",
    "\n",
    "x = txt.startswith(\"Hello\")\n",
    "\n",
    "print(x)"
   ]
  },
  {
   "cell_type": "code",
   "execution_count": null,
   "id": "559ec272-491b-4183-81a8-fe6f5412defd",
   "metadata": {},
   "outputs": [],
   "source": []
  },
  {
   "cell_type": "code",
   "execution_count": 3,
   "id": "ad203542-9f67-4cd1-9e8c-5af434a32473",
   "metadata": {},
   "outputs": [
    {
     "name": "stdout",
     "output_type": "stream",
     "text": [
      "True\n"
     ]
    }
   ],
   "source": [
    "# Check if position 7 to 20 starts with the characters \"wel\":\n",
    "\n",
    "txt = \"Hello, welcome to my world.\"\n",
    "\n",
    "x = txt.startswith(\"wel\", 7, 20)\n",
    "\n",
    "print(x)"
   ]
  },
  {
   "cell_type": "code",
   "execution_count": null,
   "id": "da4ce3fa-3eb8-4ee3-ab2a-5cd3963768b3",
   "metadata": {},
   "outputs": [],
   "source": []
  },
  {
   "cell_type": "code",
   "execution_count": 3,
   "id": "e3cc2585-6419-40d3-aede-a95141227763",
   "metadata": {},
   "outputs": [
    {
     "name": "stdout",
     "output_type": "stream",
     "text": [
      "of all fruits banana is my favorite\n"
     ]
    }
   ],
   "source": [
    "# Returns a trimmed version of the string\n",
    "# Remove spaces at the beginning and at the end of the string:\n",
    "\n",
    "txt = \"     banana     \"\n",
    "\n",
    "x = txt.strip()\n",
    "\n",
    "print(\"of all fruits\", x, \"is my favorite\")"
   ]
  },
  {
   "cell_type": "code",
   "execution_count": null,
   "id": "e223f5a5-924a-4f9d-b6bc-3f93d7a8b8ad",
   "metadata": {},
   "outputs": [],
   "source": []
  },
  {
   "cell_type": "code",
   "execution_count": 4,
   "id": "5d8bd9f2-0afa-4b27-9722-507cb9595511",
   "metadata": {},
   "outputs": [
    {
     "name": "stdout",
     "output_type": "stream",
     "text": [
      "hELLO mY nAME iS peter\n"
     ]
    }
   ],
   "source": [
    "# Swaps cases, lower case becomes upper case and vice versa\n",
    "# Make the lower case letters upper case and the upper case letters lower case:\n",
    "\n",
    "txt = \"Hello My Name Is PETER\"\n",
    "\n",
    "x = txt.swapcase()\n",
    "\n",
    "print(x)"
   ]
  },
  {
   "cell_type": "code",
   "execution_count": null,
   "id": "881caff4-8d3d-4fa4-abf8-f38c97fbbaca",
   "metadata": {},
   "outputs": [],
   "source": []
  },
  {
   "cell_type": "code",
   "execution_count": 5,
   "id": "5e26a2ba-5502-448c-b7f6-34f6eb60fc3b",
   "metadata": {},
   "outputs": [
    {
     "name": "stdout",
     "output_type": "stream",
     "text": [
      "Welcome To My World\n"
     ]
    }
   ],
   "source": [
    "# Converts the first character of each word to upper case\n",
    "# Make the first letter in each word upper case:\n",
    "\n",
    "txt = \"Welcome to my world\"\n",
    "\n",
    "x = txt.title()\n",
    "\n",
    "print(x)"
   ]
  },
  {
   "cell_type": "code",
   "execution_count": null,
   "id": "5e9cf8d5-e0c9-4df3-83c9-9ff24e78f0ae",
   "metadata": {},
   "outputs": [],
   "source": []
  },
  {
   "cell_type": "code",
   "execution_count": 8,
   "id": "7eaca806-5c8e-4367-995c-f290759093af",
   "metadata": {},
   "outputs": [
    {
     "name": "stdout",
     "output_type": "stream",
     "text": [
      "Hello Pam!\n"
     ]
    }
   ],
   "source": [
    "# Returns a translated string\n",
    "# Replace any \"S\" characters with a \"P\" character:\n",
    "\n",
    "#use a dictionary with ascii codes to replace 83 (S) with 80 (P):\n",
    "mydict = {83:  80}\n",
    "txt = \"Hello Sam!\"\n",
    "print(txt.translate(mydict))"
   ]
  },
  {
   "cell_type": "code",
   "execution_count": null,
   "id": "77f47d05-30bc-459b-8754-bbd443057efa",
   "metadata": {},
   "outputs": [],
   "source": []
  },
  {
   "cell_type": "code",
   "execution_count": 9,
   "id": "03459ca8-4e23-4096-8335-95c57e56c707",
   "metadata": {},
   "outputs": [
    {
     "name": "stdout",
     "output_type": "stream",
     "text": [
      "HELLO MY FRIENDS\n"
     ]
    }
   ],
   "source": [
    "# Converts a string into upper case\n",
    "# Upper case the string:\n",
    "\n",
    "txt = \"Hello my friends\"\n",
    "\n",
    "x = txt.upper()\n",
    "\n",
    "print(x)\n"
   ]
  },
  {
   "cell_type": "code",
   "execution_count": null,
   "id": "4ad6cda4-c456-49d5-b3a6-ecb03840ee81",
   "metadata": {},
   "outputs": [],
   "source": []
  },
  {
   "cell_type": "code",
   "execution_count": 10,
   "id": "93016a3b-581e-4934-9eb0-5d6232349cd6",
   "metadata": {},
   "outputs": [
    {
     "name": "stdout",
     "output_type": "stream",
     "text": [
      "0000000050\n"
     ]
    }
   ],
   "source": [
    "# Fills the string with a specified number of 0 values at the beginning\n",
    "# Fill the string with zeros until it is 10 characters long:\n",
    "\n",
    "txt = \"50\"\n",
    "\n",
    "x = txt.zfill(10)\n",
    "\n",
    "print(x)"
   ]
  },
  {
   "cell_type": "code",
   "execution_count": null,
   "id": "6b27e170-bc68-4126-9094-a5e54918acb8",
   "metadata": {},
   "outputs": [],
   "source": []
  },
  {
   "cell_type": "code",
   "execution_count": 23,
   "id": "c327df5f-643c-4eb2-ad72-c367b8733748",
   "metadata": {},
   "outputs": [
    {
     "name": "stdout",
     "output_type": "stream",
     "text": [
      "True\n",
      "False\n",
      "False\n"
     ]
    }
   ],
   "source": [
    "# Boolean\n",
    "print(10 > 9)\n",
    "print(10 == 9)\n",
    "print(10 < 9)"
   ]
  },
  {
   "cell_type": "code",
   "execution_count": null,
   "id": "19be1b8e-8595-490b-81cb-b22b55d0aa38",
   "metadata": {},
   "outputs": [],
   "source": []
  },
  {
   "cell_type": "code",
   "execution_count": 21,
   "id": "2fcc1984-fd9c-4c17-8fb0-8ca80d338a22",
   "metadata": {},
   "outputs": [
    {
     "name": "stdout",
     "output_type": "stream",
     "text": [
      "b is not greater than a\n"
     ]
    }
   ],
   "source": [
    "# Boolean\n",
    "# Print a message based on whether the condition is True or False:\n",
    "# Almost any value is evaluated to True if it has some sort of content.\n",
    "\n",
    "# Any string is True, except empty strings.\n",
    "\n",
    "# Any number is True, except 0.\n",
    "\n",
    "# Any list, tuple, set, and dictionary are True, except empty ones.\n",
    "\n",
    "a = 200\n",
    "b = 33\n",
    "\n",
    "if b > a:\n",
    "  print(\"b is greater than a\")\n",
    "else:\n",
    "  print(\"b is not greater than a\")"
   ]
  },
  {
   "cell_type": "code",
   "execution_count": null,
   "id": "91cb0d15-4e24-45f4-965c-b9f54c835660",
   "metadata": {},
   "outputs": [],
   "source": []
  },
  {
   "cell_type": "code",
   "execution_count": 20,
   "id": "18168e80-efd5-4f14-b7b8-2b1799ae18ce",
   "metadata": {},
   "outputs": [
    {
     "name": "stdout",
     "output_type": "stream",
     "text": [
      "True\n",
      "True\n"
     ]
    }
   ],
   "source": [
    "# Boolean\n",
    "# Evaluate a string and a number:\n",
    "# Almost any value is evaluated to True if it has some sort of content.\n",
    "\n",
    "# Any string is True, except empty strings.\n",
    "\n",
    "# Any number is True, except 0.\n",
    "\n",
    "# Any list, tuple, set, and dictionary are True, except empty ones.\n",
    "\n",
    "print(bool(\"Hello\"))\n",
    "print(bool(15))"
   ]
  },
  {
   "cell_type": "code",
   "execution_count": null,
   "id": "5bfbfd57-631e-4a51-af2b-96c9857fb431",
   "metadata": {},
   "outputs": [],
   "source": []
  },
  {
   "cell_type": "code",
   "execution_count": 22,
   "id": "8278e7c3-4aaf-48df-a166-904cc439d9f1",
   "metadata": {},
   "outputs": [
    {
     "name": "stdout",
     "output_type": "stream",
     "text": [
      "True\n",
      "True\n"
     ]
    }
   ],
   "source": [
    "# Boolean\n",
    "# Almost any value is evaluated to True if it has some sort of content.\n",
    "\n",
    "# Any string is True, except empty strings.\n",
    "\n",
    "# Any number is True, except 0.\n",
    "\n",
    "# Any list, tuple, set, and dictionary are True, except empty ones.\n",
    "\n",
    "x = \"Hello\"\n",
    "y = 15\n",
    "\n",
    "print(bool(x))\n",
    "print(bool(y))"
   ]
  },
  {
   "cell_type": "code",
   "execution_count": null,
   "id": "7e29b562-e7ad-457c-a966-da2e050e16e5",
   "metadata": {},
   "outputs": [],
   "source": []
  },
  {
   "cell_type": "code",
   "execution_count": 30,
   "id": "55552c28-8c96-4cf4-bb96-95ba4d4264e3",
   "metadata": {},
   "outputs": [
    {
     "name": "stdout",
     "output_type": "stream",
     "text": [
      "5\n"
     ]
    }
   ],
   "source": [
    "# Python Operator\n",
    "\n",
    "x = 2\n",
    "x += 3\n",
    "print(x)"
   ]
  },
  {
   "cell_type": "code",
   "execution_count": 32,
   "id": "c8ef6ea3-9ff3-4002-83bf-9a519ae5f8f2",
   "metadata": {},
   "outputs": [
    {
     "name": "stdout",
     "output_type": "stream",
     "text": [
      "7\n"
     ]
    }
   ],
   "source": [
    "# Python Operator\n",
    "\n",
    "x = 10\n",
    "x -= 3\n",
    "print(x)"
   ]
  },
  {
   "cell_type": "code",
   "execution_count": null,
   "id": "b483ce26-cc78-446a-9359-f9d3808b99aa",
   "metadata": {},
   "outputs": [],
   "source": []
  },
  {
   "cell_type": "code",
   "execution_count": 33,
   "id": "c18bf4bb-a38e-4b4d-a493-36fa36210b46",
   "metadata": {},
   "outputs": [
    {
     "name": "stdout",
     "output_type": "stream",
     "text": [
      "12\n"
     ]
    }
   ],
   "source": [
    "# Python Operator\n",
    "\n",
    "x = 4\n",
    "x *= 3\n",
    "print(x)"
   ]
  },
  {
   "cell_type": "code",
   "execution_count": null,
   "id": "9b1d65a7-324b-4a52-8078-88c3a38fcc87",
   "metadata": {},
   "outputs": [],
   "source": []
  },
  {
   "cell_type": "code",
   "execution_count": 34,
   "id": "2ff66d82-79f4-4cc8-b433-e38949fce68f",
   "metadata": {},
   "outputs": [
    {
     "name": "stdout",
     "output_type": "stream",
     "text": [
      "10.0\n"
     ]
    }
   ],
   "source": [
    "# Python Operator\n",
    "\n",
    "x = 20\n",
    "x /= 2\n",
    "print(x)"
   ]
  },
  {
   "cell_type": "code",
   "execution_count": null,
   "id": "437b7ec0-431d-44a8-b91a-ecfa8c32920b",
   "metadata": {},
   "outputs": [],
   "source": []
  },
  {
   "cell_type": "code",
   "execution_count": 36,
   "id": "6d14cb5c-4622-471a-b38a-30aec13eaea0",
   "metadata": {},
   "outputs": [
    {
     "name": "stdout",
     "output_type": "stream",
     "text": [
      "1\n"
     ]
    }
   ],
   "source": [
    "# Python Operator\n",
    "\n",
    "x = 22\n",
    "x %= 3\n",
    "print(x)"
   ]
  },
  {
   "cell_type": "code",
   "execution_count": null,
   "id": "56a1bd49-c642-4227-876f-e1a816199345",
   "metadata": {},
   "outputs": [],
   "source": []
  },
  {
   "cell_type": "code",
   "execution_count": 39,
   "id": "a2c5ff49-f4ef-4512-afb4-f7f8af63f6ea",
   "metadata": {},
   "outputs": [
    {
     "name": "stdout",
     "output_type": "stream",
     "text": [
      "10\n"
     ]
    }
   ],
   "source": [
    "# Python Operator\n",
    "\n",
    "x = 31\n",
    "x //= 3\n",
    "print(x)"
   ]
  },
  {
   "cell_type": "code",
   "execution_count": null,
   "id": "b4011ead-8e9d-47e8-942c-5927c50601c8",
   "metadata": {},
   "outputs": [],
   "source": []
  },
  {
   "cell_type": "code",
   "execution_count": 40,
   "id": "7d2d94b4-4548-4a60-b1f2-4d9dd51b4360",
   "metadata": {},
   "outputs": [
    {
     "name": "stdout",
     "output_type": "stream",
     "text": [
      "25\n"
     ]
    }
   ],
   "source": [
    "# Python Operator\n",
    "\n",
    "x = 5\n",
    "x **= 2\n",
    "print(x)"
   ]
  },
  {
   "cell_type": "code",
   "execution_count": null,
   "id": "7961a90e-1e08-463b-acd5-2f5401d47ef6",
   "metadata": {},
   "outputs": [],
   "source": []
  },
  {
   "cell_type": "code",
   "execution_count": 43,
   "id": "eaddebd2-b329-44e0-8eba-1d26f255a80c",
   "metadata": {},
   "outputs": [
    {
     "data": {
      "text/plain": [
       "False"
      ]
     },
     "execution_count": 43,
     "metadata": {},
     "output_type": "execute_result"
    }
   ],
   "source": [
    "# Python Operator\n",
    "\n",
    "x = 5\n",
    "x <= 3"
   ]
  },
  {
   "cell_type": "code",
   "execution_count": null,
   "id": "c5bf5679-8b4e-409d-b151-5f76bbece6ab",
   "metadata": {},
   "outputs": [],
   "source": []
  },
  {
   "cell_type": "code",
   "execution_count": 44,
   "id": "a8591957-1862-4769-840a-c6ec269fccf6",
   "metadata": {},
   "outputs": [
    {
     "data": {
      "text/plain": [
       "True"
      ]
     },
     "execution_count": 44,
     "metadata": {},
     "output_type": "execute_result"
    }
   ],
   "source": [
    "# Python Operator\n",
    "\n",
    "x = 5\n",
    "x >= 3"
   ]
  },
  {
   "cell_type": "code",
   "execution_count": null,
   "id": "29e4274d-8efb-445c-acf0-edc690c48c35",
   "metadata": {},
   "outputs": [],
   "source": []
  },
  {
   "cell_type": "code",
   "execution_count": 45,
   "id": "223ad68b-fc63-4244-b7be-cd511eefc262",
   "metadata": {},
   "outputs": [
    {
     "data": {
      "text/plain": [
       "True"
      ]
     },
     "execution_count": 45,
     "metadata": {},
     "output_type": "execute_result"
    }
   ],
   "source": [
    "# Python Operator\n",
    "\n",
    "x = 5\n",
    "x != 3"
   ]
  },
  {
   "cell_type": "code",
   "execution_count": null,
   "id": "e52cd918-1af0-44bc-9275-f4166580149c",
   "metadata": {},
   "outputs": [],
   "source": []
  },
  {
   "cell_type": "code",
   "execution_count": 46,
   "id": "f7e41224-a058-4eeb-8c10-43c0c9a84af8",
   "metadata": {},
   "outputs": [
    {
     "data": {
      "text/plain": [
       "True"
      ]
     },
     "execution_count": 46,
     "metadata": {},
     "output_type": "execute_result"
    }
   ],
   "source": [
    "# Python Operator\n",
    "\n",
    "x = 5\n",
    "x < 15"
   ]
  },
  {
   "cell_type": "code",
   "execution_count": null,
   "id": "b4e97b03-e49a-4dd0-b834-52f34eb3443a",
   "metadata": {},
   "outputs": [],
   "source": []
  },
  {
   "cell_type": "code",
   "execution_count": 47,
   "id": "a646843e-47eb-499b-a4cf-0c4f0ef10475",
   "metadata": {},
   "outputs": [
    {
     "data": {
      "text/plain": [
       "True"
      ]
     },
     "execution_count": 47,
     "metadata": {},
     "output_type": "execute_result"
    }
   ],
   "source": [
    "# Python Operator\n",
    "\n",
    "x = 25\n",
    "x > 20"
   ]
  },
  {
   "cell_type": "code",
   "execution_count": null,
   "id": "4e3bec6e-762c-409f-a77f-84529fbaf042",
   "metadata": {},
   "outputs": [],
   "source": []
  },
  {
   "cell_type": "code",
   "execution_count": 48,
   "id": "43e9a161-5ae3-4665-a899-069b6195c60d",
   "metadata": {},
   "outputs": [
    {
     "data": {
      "text/plain": [
       "False"
      ]
     },
     "execution_count": 48,
     "metadata": {},
     "output_type": "execute_result"
    }
   ],
   "source": [
    "# Python Operator\n",
    "\n",
    "x = 5\n",
    "x == 3"
   ]
  },
  {
   "cell_type": "code",
   "execution_count": null,
   "id": "06f75814-9e9b-4456-8b29-af25509bd10f",
   "metadata": {},
   "outputs": [],
   "source": []
  },
  {
   "cell_type": "markdown",
   "id": "e3305efc-8fe7-44b5-a457-b57b44f8e27b",
   "metadata": {
    "tags": []
   },
   "source": [
    "# Python Lists"
   ]
  },
  {
   "cell_type": "code",
   "execution_count": 1,
   "id": "6fbe3ae0-ca16-4abb-ac86-3250ed7d0aaf",
   "metadata": {},
   "outputs": [
    {
     "name": "stdout",
     "output_type": "stream",
     "text": [
      "['apple', 'banana', 'cherry']\n"
     ]
    }
   ],
   "source": [
    "thislist = [\"apple\", \"banana\", \"cherry\"]\n",
    "\n",
    "print(thislist)"
   ]
  },
  {
   "cell_type": "code",
   "execution_count": null,
   "id": "4223f3d7-d751-4544-8943-39fa0f37cb07",
   "metadata": {},
   "outputs": [],
   "source": []
  },
  {
   "cell_type": "code",
   "execution_count": 3,
   "id": "54f52f1b-0124-4975-88bf-2482a97f1798",
   "metadata": {},
   "outputs": [
    {
     "name": "stdout",
     "output_type": "stream",
     "text": [
      "['apple', 'banana', 'cherry', 'apple', 'cherry']\n"
     ]
    }
   ],
   "source": [
    "# Lists allow duplicate values:\n",
    "\n",
    "thislist = [\"apple\", \"banana\", \"cherry\", \"apple\", \"cherry\"]\n",
    "print(thislist)"
   ]
  },
  {
   "cell_type": "code",
   "execution_count": null,
   "id": "c071e221-8fc6-41e0-bd5d-69b5a6b59474",
   "metadata": {},
   "outputs": [],
   "source": []
  },
  {
   "cell_type": "code",
   "execution_count": 5,
   "id": "920e64ff-014c-4dfc-8f9f-ff19a81dbfa4",
   "metadata": {},
   "outputs": [
    {
     "name": "stdout",
     "output_type": "stream",
     "text": [
      "3\n"
     ]
    }
   ],
   "source": [
    "# Print the number of items in the list:\n",
    "\n",
    "thislist = [\"apple\", \"banana\", \"cherry\"]\n",
    "\n",
    "print(len(thislist))"
   ]
  },
  {
   "cell_type": "code",
   "execution_count": null,
   "id": "c6fab96b-9dc3-49fa-b964-ca91ea3f1729",
   "metadata": {},
   "outputs": [],
   "source": []
  },
  {
   "cell_type": "code",
   "execution_count": 10,
   "id": "3db4c237-da5e-427a-a192-3e459092d20c",
   "metadata": {},
   "outputs": [
    {
     "name": "stdout",
     "output_type": "stream",
     "text": [
      "<class 'list'>\n",
      "<class 'list'>\n",
      "<class 'list'>\n"
     ]
    }
   ],
   "source": [
    "# String, int and boolean data types:\n",
    "\n",
    "list1 = [\"apple\", \"banana\", \"cherry\"]\n",
    "list2 = [1, 5, 7, 9, 3]\n",
    "list3 = [True, False, False]\n",
    "\n",
    "a = type(list1)\n",
    "b = type(list2)\n",
    "c = type(list3)\n",
    "\n",
    "print(a)\n",
    "print(b)\n",
    "print(c)"
   ]
  },
  {
   "cell_type": "code",
   "execution_count": null,
   "id": "d3bfec2f-dec6-438b-bce9-865369df1afb",
   "metadata": {},
   "outputs": [],
   "source": []
  },
  {
   "cell_type": "code",
   "execution_count": 13,
   "id": "30d9bea0-6c8a-4b41-a77a-535d77e7a2cb",
   "metadata": {},
   "outputs": [
    {
     "name": "stdout",
     "output_type": "stream",
     "text": [
      "<class 'list'>\n"
     ]
    }
   ],
   "source": [
    "mylist = [\"apple\", \"banana\", \"cherry\"]\n",
    "print(type(mylist))"
   ]
  },
  {
   "cell_type": "code",
   "execution_count": null,
   "id": "88f6c98e-97a6-4b6d-a52d-9743c63eaf42",
   "metadata": {},
   "outputs": [],
   "source": []
  },
  {
   "cell_type": "code",
   "execution_count": 14,
   "id": "208338f3-ba3d-4bb3-aed5-d6415d8a79f0",
   "metadata": {},
   "outputs": [
    {
     "name": "stdout",
     "output_type": "stream",
     "text": [
      "['apple', 'banana', 'cherry']\n"
     ]
    }
   ],
   "source": [
    "# Using the list() constructor to make a List:\n",
    "\n",
    "thislist = list((\"apple\", \"banana\", \"cherry\")) # note the double round-brackets\n",
    "\n",
    "print(thislist)"
   ]
  },
  {
   "cell_type": "code",
   "execution_count": null,
   "id": "9aab468f-1173-410b-8d55-56c8d4f7a180",
   "metadata": {},
   "outputs": [],
   "source": []
  },
  {
   "cell_type": "code",
   "execution_count": 15,
   "id": "79fbe8e6-0f42-4423-b1be-c2908891ddd4",
   "metadata": {},
   "outputs": [
    {
     "name": "stdout",
     "output_type": "stream",
     "text": [
      "banana\n"
     ]
    }
   ],
   "source": [
    "# Print the second item of the list:\n",
    "\n",
    "thislist = [\"apple\", \"banana\", \"cherry\"]\n",
    "\n",
    "print(thislist[1])"
   ]
  },
  {
   "cell_type": "code",
   "execution_count": null,
   "id": "5696cc03-9931-4f4e-ab08-11b945230442",
   "metadata": {},
   "outputs": [],
   "source": []
  },
  {
   "cell_type": "code",
   "execution_count": 16,
   "id": "6e5e35ce-f4b1-4fa4-bfaf-93e182ed6198",
   "metadata": {},
   "outputs": [
    {
     "name": "stdout",
     "output_type": "stream",
     "text": [
      "cherry\n"
     ]
    }
   ],
   "source": [
    "# Negative indexing means start from the end\n",
    "# Print the last item of the list:\n",
    "\n",
    "thislist = [\"apple\", \"banana\", \"cherry\"]\n",
    "print(thislist[-1])"
   ]
  },
  {
   "cell_type": "code",
   "execution_count": null,
   "id": "16acf9d5-fcfd-415a-b20c-bb9c3ce0a66e",
   "metadata": {},
   "outputs": [],
   "source": []
  },
  {
   "cell_type": "code",
   "execution_count": 17,
   "id": "ceae68a4-d27b-4976-8b34-b12edbe0b626",
   "metadata": {},
   "outputs": [
    {
     "name": "stdout",
     "output_type": "stream",
     "text": [
      "['cherry', 'orange', 'kiwi']\n"
     ]
    }
   ],
   "source": [
    "# Return the third, fourth, and fifth item:\n",
    "\n",
    "thislist = [\"apple\", \"banana\", \"cherry\", \"orange\", \"kiwi\", \"melon\", \"mango\"]\n",
    "print(thislist[2:5])"
   ]
  },
  {
   "cell_type": "code",
   "execution_count": null,
   "id": "1e756d16-0776-4137-85f6-35c86140a768",
   "metadata": {},
   "outputs": [],
   "source": []
  },
  {
   "cell_type": "code",
   "execution_count": 18,
   "id": "d06eb58c-d901-488c-ac0a-dd34f562ecc0",
   "metadata": {},
   "outputs": [
    {
     "name": "stdout",
     "output_type": "stream",
     "text": [
      "['apple', 'banana', 'cherry', 'orange']\n"
     ]
    }
   ],
   "source": [
    "# This example returns the items from the beginning to, but NOT including, \"kiwi\":\n",
    "\n",
    "thislist = [\"apple\", \"banana\", \"cherry\", \"orange\", \"kiwi\", \"melon\", \"mango\"]\n",
    "print(thislist[:4])"
   ]
  },
  {
   "cell_type": "code",
   "execution_count": null,
   "id": "2c704337-1d09-42ea-b6cc-a0ee551f8fd4",
   "metadata": {},
   "outputs": [],
   "source": []
  },
  {
   "cell_type": "code",
   "execution_count": 19,
   "id": "ef131b41-c32f-42af-86ca-20aec0523952",
   "metadata": {},
   "outputs": [
    {
     "name": "stdout",
     "output_type": "stream",
     "text": [
      "['cherry', 'orange', 'kiwi', 'melon', 'mango']\n"
     ]
    }
   ],
   "source": [
    "# This example returns the items from \"cherry\" to the end:\n",
    "\n",
    "thislist = [\"apple\", \"banana\", \"cherry\", \"orange\", \"kiwi\", \"melon\", \"mango\"]\n",
    "print(thislist[2:])"
   ]
  },
  {
   "cell_type": "code",
   "execution_count": null,
   "id": "a3f0fc22-23c5-4c81-b8ef-fc26d7b94b5f",
   "metadata": {},
   "outputs": [],
   "source": []
  },
  {
   "cell_type": "code",
   "execution_count": 21,
   "id": "52d7dabe-a151-4b19-8914-b9a2a65d5752",
   "metadata": {},
   "outputs": [
    {
     "name": "stdout",
     "output_type": "stream",
     "text": [
      "['orange', 'kiwi', 'melon']\n"
     ]
    }
   ],
   "source": [
    "# This example returns the items from \"orange\" (-4) to, but NOT including \"mango\" (-1):\n",
    "\n",
    "thislist = [\"apple\", \"banana\", \"cherry\", \"orange\", \"kiwi\", \"melon\", \"mango\"]\n",
    "print(thislist[-4:-1])"
   ]
  },
  {
   "cell_type": "code",
   "execution_count": null,
   "id": "f77c7c66-0862-4d43-a259-9049b80ca1f2",
   "metadata": {},
   "outputs": [],
   "source": []
  },
  {
   "cell_type": "code",
   "execution_count": 22,
   "id": "dc846f28-2929-4bd8-9489-72566720cf8c",
   "metadata": {},
   "outputs": [
    {
     "name": "stdout",
     "output_type": "stream",
     "text": [
      "Yes, 'apple' is in the fruits list\n"
     ]
    }
   ],
   "source": [
    "# Check if \"apple\" is present in the list:\n",
    "\n",
    "thislist = [\"apple\", \"banana\", \"cherry\"]\n",
    "if \"apple\" in thislist:\n",
    "  print(\"Yes, 'apple' is in the fruits list\")"
   ]
  },
  {
   "cell_type": "code",
   "execution_count": null,
   "id": "f0e7bf90-2f77-41f0-a0a4-8b3459036c45",
   "metadata": {},
   "outputs": [],
   "source": []
  },
  {
   "cell_type": "code",
   "execution_count": 23,
   "id": "4e160aa2-30cc-4533-b775-bf452cae9201",
   "metadata": {},
   "outputs": [
    {
     "name": "stdout",
     "output_type": "stream",
     "text": [
      "['apple', 'blackcurrant', 'cherry']\n"
     ]
    }
   ],
   "source": [
    "# Change the second item:\n",
    "\n",
    "thislist = [\"apple\", \"banana\", \"cherry\"]\n",
    "thislist[1] = \"blackcurrant\"\n",
    "print(thislist)"
   ]
  },
  {
   "cell_type": "code",
   "execution_count": null,
   "id": "1288c629-25bb-46a5-9b95-b16bab5d81cf",
   "metadata": {},
   "outputs": [],
   "source": []
  },
  {
   "cell_type": "code",
   "execution_count": 24,
   "id": "21187352-936f-48cd-9b0e-c07a189ae443",
   "metadata": {},
   "outputs": [
    {
     "name": "stdout",
     "output_type": "stream",
     "text": [
      "['apple', 'blackcurrant', 'watermelon', 'orange', 'kiwi', 'mango']\n"
     ]
    }
   ],
   "source": [
    "# Change the values \"banana\" and \"cherry\" with the values \"blackcurrant\" and \"watermelon\":\n",
    "\n",
    "thislist = [\"apple\", \"banana\", \"cherry\", \"orange\", \"kiwi\", \"mango\"]\n",
    "thislist[1:3] = [\"blackcurrant\", \"watermelon\"]\n",
    "print(thislist)"
   ]
  },
  {
   "cell_type": "code",
   "execution_count": null,
   "id": "8c0a9f8e-9503-4231-8b08-7757c4738819",
   "metadata": {},
   "outputs": [],
   "source": []
  },
  {
   "cell_type": "code",
   "execution_count": 25,
   "id": "a96ca814-46b1-4be5-b65c-4dd45072737e",
   "metadata": {},
   "outputs": [
    {
     "name": "stdout",
     "output_type": "stream",
     "text": [
      "['apple', 'blackcurrant', 'watermelon', 'cherry']\n"
     ]
    }
   ],
   "source": [
    "# Change the second value by replacing it with two new values:\n",
    "\n",
    "thislist = [\"apple\", \"banana\", \"cherry\"]\n",
    "thislist[1:2] = [\"blackcurrant\", \"watermelon\"]\n",
    "print(thislist)"
   ]
  },
  {
   "cell_type": "code",
   "execution_count": null,
   "id": "6571ccb3-3ac9-4da8-9460-7bd64bf70924",
   "metadata": {},
   "outputs": [],
   "source": []
  },
  {
   "cell_type": "code",
   "execution_count": 26,
   "id": "c8b47b52-c0d9-4804-8941-71f8623831de",
   "metadata": {},
   "outputs": [
    {
     "name": "stdout",
     "output_type": "stream",
     "text": [
      "['apple', 'watermelon']\n"
     ]
    }
   ],
   "source": [
    "# Change the second and third value by replacing it with one value:\n",
    "\n",
    "thislist = [\"apple\", \"banana\", \"cherry\"]\n",
    "thislist[1:3] = [\"watermelon\"]\n",
    "print(thislist)"
   ]
  },
  {
   "cell_type": "code",
   "execution_count": null,
   "id": "baef5ff0-5d2e-43a2-a554-e8c013b73548",
   "metadata": {},
   "outputs": [],
   "source": []
  },
  {
   "cell_type": "code",
   "execution_count": 27,
   "id": "8c08f28c-7d47-486b-b2ef-18366e0d1df3",
   "metadata": {},
   "outputs": [
    {
     "name": "stdout",
     "output_type": "stream",
     "text": [
      "['apple', 'banana', 'watermelon', 'cherry']\n"
     ]
    }
   ],
   "source": [
    "# Insert \"watermelon\" as the third item:\n",
    "\n",
    "thislist = [\"apple\", \"banana\", \"cherry\"]\n",
    "thislist.insert(2, \"watermelon\")\n",
    "print(thislist)"
   ]
  },
  {
   "cell_type": "code",
   "execution_count": null,
   "id": "c7669da1-5db7-4a1f-acfb-8b94bc430780",
   "metadata": {},
   "outputs": [],
   "source": []
  },
  {
   "cell_type": "code",
   "execution_count": null,
   "id": "d9527c22-46da-4046-87cf-cc87384e8109",
   "metadata": {},
   "outputs": [],
   "source": []
  },
  {
   "cell_type": "code",
   "execution_count": null,
   "id": "c9fa759b-363f-412f-8005-a19bc71ee8d5",
   "metadata": {},
   "outputs": [],
   "source": []
  },
  {
   "cell_type": "code",
   "execution_count": null,
   "id": "843b1481-8c93-46a7-8835-071d938d7fbe",
   "metadata": {},
   "outputs": [],
   "source": []
  },
  {
   "cell_type": "code",
   "execution_count": null,
   "id": "6724fef2-d770-42ef-9f4e-87ed4bba00d9",
   "metadata": {},
   "outputs": [],
   "source": []
  },
  {
   "cell_type": "code",
   "execution_count": null,
   "id": "d0c678fc-22c8-401f-b724-282bffca3f57",
   "metadata": {},
   "outputs": [],
   "source": []
  },
  {
   "cell_type": "code",
   "execution_count": null,
   "id": "d9e1b214-ea64-4a94-861e-05ced771679d",
   "metadata": {},
   "outputs": [],
   "source": []
  },
  {
   "cell_type": "code",
   "execution_count": null,
   "id": "e4588dc5-3514-42d8-9015-0e18f5ac60b5",
   "metadata": {},
   "outputs": [],
   "source": []
  },
  {
   "cell_type": "markdown",
   "id": "c5777b64-0afe-417b-8875-937870b10e7c",
   "metadata": {},
   "source": [
    "# Python Arrays"
   ]
  },
  {
   "cell_type": "code",
   "execution_count": 49,
   "id": "9eb43a47-c2c6-4904-8430-1e6e8b6569a3",
   "metadata": {},
   "outputs": [
    {
     "data": {
      "text/plain": [
       "['Ford', 'Volvo', 'BMW']"
      ]
     },
     "execution_count": 49,
     "metadata": {},
     "output_type": "execute_result"
    }
   ],
   "source": [
    "# Create an array containing car names:\n",
    "# Elements of an array can be accessed by referencing their indexes:\n",
    "\n",
    "cars = [\"Ford\", \"Volvo\", \"BMW\"]\n",
    "\n",
    "cars\n",
    "    \n",
    "    "
   ]
  },
  {
   "cell_type": "code",
   "execution_count": null,
   "id": "251057b4-4312-4d4b-8677-e59e800394c6",
   "metadata": {},
   "outputs": [],
   "source": []
  },
  {
   "cell_type": "code",
   "execution_count": 11,
   "id": "57d43438-53d6-46e8-af14-b414a4f76f37",
   "metadata": {},
   "outputs": [
    {
     "name": "stdout",
     "output_type": "stream",
     "text": [
      "<class 'list'>\n"
     ]
    }
   ],
   "source": [
    "cars = [\"Ford\", \"Volvo\", \"BMW\"]\n",
    "a = type(cars)\n",
    "\n",
    "print(a)"
   ]
  },
  {
   "cell_type": "code",
   "execution_count": null,
   "id": "dc94e97e-63ee-432c-bd00-e4856a1a8114",
   "metadata": {},
   "outputs": [],
   "source": []
  },
  {
   "cell_type": "code",
   "execution_count": 50,
   "id": "812626f3-138d-497b-b454-9c7525a01c0e",
   "metadata": {},
   "outputs": [
    {
     "data": {
      "text/plain": [
       "'Ford'"
      ]
     },
     "execution_count": 50,
     "metadata": {},
     "output_type": "execute_result"
    }
   ],
   "source": [
    "# Get the value of the first array item:\n",
    "\n",
    "first = cars[0]\n",
    "\n",
    "first"
   ]
  },
  {
   "cell_type": "code",
   "execution_count": null,
   "id": "cd40f5bf-450e-492b-ae1b-f2e096ad98f3",
   "metadata": {},
   "outputs": [],
   "source": []
  },
  {
   "cell_type": "code",
   "execution_count": 51,
   "id": "c3b17705-e9e1-4960-9ea7-177b1b833b1c",
   "metadata": {},
   "outputs": [
    {
     "data": {
      "text/plain": [
       "'Volvo'"
      ]
     },
     "execution_count": 51,
     "metadata": {},
     "output_type": "execute_result"
    }
   ],
   "source": [
    "# Get the value of the second array item:\n",
    "\n",
    "second = cars[1]\n",
    "\n",
    "second"
   ]
  },
  {
   "cell_type": "markdown",
   "id": "3aeb1c50-f413-4402-b08b-09f8e5f8e32d",
   "metadata": {},
   "source": [
    "# Modify the value of the first array item:"
   ]
  },
  {
   "cell_type": "code",
   "execution_count": 52,
   "id": "e138fb81-b714-4bd3-8b7c-b58bcf245853",
   "metadata": {},
   "outputs": [
    {
     "data": {
      "text/plain": [
       "['Toyota', 'Volvo', 'BMW']"
      ]
     },
     "execution_count": 52,
     "metadata": {},
     "output_type": "execute_result"
    }
   ],
   "source": [
    "# Modify the value of the first array item:\n",
    "\n",
    "cars[0] = \"Toyota\"\n",
    "\n",
    "cars"
   ]
  },
  {
   "cell_type": "code",
   "execution_count": null,
   "id": "ef215df0-bf76-4954-91db-5e85a9f69984",
   "metadata": {},
   "outputs": [],
   "source": []
  },
  {
   "cell_type": "markdown",
   "id": "6ed89d80-7e9d-4c87-835f-523bdd7f570d",
   "metadata": {},
   "source": [
    "# The Length of an Array\n",
    "\n",
    "# The length of an array is always one more than the highest array index."
   ]
  },
  {
   "cell_type": "code",
   "execution_count": 53,
   "id": "bb3b6264-d7e4-4cbc-97b4-040697d4eaec",
   "metadata": {},
   "outputs": [
    {
     "data": {
      "text/plain": [
       "3"
      ]
     },
     "execution_count": 53,
     "metadata": {},
     "output_type": "execute_result"
    }
   ],
   "source": [
    "x = len(cars)\n",
    "\n",
    "x"
   ]
  },
  {
   "cell_type": "code",
   "execution_count": null,
   "id": "548f4b17-4910-4f3f-8486-a9a668aa04ff",
   "metadata": {},
   "outputs": [],
   "source": []
  },
  {
   "cell_type": "markdown",
   "id": "813493da-2c9e-4afd-a22c-8e7b8aa7bdc0",
   "metadata": {
    "tags": []
   },
   "source": [
    "# Looping Array Elements\n",
    "\n",
    "# You can use the for in loop to loop through all the elements of an array."
   ]
  },
  {
   "cell_type": "code",
   "execution_count": 54,
   "id": "ae7eca18-b29a-40b9-a45d-bb74c3b92c67",
   "metadata": {},
   "outputs": [
    {
     "name": "stdout",
     "output_type": "stream",
     "text": [
      "Toyota\n",
      "Volvo\n",
      "BMW\n"
     ]
    }
   ],
   "source": [
    "# Print each item in the cars array:\n",
    "\n",
    "for x in cars:\n",
    "  print(x)"
   ]
  },
  {
   "cell_type": "code",
   "execution_count": null,
   "id": "92c13aca-0550-49d6-b018-ad7098e80c68",
   "metadata": {},
   "outputs": [],
   "source": []
  },
  {
   "cell_type": "markdown",
   "id": "ee68b241-6b1c-478c-8b99-123ea335bc06",
   "metadata": {},
   "source": [
    "# Adding Array Elements\n",
    "\n",
    "# You can use the append() method to add an element to an array."
   ]
  },
  {
   "cell_type": "code",
   "execution_count": 55,
   "id": "0edbd7d1-84fc-4bd9-8497-569cb66ba1cc",
   "metadata": {},
   "outputs": [
    {
     "data": {
      "text/plain": [
       "['Toyota', 'Volvo', 'BMW', 'Honda']"
      ]
     },
     "execution_count": 55,
     "metadata": {},
     "output_type": "execute_result"
    }
   ],
   "source": [
    "# Add one more element to the cars array:\n",
    "\n",
    "cars.append(\"Honda\")\n",
    "\n",
    "cars"
   ]
  },
  {
   "cell_type": "code",
   "execution_count": null,
   "id": "77411d13-eecb-4601-bf1f-26832081e980",
   "metadata": {},
   "outputs": [],
   "source": []
  },
  {
   "cell_type": "markdown",
   "id": "a6d947e5-055f-4833-b3d5-e006a94b245f",
   "metadata": {},
   "source": [
    "# Removing Array Elements\n",
    "\n",
    "# You can use the pop() method to remove an element from the array."
   ]
  },
  {
   "cell_type": "code",
   "execution_count": 56,
   "id": "f1187832-d963-4f7a-a034-2b923ca1456b",
   "metadata": {},
   "outputs": [
    {
     "data": {
      "text/plain": [
       "['Toyota', 'Volvo', 'BMW']"
      ]
     },
     "execution_count": 56,
     "metadata": {},
     "output_type": "execute_result"
    }
   ],
   "source": [
    "# Delete the second element of the cars array:\n",
    "\n",
    "cars.pop(3)\n",
    "\n",
    "cars"
   ]
  },
  {
   "cell_type": "code",
   "execution_count": null,
   "id": "43562391-af09-47fa-ad2d-429699119af5",
   "metadata": {},
   "outputs": [],
   "source": []
  },
  {
   "cell_type": "code",
   "execution_count": 57,
   "id": "7ec6024e-fb04-4ce4-b31a-340c2018cefc",
   "metadata": {},
   "outputs": [
    {
     "data": {
      "text/plain": [
       "['Toyota', 'Volvo']"
      ]
     },
     "execution_count": 57,
     "metadata": {},
     "output_type": "execute_result"
    }
   ],
   "source": [
    "# You can also use the remove() method to remove an element from the array.\n",
    "\n",
    "# Delete the element that has the value \"BMW\":\n",
    "\n",
    "cars.remove(\"BMW\")\n",
    "\n",
    "cars"
   ]
  },
  {
   "cell_type": "code",
   "execution_count": null,
   "id": "79dc9c1b-d03a-467c-b3a5-e38b68592d92",
   "metadata": {},
   "outputs": [],
   "source": []
  },
  {
   "cell_type": "markdown",
   "id": "d8ff427a-d441-44b0-ab05-f3f403d5b420",
   "metadata": {},
   "source": [
    "# Array Methods\n",
    "\n",
    "# Python has a set of built-in methods that you can use on lists/arrays."
   ]
  },
  {
   "cell_type": "code",
   "execution_count": null,
   "id": "86fd556b-9d7b-4f48-9781-24c6eff68cb8",
   "metadata": {},
   "outputs": [],
   "source": [
    "# append()\tAdds an element at the end of the list\n",
    "\n",
    "# clear()\tRemoves all the elements from the list\n",
    "\n",
    "# copy()\tReturns a copy of the list\n",
    "\n",
    "# count()\tReturns the number of elements with the specified value\n",
    "\n",
    "# extend()\tAdd the elements of a list (or any iterable), to the end of the current list\n",
    "\n",
    "# index()\tReturns the index of the first element with the specified value\n",
    "\n",
    "# insert()\tAdds an element at the specified position\n",
    "\n",
    "# pop()\tRemoves the element at the specified position\n",
    "\n",
    "# remove()\tRemoves the first item with the specified value\n",
    "\n",
    "# reverse()\tReverses the order of the list\n",
    "\n",
    "# sort()\tSorts the list"
   ]
  },
  {
   "cell_type": "code",
   "execution_count": null,
   "id": "bc326eec-a174-4baf-abb6-466b4b1dd5cf",
   "metadata": {},
   "outputs": [],
   "source": []
  },
  {
   "cell_type": "code",
   "execution_count": 58,
   "id": "6e2d05cb-6a4f-4999-a7dd-90fa9c5acd65",
   "metadata": {},
   "outputs": [
    {
     "data": {
      "text/plain": [
       "[]"
      ]
     },
     "execution_count": 58,
     "metadata": {},
     "output_type": "execute_result"
    }
   ],
   "source": [
    "# Remove all elements from the fruits list:\n",
    "\n",
    "fruits = ['apple', 'banana', 'cherry', 'orange']\n",
    "\n",
    "fruits.clear()\n",
    "\n",
    "fruits"
   ]
  },
  {
   "cell_type": "code",
   "execution_count": null,
   "id": "da859088-4776-48fc-b935-ab0673d5731a",
   "metadata": {},
   "outputs": [],
   "source": []
  },
  {
   "cell_type": "code",
   "execution_count": 60,
   "id": "0557f29a-050a-431d-87c6-7388b7503ce3",
   "metadata": {},
   "outputs": [
    {
     "data": {
      "text/plain": [
       "['apple', 'banana', 'cherry', 'orange']"
      ]
     },
     "execution_count": 60,
     "metadata": {},
     "output_type": "execute_result"
    }
   ],
   "source": [
    "# Copy the fruits list:\n",
    "\n",
    "fruits = ['apple', 'banana', 'cherry', 'orange']\n",
    "\n",
    "x = fruits.copy()\n",
    "\n",
    "x"
   ]
  },
  {
   "cell_type": "code",
   "execution_count": null,
   "id": "ec53c9c3-5ab1-4dcc-a156-32f563234683",
   "metadata": {},
   "outputs": [],
   "source": []
  },
  {
   "cell_type": "code",
   "execution_count": 63,
   "id": "4d02b8ac-f355-4aff-a793-0872feb2763b",
   "metadata": {},
   "outputs": [
    {
     "data": {
      "text/plain": [
       "2"
      ]
     },
     "execution_count": 63,
     "metadata": {},
     "output_type": "execute_result"
    }
   ],
   "source": [
    "# Return the number of times the value \"cherry\" appears in the fruits list:\n",
    "\n",
    "fruits = ['apple', 'cherry', 'banana', 'cherry']\n",
    "\n",
    "x = fruits.count(\"cherry\")\n",
    "\n",
    "x"
   ]
  },
  {
   "cell_type": "code",
   "execution_count": null,
   "id": "68fe0fe7-6865-4059-a7cb-99f5e3465abe",
   "metadata": {},
   "outputs": [],
   "source": []
  },
  {
   "cell_type": "code",
   "execution_count": 65,
   "id": "59212b80-4f0f-49ae-8338-c0eeeab00f32",
   "metadata": {},
   "outputs": [
    {
     "data": {
      "text/plain": [
       "2"
      ]
     },
     "execution_count": 65,
     "metadata": {},
     "output_type": "execute_result"
    }
   ],
   "source": [
    "# Return the number of times the value 9 appears int the list:\n",
    "\n",
    "points = [1, 4, 2, 9, 7, 8, 9, 3, 1]\n",
    "\n",
    "x = points.count(9)\n",
    "\n",
    "x"
   ]
  },
  {
   "cell_type": "code",
   "execution_count": null,
   "id": "f0000e2b-0c9c-48c2-b30f-9c6b1b25ec9d",
   "metadata": {},
   "outputs": [],
   "source": []
  },
  {
   "cell_type": "code",
   "execution_count": 66,
   "id": "97c78e95-d822-4d12-a5b3-418f00b41fe8",
   "metadata": {},
   "outputs": [
    {
     "data": {
      "text/plain": [
       "['apple', 'banana', 'cherry', 'Ford', 'BMW', 'Volvo']"
      ]
     },
     "execution_count": 66,
     "metadata": {},
     "output_type": "execute_result"
    }
   ],
   "source": [
    "# Add the elements of cars to the fruits list:\n",
    "\n",
    "fruits = ['apple', 'banana', 'cherry']\n",
    "\n",
    "cars = ['Ford', 'BMW', 'Volvo']\n",
    "\n",
    "fruits.extend(cars)\n",
    "\n",
    "fruits"
   ]
  },
  {
   "cell_type": "code",
   "execution_count": null,
   "id": "a961faa7-89b5-4e40-bb09-4af64031270d",
   "metadata": {},
   "outputs": [],
   "source": []
  },
  {
   "cell_type": "code",
   "execution_count": 68,
   "id": "87ec8fd1-a355-47b9-b6c0-8da3fe6fe9f9",
   "metadata": {},
   "outputs": [
    {
     "data": {
      "text/plain": [
       "['apple', 'banana', 'cherry', 1, 4, 5, 9]"
      ]
     },
     "execution_count": 68,
     "metadata": {},
     "output_type": "execute_result"
    }
   ],
   "source": [
    "# Add a tuple to the fruits list:\n",
    "\n",
    "fruits = ['apple', 'banana', 'cherry']\n",
    "\n",
    "points = (1, 4, 5, 9)\n",
    "\n",
    "fruits.extend(points)\n",
    "\n",
    "fruits"
   ]
  },
  {
   "cell_type": "code",
   "execution_count": null,
   "id": "8c50336f-2467-4503-bd3d-039539d31ef6",
   "metadata": {},
   "outputs": [],
   "source": []
  },
  {
   "cell_type": "code",
   "execution_count": 70,
   "id": "49606f4c-0f63-4b35-a0f3-f54f539e3023",
   "metadata": {},
   "outputs": [
    {
     "data": {
      "text/plain": [
       "2"
      ]
     },
     "execution_count": 70,
     "metadata": {},
     "output_type": "execute_result"
    }
   ],
   "source": [
    "# What is the position of the value \"cherry\":\n",
    "\n",
    "fruits = ['apple', 'banana', 'cherry']\n",
    "\n",
    "x = fruits.index(\"cherry\")\n",
    "\n",
    "x"
   ]
  },
  {
   "cell_type": "code",
   "execution_count": null,
   "id": "5b476fb6-d97b-46e3-9b7b-9a0fc93daff0",
   "metadata": {},
   "outputs": [],
   "source": []
  },
  {
   "cell_type": "code",
   "execution_count": 72,
   "id": "6ae2420b-1a96-43d6-88ba-d5e18b25d1c9",
   "metadata": {},
   "outputs": [
    {
     "data": {
      "text/plain": [
       "3"
      ]
     },
     "execution_count": 72,
     "metadata": {},
     "output_type": "execute_result"
    }
   ],
   "source": [
    "# What is the position of the value 32:\n",
    "\n",
    "# Note: The index() method only returns the first occurrence of the value.\n",
    "\n",
    "fruits = [4, 55, 64, 32, 16, 32]\n",
    "\n",
    "x = fruits.index(32)\n",
    "\n",
    "x"
   ]
  },
  {
   "cell_type": "code",
   "execution_count": null,
   "id": "50d12e49-f54c-4cb4-b766-04fabcc27838",
   "metadata": {},
   "outputs": [],
   "source": []
  },
  {
   "cell_type": "code",
   "execution_count": 73,
   "id": "892ae1a6-6c2a-4031-a77d-6a64706f41c5",
   "metadata": {},
   "outputs": [
    {
     "data": {
      "text/plain": [
       "['apple', 'orange', 'banana', 'cherry']"
      ]
     },
     "execution_count": 73,
     "metadata": {},
     "output_type": "execute_result"
    }
   ],
   "source": [
    "# Insert the value \"orange\" as the second element of the fruit list:\n",
    "\n",
    "fruits = ['apple', 'banana', 'cherry']\n",
    "\n",
    "fruits.insert(1, \"orange\")\n",
    "\n",
    "fruits"
   ]
  },
  {
   "cell_type": "code",
   "execution_count": null,
   "id": "7f266617-6776-40d3-8762-b113dbf0fef0",
   "metadata": {},
   "outputs": [],
   "source": []
  },
  {
   "cell_type": "code",
   "execution_count": 74,
   "id": "5c7df867-69d3-430b-bab8-d945e0d16467",
   "metadata": {},
   "outputs": [
    {
     "data": {
      "text/plain": [
       "['apple', 'cherry']"
      ]
     },
     "execution_count": 74,
     "metadata": {},
     "output_type": "execute_result"
    }
   ],
   "source": [
    "# Remove the second element of the fruit list:\n",
    "\n",
    "fruits = ['apple', 'banana', 'cherry']\n",
    "\n",
    "fruits.pop(1)\n",
    "\n",
    "fruits"
   ]
  },
  {
   "cell_type": "code",
   "execution_count": null,
   "id": "f480ad35-3cc4-4f79-8e74-4c903fdb6f29",
   "metadata": {},
   "outputs": [],
   "source": []
  },
  {
   "cell_type": "code",
   "execution_count": 76,
   "id": "ba7ffd95-16b0-43c7-9433-bac26a2ec49c",
   "metadata": {},
   "outputs": [
    {
     "data": {
      "text/plain": [
       "'banana'"
      ]
     },
     "execution_count": 76,
     "metadata": {},
     "output_type": "execute_result"
    }
   ],
   "source": [
    "# Return the removed element:\n",
    "\n",
    "fruits = ['apple', 'banana', 'cherry']\n",
    "\n",
    "x = fruits.pop(1)\n",
    "\n",
    "x"
   ]
  },
  {
   "cell_type": "code",
   "execution_count": null,
   "id": "4e5ab5b8-44b4-4e9b-a6cc-4df98b8056c7",
   "metadata": {},
   "outputs": [],
   "source": []
  },
  {
   "cell_type": "code",
   "execution_count": 77,
   "id": "986096d9-5a17-4ed9-9c6a-d98f754d0e52",
   "metadata": {},
   "outputs": [
    {
     "data": {
      "text/plain": [
       "['cherry', 'banana', 'apple']"
      ]
     },
     "execution_count": 77,
     "metadata": {},
     "output_type": "execute_result"
    }
   ],
   "source": [
    "# Reverse the order of the fruit list:\n",
    "\n",
    "fruits = ['apple', 'banana', 'cherry']\n",
    "\n",
    "fruits.reverse()\n",
    "\n",
    "fruits"
   ]
  },
  {
   "cell_type": "code",
   "execution_count": null,
   "id": "b5c02b2d-2807-49f4-9a6f-4595fb0f86e4",
   "metadata": {},
   "outputs": [],
   "source": []
  },
  {
   "cell_type": "code",
   "execution_count": 78,
   "id": "4955590e-be4b-4c3f-baab-d352805d3192",
   "metadata": {},
   "outputs": [
    {
     "data": {
      "text/plain": [
       "['BMW', 'Ford', 'Volvo']"
      ]
     },
     "execution_count": 78,
     "metadata": {},
     "output_type": "execute_result"
    }
   ],
   "source": [
    "# Sort the list alphabetically:\n",
    "\n",
    "cars = ['Ford', 'BMW', 'Volvo']\n",
    "\n",
    "cars.sort()\n",
    "\n",
    "cars"
   ]
  },
  {
   "cell_type": "code",
   "execution_count": null,
   "id": "9fd5a98c-c123-4376-bc0b-fb737585b4af",
   "metadata": {},
   "outputs": [],
   "source": []
  },
  {
   "cell_type": "code",
   "execution_count": 79,
   "id": "48882111-4c29-4bc5-8e34-1baacf6d6394",
   "metadata": {},
   "outputs": [
    {
     "data": {
      "text/plain": [
       "['Volvo', 'Ford', 'BMW']"
      ]
     },
     "execution_count": 79,
     "metadata": {},
     "output_type": "execute_result"
    }
   ],
   "source": [
    "# Sort the list descending:\n",
    "\n",
    "cars = ['Ford', 'BMW', 'Volvo']\n",
    "\n",
    "cars.sort(reverse=True)\n",
    "\n",
    "cars"
   ]
  },
  {
   "cell_type": "code",
   "execution_count": 79,
   "id": "0a91c6d3-b37a-474a-b97a-51c19140e5a6",
   "metadata": {},
   "outputs": [
    {
     "data": {
      "text/plain": [
       "['Volvo', 'Ford', 'BMW']"
      ]
     },
     "execution_count": 79,
     "metadata": {},
     "output_type": "execute_result"
    }
   ],
   "source": [
    "# Sort the list descending:\n",
    "\n",
    "cars = ['Ford', 'BMW', 'Volvo']\n",
    "\n",
    "cars.sort(reverse=True)\n",
    "\n",
    "cars"
   ]
  },
  {
   "cell_type": "code",
   "execution_count": null,
   "id": "bd3f9034-80e8-48ec-995f-85aecb7a11dd",
   "metadata": {},
   "outputs": [],
   "source": []
  },
  {
   "cell_type": "code",
   "execution_count": 81,
   "id": "c042a0c3-9262-48a9-9240-dab0c3bbe302",
   "metadata": {},
   "outputs": [
    {
     "data": {
      "text/plain": [
       "['VW', 'BMW', 'Ford', 'Mitsubishi']"
      ]
     },
     "execution_count": 81,
     "metadata": {},
     "output_type": "execute_result"
    }
   ],
   "source": [
    "# Sort the list by the length of the values:\n",
    "\n",
    "# A function that returns the length of the value:\n",
    "\n",
    "def myFunc(e):\n",
    "  return len(e)\n",
    "\n",
    "cars = ['Ford', 'Mitsubishi', 'BMW', 'VW']\n",
    "\n",
    "cars.sort(key=myFunc)\n",
    "\n",
    "cars"
   ]
  },
  {
   "cell_type": "code",
   "execution_count": null,
   "id": "ac17835d-d50b-4900-948c-538d1bc5cb22",
   "metadata": {},
   "outputs": [],
   "source": []
  },
  {
   "cell_type": "code",
   "execution_count": 84,
   "id": "dcd66fa7-fd48-40e1-8c49-98616a2c8259",
   "metadata": {},
   "outputs": [
    {
     "data": {
      "text/plain": [
       "[0, 0, 0, 0, 1, 2, 2, 3, 7, 9, 10]"
      ]
     },
     "execution_count": 84,
     "metadata": {},
     "output_type": "execute_result"
    }
   ],
   "source": [
    "# Sort the list descending:\n",
    "\n",
    "numbers = [1, 2, 3, 0, 10, 0, 7, 9, 2, 0, 0]\n",
    "\n",
    "numbers.sort(reverse=False)\n",
    "\n",
    "numbers"
   ]
  },
  {
   "cell_type": "code",
   "execution_count": null,
   "id": "753410fe-b923-42a0-a90f-3cd1d7934057",
   "metadata": {},
   "outputs": [],
   "source": []
  },
  {
   "cell_type": "code",
   "execution_count": null,
   "id": "79649f0d-dd6e-4652-ac26-feac4373fa6e",
   "metadata": {},
   "outputs": [],
   "source": []
  },
  {
   "cell_type": "code",
   "execution_count": null,
   "id": "4d36ee95-30b4-45f6-ab15-ec4f7059948d",
   "metadata": {},
   "outputs": [],
   "source": []
  },
  {
   "cell_type": "code",
   "execution_count": null,
   "id": "1d2ecee4-f489-4cf1-b811-6ecc30aeb48b",
   "metadata": {},
   "outputs": [],
   "source": []
  },
  {
   "cell_type": "code",
   "execution_count": null,
   "id": "2c7c5fce-2643-48db-9463-1632ca056742",
   "metadata": {},
   "outputs": [],
   "source": []
  },
  {
   "cell_type": "code",
   "execution_count": null,
   "id": "a02d8c66-3460-4a61-a372-92c2d4bb59d9",
   "metadata": {},
   "outputs": [],
   "source": []
  },
  {
   "cell_type": "code",
   "execution_count": null,
   "id": "ef63da81-be9a-46ad-992f-90a502a474c7",
   "metadata": {},
   "outputs": [],
   "source": []
  },
  {
   "cell_type": "code",
   "execution_count": null,
   "id": "154e3058-3b67-426d-9d6f-fab7eec15bdb",
   "metadata": {},
   "outputs": [],
   "source": []
  },
  {
   "cell_type": "code",
   "execution_count": 87,
   "id": "58ee512c-adc2-40bf-b12b-cd48f9cb27e5",
   "metadata": {},
   "outputs": [
    {
     "name": "stdout",
     "output_type": "stream",
     "text": [
      "Sorted Array in Ascending Order:\n",
      "[-9, -2, 0, 11, 45]\n"
     ]
    }
   ],
   "source": [
    "# Selection sort in Python\n",
    "\n",
    "\n",
    "def selectionSort(array, size):\n",
    "   \n",
    "    for step in range(size):\n",
    "        min_idx = step\n",
    "\n",
    "        for i in range(step + 1, size):\n",
    "         \n",
    "            # to sort in descending order, change > to < in this line\n",
    "            # select the minimum element in each loop\n",
    "            if array[i] < array[min_idx]:\n",
    "                min_idx = i\n",
    "         \n",
    "        # put min at the correct position\n",
    "        (array[step], array[min_idx]) = (array[min_idx], array[step])\n",
    "\n",
    "\n",
    "data = [-2, 45, 0, 11, -9]\n",
    "size = len(data)\n",
    "selectionSort(data, size)\n",
    "print('Sorted Array in Ascending Order:')\n",
    "print(data)"
   ]
  },
  {
   "cell_type": "code",
   "execution_count": null,
   "id": "e75fd052-5e06-48b5-952c-f9274148fadb",
   "metadata": {},
   "outputs": [],
   "source": []
  },
  {
   "cell_type": "code",
   "execution_count": 90,
   "id": "7e0a1633-9cf4-47e5-aca1-e8d10aee2199",
   "metadata": {},
   "outputs": [
    {
     "name": "stdout",
     "output_type": "stream",
     "text": [
      "[0, 0, 0, 9, 5, 4, 3, 16, 12, 13]\n"
     ]
    }
   ],
   "source": [
    "def selectionSort(array):\n",
    "  n = len(array)\n",
    "  for i in range(n):\n",
    "    # Initially, assume the first element of the unsorted part as the minimum.\n",
    "    minimum = i\n",
    "\n",
    "    for j in range(i+1, n):\n",
    "      if (array[j] < array[minimum] and array[j] == 0):\n",
    "        # Update position of minimum element if a smaller element is found.\n",
    "        minimum = j\n",
    "\n",
    "    # Swap the minimum element with the first element of the unsorted part.     \n",
    "    temp = array[i]\n",
    "    array[i] = array[minimum]\n",
    "    array[minimum] = temp\n",
    "    \n",
    "  return array\n",
    "\n",
    "# Driver code\n",
    "array = [13, 4, 0, 9, 5, 0, 3, 16, 12, 0]\n",
    "print(selectionSort(array))"
   ]
  },
  {
   "cell_type": "code",
   "execution_count": null,
   "id": "f29e4565-cbdc-494b-a6e8-017b441f3e31",
   "metadata": {},
   "outputs": [],
   "source": []
  },
  {
   "cell_type": "code",
   "execution_count": null,
   "id": "8436fc70-d024-4a6e-a663-f82ae3e07e0f",
   "metadata": {},
   "outputs": [],
   "source": []
  },
  {
   "cell_type": "code",
   "execution_count": null,
   "id": "097f5645-aa2a-41f7-b23f-a88d2b7e85da",
   "metadata": {},
   "outputs": [],
   "source": []
  },
  {
   "cell_type": "code",
   "execution_count": null,
   "id": "cfbac87a-9fea-485e-a737-e4b1eca228ad",
   "metadata": {},
   "outputs": [],
   "source": []
  },
  {
   "cell_type": "code",
   "execution_count": 91,
   "id": "d539fa63-9dee-4558-b799-3b7941ddaecf",
   "metadata": {},
   "outputs": [],
   "source": [
    "# Python - Escape Characters"
   ]
  },
  {
   "cell_type": "code",
   "execution_count": null,
   "id": "a74b264a-9f56-40da-9f87-e2ffc7e7e628",
   "metadata": {},
   "outputs": [],
   "source": []
  },
  {
   "cell_type": "code",
   "execution_count": null,
   "id": "1dfe929e-37ec-464f-969e-27739aff4533",
   "metadata": {},
   "outputs": [],
   "source": []
  },
  {
   "cell_type": "code",
   "execution_count": null,
   "id": "918dbfd3-7823-4237-a0cb-267010aed9f8",
   "metadata": {},
   "outputs": [],
   "source": [
    "# Python - Escape Characters"
   ]
  },
  {
   "cell_type": "code",
   "execution_count": null,
   "id": "b05a5b20-42fc-42f6-8e2c-fc5f34c56c07",
   "metadata": {},
   "outputs": [],
   "source": []
  },
  {
   "cell_type": "code",
   "execution_count": null,
   "id": "c18e7c95-ef3c-4e3f-8f4e-969f8bcb29c7",
   "metadata": {},
   "outputs": [],
   "source": []
  },
  {
   "cell_type": "code",
   "execution_count": null,
   "id": "2e8ab3e5-4b64-4363-9e7b-8f73424bb957",
   "metadata": {},
   "outputs": [],
   "source": [
    "# Python - Escape Characters"
   ]
  },
  {
   "cell_type": "code",
   "execution_count": null,
   "id": "65b9bdd8-c037-4c7e-b945-677a33184119",
   "metadata": {},
   "outputs": [],
   "source": []
  },
  {
   "cell_type": "code",
   "execution_count": null,
   "id": "13aeec36-10b4-4248-b93d-4a8911bbdbe7",
   "metadata": {},
   "outputs": [],
   "source": []
  },
  {
   "cell_type": "code",
   "execution_count": null,
   "id": "eff2fba0-00a3-46cd-aef0-982c6b4a6e8c",
   "metadata": {},
   "outputs": [],
   "source": [
    "# Python - Escape Characters"
   ]
  },
  {
   "cell_type": "code",
   "execution_count": null,
   "id": "dff5dc46-1b22-47a8-81a9-b02efee081f4",
   "metadata": {},
   "outputs": [],
   "source": []
  },
  {
   "cell_type": "code",
   "execution_count": null,
   "id": "db49f5dd-9674-43ff-b060-0e969f4e1c49",
   "metadata": {},
   "outputs": [],
   "source": []
  },
  {
   "cell_type": "code",
   "execution_count": null,
   "id": "d973ca57-329e-4781-8b02-51897a634c41",
   "metadata": {},
   "outputs": [],
   "source": [
    "# Python - Escape Characters"
   ]
  },
  {
   "cell_type": "code",
   "execution_count": null,
   "id": "799b1843-5aee-4419-b44b-fd93f3b4b32e",
   "metadata": {},
   "outputs": [],
   "source": []
  },
  {
   "cell_type": "code",
   "execution_count": null,
   "id": "69507b3d-ca19-403f-8665-8252993c49e0",
   "metadata": {},
   "outputs": [],
   "source": []
  },
  {
   "cell_type": "code",
   "execution_count": null,
   "id": "597874a0-e917-4241-bd2a-1dc638b1cbc4",
   "metadata": {},
   "outputs": [],
   "source": [
    "# Python - Escape Characters"
   ]
  },
  {
   "cell_type": "code",
   "execution_count": null,
   "id": "66558e4e-a3f5-4560-ac3e-bb8c9594baed",
   "metadata": {},
   "outputs": [],
   "source": []
  },
  {
   "cell_type": "code",
   "execution_count": null,
   "id": "d008a528-66ba-4baa-992a-5760abb3fb85",
   "metadata": {},
   "outputs": [],
   "source": []
  },
  {
   "cell_type": "code",
   "execution_count": null,
   "id": "9f70b59f-d2cc-417b-a64d-ed3e851d6eee",
   "metadata": {},
   "outputs": [],
   "source": [
    "# Python - Escape Characters"
   ]
  },
  {
   "cell_type": "code",
   "execution_count": null,
   "id": "0022efc9-5d7d-4034-b7a6-d434facd02ba",
   "metadata": {},
   "outputs": [],
   "source": []
  },
  {
   "cell_type": "code",
   "execution_count": null,
   "id": "91abf53d-232a-40f4-984a-2ebb7f9e647d",
   "metadata": {},
   "outputs": [],
   "source": []
  },
  {
   "cell_type": "code",
   "execution_count": null,
   "id": "f171bf54-3089-4dd9-89ae-31d7c54d7351",
   "metadata": {},
   "outputs": [],
   "source": [
    "# Python - Escape Characters"
   ]
  },
  {
   "cell_type": "code",
   "execution_count": null,
   "id": "e2fb25d5-2c00-4e5a-bc81-4ac0cb96f17a",
   "metadata": {},
   "outputs": [],
   "source": []
  },
  {
   "cell_type": "code",
   "execution_count": null,
   "id": "2044f2ce-8c55-48c5-be7a-c8ee22c3d62d",
   "metadata": {},
   "outputs": [],
   "source": []
  },
  {
   "cell_type": "code",
   "execution_count": null,
   "id": "3919ab2d-3ba1-489f-9d90-76211c4c78c1",
   "metadata": {},
   "outputs": [],
   "source": [
    "# Python - Escape Characters"
   ]
  },
  {
   "cell_type": "code",
   "execution_count": null,
   "id": "4a3cfc72-f195-4b05-93ff-4b56e27d7393",
   "metadata": {},
   "outputs": [],
   "source": []
  },
  {
   "cell_type": "code",
   "execution_count": null,
   "id": "76d8dc6f-fb46-4601-9990-5711b3bbdaf3",
   "metadata": {},
   "outputs": [],
   "source": []
  },
  {
   "cell_type": "code",
   "execution_count": null,
   "id": "92a9a85e-179a-4636-a59d-61e8f912dc1c",
   "metadata": {},
   "outputs": [],
   "source": [
    "# Python - Escape Characters"
   ]
  },
  {
   "cell_type": "code",
   "execution_count": null,
   "id": "ba3e10ba-4710-4960-b937-9505b7965757",
   "metadata": {},
   "outputs": [],
   "source": []
  },
  {
   "cell_type": "code",
   "execution_count": null,
   "id": "56b32ad0-be4e-4454-b7fd-107a8b810115",
   "metadata": {},
   "outputs": [],
   "source": []
  },
  {
   "cell_type": "code",
   "execution_count": null,
   "id": "da41cccf-9fc5-4a18-bbaa-f1b0647a5b28",
   "metadata": {},
   "outputs": [],
   "source": [
    "# Python - Escape Characters"
   ]
  },
  {
   "cell_type": "code",
   "execution_count": null,
   "id": "6d265a12-454b-4d1e-9e41-6bf8c0e95173",
   "metadata": {},
   "outputs": [],
   "source": []
  },
  {
   "cell_type": "code",
   "execution_count": null,
   "id": "8267d3fb-d93b-4a44-91c7-0645dca26cdb",
   "metadata": {},
   "outputs": [],
   "source": []
  },
  {
   "cell_type": "code",
   "execution_count": null,
   "id": "22dadf71-fd65-46ee-95df-0f6a24c9224e",
   "metadata": {},
   "outputs": [],
   "source": []
  },
  {
   "cell_type": "code",
   "execution_count": 10,
   "id": "92b90bdd-3bc3-4538-8222-3abfd7d03969",
   "metadata": {},
   "outputs": [
    {
     "name": "stdout",
     "output_type": "stream",
     "text": [
      "1 7 2 6 "
     ]
    }
   ],
   "source": [
    "# Python implementation for Adding one\n",
    "# to number represented by digits\n",
    " \n",
    "import math\n",
    " \n",
    "# function for adding one to number\n",
    "\n",
    "def incrementVector(a):\n",
    " \n",
    "    n = len(a)\n",
    " \n",
    "    # Add 1 to last digit and find carry\n",
    "    a[n-1] += 1\n",
    "    carry = a[n-1]/10\n",
    "    a[n-1] = a[n-1] % 10\n",
    " \n",
    "    # Traverse from second last digit\n",
    "    for i in range(n-2, -1, -1):\n",
    "        if (carry == 1):\n",
    "            a[i] += 1\n",
    "            carry = a[i]/10\n",
    "            a[i] = a[i] % 10\n",
    " \n",
    "    # If carry is 1, we need to add\n",
    "    # a 1 at the beginning of vector\n",
    "    if (carry == 1):\n",
    "        a.insert(0, 1)\n",
    "        # driver code\n",
    "vect = [1, 7, 2, 5]\n",
    " \n",
    "incrementVector(vect)\n",
    " \n",
    "for i in range(0, len(vect)):\n",
    "    print(vect[i], end=\" \")\n",
    " \n"
   ]
  },
  {
   "cell_type": "code",
   "execution_count": null,
   "id": "a2e492d7-51f8-45bc-94f6-f4895a544e73",
   "metadata": {},
   "outputs": [],
   "source": []
  },
  {
   "cell_type": "code",
   "execution_count": 3,
   "id": "7e586083-7334-45aa-83ee-98c39d22cb97",
   "metadata": {},
   "outputs": [
    {
     "name": "stdout",
     "output_type": "stream",
     "text": [
      "0\n",
      "1\n",
      "2\n",
      "3\n",
      "4\n"
     ]
    }
   ],
   "source": [
    "i = 0\n",
    "while (i < 5):\n",
    "    print(i)\n",
    "    i += 1"
   ]
  },
  {
   "cell_type": "code",
   "execution_count": null,
   "id": "ef321fc2-3f3d-4fef-91ac-df606354af3d",
   "metadata": {},
   "outputs": [],
   "source": []
  },
  {
   "cell_type": "code",
   "execution_count": 9,
   "id": "8b19a30f-fa5b-4291-b5e8-3914d748acd5",
   "metadata": {},
   "outputs": [
    {
     "name": "stdout",
     "output_type": "stream",
     "text": [
      "1\n",
      "2\n",
      "3\n",
      "4\n",
      "5\n",
      "6\n",
      "7\n",
      "8\n",
      "9\n",
      "10\n"
     ]
    }
   ],
   "source": [
    "i = 1\n",
    "while (i <= 10):\n",
    "    print(i)\n",
    "    i = 1 + i"
   ]
  },
  {
   "cell_type": "code",
   "execution_count": null,
   "id": "95d6b5cc-70d2-4d89-9062-ddd9126a6f1c",
   "metadata": {},
   "outputs": [],
   "source": []
  },
  {
   "cell_type": "code",
   "execution_count": 2,
   "id": "58097e71-2fa8-43ee-945b-8605fa50b33c",
   "metadata": {},
   "outputs": [],
   "source": [
    "import pandas as pd\n",
    "import numpy as np"
   ]
  },
  {
   "cell_type": "code",
   "execution_count": 3,
   "id": "76398543-4481-4da5-b034-2d257673c676",
   "metadata": {},
   "outputs": [],
   "source": [
    "time_index = pd.date_range('06/06/2017', periods=100000, freq='30S')"
   ]
  },
  {
   "cell_type": "code",
   "execution_count": 4,
   "id": "fe7349fb-c16a-4b06-b3fd-c55e3ceb5c3b",
   "metadata": {},
   "outputs": [],
   "source": [
    "dataframe = pd.DataFrame(index=time_index)"
   ]
  },
  {
   "cell_type": "code",
   "execution_count": 5,
   "id": "194f10fa-8e82-4c92-9522-d4dfb4a57d80",
   "metadata": {},
   "outputs": [],
   "source": [
    "dataframe['Sale_Amount'] = np.random.randint(1, 10, 100000)"
   ]
  },
  {
   "cell_type": "code",
   "execution_count": 6,
   "id": "e0342af5-91e7-4bc9-9a4d-ccb336d87b44",
   "metadata": {},
   "outputs": [
    {
     "data": {
      "text/html": [
       "<div>\n",
       "<style scoped>\n",
       "    .dataframe tbody tr th:only-of-type {\n",
       "        vertical-align: middle;\n",
       "    }\n",
       "\n",
       "    .dataframe tbody tr th {\n",
       "        vertical-align: top;\n",
       "    }\n",
       "\n",
       "    .dataframe thead th {\n",
       "        text-align: right;\n",
       "    }\n",
       "</style>\n",
       "<table border=\"1\" class=\"dataframe\">\n",
       "  <thead>\n",
       "    <tr style=\"text-align: right;\">\n",
       "      <th></th>\n",
       "      <th>Sale_Amount</th>\n",
       "    </tr>\n",
       "  </thead>\n",
       "  <tbody>\n",
       "    <tr>\n",
       "      <th>2017-06-11</th>\n",
       "      <td>86500</td>\n",
       "    </tr>\n",
       "    <tr>\n",
       "      <th>2017-06-18</th>\n",
       "      <td>100826</td>\n",
       "    </tr>\n",
       "    <tr>\n",
       "      <th>2017-06-25</th>\n",
       "      <td>100608</td>\n",
       "    </tr>\n",
       "    <tr>\n",
       "      <th>2017-07-02</th>\n",
       "      <td>100516</td>\n",
       "    </tr>\n",
       "    <tr>\n",
       "      <th>2017-07-09</th>\n",
       "      <td>100360</td>\n",
       "    </tr>\n",
       "    <tr>\n",
       "      <th>2017-07-16</th>\n",
       "      <td>10133</td>\n",
       "    </tr>\n",
       "  </tbody>\n",
       "</table>\n",
       "</div>"
      ],
      "text/plain": [
       "            Sale_Amount\n",
       "2017-06-11        86500\n",
       "2017-06-18       100826\n",
       "2017-06-25       100608\n",
       "2017-07-02       100516\n",
       "2017-07-09       100360\n",
       "2017-07-16        10133"
      ]
     },
     "execution_count": 6,
     "metadata": {},
     "output_type": "execute_result"
    }
   ],
   "source": [
    "dataframe.resample('W').sum()"
   ]
  },
  {
   "cell_type": "code",
   "execution_count": 7,
   "id": "e0f4e5c8-8df0-45e2-ab4d-d615af184aaf",
   "metadata": {},
   "outputs": [
    {
     "data": {
      "text/html": [
       "<div>\n",
       "<style scoped>\n",
       "    .dataframe tbody tr th:only-of-type {\n",
       "        vertical-align: middle;\n",
       "    }\n",
       "\n",
       "    .dataframe tbody tr th {\n",
       "        vertical-align: top;\n",
       "    }\n",
       "\n",
       "    .dataframe thead th {\n",
       "        text-align: right;\n",
       "    }\n",
       "</style>\n",
       "<table border=\"1\" class=\"dataframe\">\n",
       "  <thead>\n",
       "    <tr style=\"text-align: right;\">\n",
       "      <th></th>\n",
       "      <th>Sale_Amount</th>\n",
       "    </tr>\n",
       "  </thead>\n",
       "  <tbody>\n",
       "    <tr>\n",
       "      <th>2017-06-06 00:00:00</th>\n",
       "      <td>1</td>\n",
       "    </tr>\n",
       "    <tr>\n",
       "      <th>2017-06-06 00:00:30</th>\n",
       "      <td>8</td>\n",
       "    </tr>\n",
       "    <tr>\n",
       "      <th>2017-06-06 00:01:00</th>\n",
       "      <td>1</td>\n",
       "    </tr>\n",
       "  </tbody>\n",
       "</table>\n",
       "</div>"
      ],
      "text/plain": [
       "                     Sale_Amount\n",
       "2017-06-06 00:00:00            1\n",
       "2017-06-06 00:00:30            8\n",
       "2017-06-06 00:01:00            1"
      ]
     },
     "execution_count": 7,
     "metadata": {},
     "output_type": "execute_result"
    }
   ],
   "source": [
    "dataframe.head(3)"
   ]
  },
  {
   "cell_type": "code",
   "execution_count": 8,
   "id": "e05fd5fe-49b4-49fd-9725-acce24e3c847",
   "metadata": {},
   "outputs": [
    {
     "data": {
      "text/html": [
       "<div>\n",
       "<style scoped>\n",
       "    .dataframe tbody tr th:only-of-type {\n",
       "        vertical-align: middle;\n",
       "    }\n",
       "\n",
       "    .dataframe tbody tr th {\n",
       "        vertical-align: top;\n",
       "    }\n",
       "\n",
       "    .dataframe thead th {\n",
       "        text-align: right;\n",
       "    }\n",
       "</style>\n",
       "<table border=\"1\" class=\"dataframe\">\n",
       "  <thead>\n",
       "    <tr style=\"text-align: right;\">\n",
       "      <th></th>\n",
       "      <th>Sale_Amount</th>\n",
       "    </tr>\n",
       "  </thead>\n",
       "  <tbody>\n",
       "    <tr>\n",
       "      <th>2017-06-11</th>\n",
       "      <td>5.005787</td>\n",
       "    </tr>\n",
       "    <tr>\n",
       "      <th>2017-06-25</th>\n",
       "      <td>4.995883</td>\n",
       "    </tr>\n",
       "    <tr>\n",
       "      <th>2017-07-09</th>\n",
       "      <td>4.982044</td>\n",
       "    </tr>\n",
       "    <tr>\n",
       "      <th>2017-07-23</th>\n",
       "      <td>4.871635</td>\n",
       "    </tr>\n",
       "  </tbody>\n",
       "</table>\n",
       "</div>"
      ],
      "text/plain": [
       "            Sale_Amount\n",
       "2017-06-11     5.005787\n",
       "2017-06-25     4.995883\n",
       "2017-07-09     4.982044\n",
       "2017-07-23     4.871635"
      ]
     },
     "execution_count": 8,
     "metadata": {},
     "output_type": "execute_result"
    }
   ],
   "source": [
    "dataframe.resample('2W').mean()"
   ]
  },
  {
   "cell_type": "code",
   "execution_count": 9,
   "id": "075fcb32-ccd3-4677-b474-0dfeb615e0df",
   "metadata": {},
   "outputs": [
    {
     "data": {
      "text/html": [
       "<div>\n",
       "<style scoped>\n",
       "    .dataframe tbody tr th:only-of-type {\n",
       "        vertical-align: middle;\n",
       "    }\n",
       "\n",
       "    .dataframe tbody tr th {\n",
       "        vertical-align: top;\n",
       "    }\n",
       "\n",
       "    .dataframe thead th {\n",
       "        text-align: right;\n",
       "    }\n",
       "</style>\n",
       "<table border=\"1\" class=\"dataframe\">\n",
       "  <thead>\n",
       "    <tr style=\"text-align: right;\">\n",
       "      <th></th>\n",
       "      <th>Sale_Amount</th>\n",
       "    </tr>\n",
       "  </thead>\n",
       "  <tbody>\n",
       "    <tr>\n",
       "      <th>2017-06-30</th>\n",
       "      <td>72000</td>\n",
       "    </tr>\n",
       "    <tr>\n",
       "      <th>2017-07-31</th>\n",
       "      <td>28000</td>\n",
       "    </tr>\n",
       "  </tbody>\n",
       "</table>\n",
       "</div>"
      ],
      "text/plain": [
       "            Sale_Amount\n",
       "2017-06-30        72000\n",
       "2017-07-31        28000"
      ]
     },
     "execution_count": 9,
     "metadata": {},
     "output_type": "execute_result"
    }
   ],
   "source": [
    "dataframe.resample('M').count()"
   ]
  },
  {
   "cell_type": "code",
   "execution_count": 10,
   "id": "b43f70d5-8c5c-413f-915e-fa950e7bc6c6",
   "metadata": {},
   "outputs": [
    {
     "data": {
      "text/html": [
       "<div>\n",
       "<style scoped>\n",
       "    .dataframe tbody tr th:only-of-type {\n",
       "        vertical-align: middle;\n",
       "    }\n",
       "\n",
       "    .dataframe tbody tr th {\n",
       "        vertical-align: top;\n",
       "    }\n",
       "\n",
       "    .dataframe thead th {\n",
       "        text-align: right;\n",
       "    }\n",
       "</style>\n",
       "<table border=\"1\" class=\"dataframe\">\n",
       "  <thead>\n",
       "    <tr style=\"text-align: right;\">\n",
       "      <th></th>\n",
       "      <th>Sale_Amount</th>\n",
       "    </tr>\n",
       "  </thead>\n",
       "  <tbody>\n",
       "    <tr>\n",
       "      <th>2017-05-31</th>\n",
       "      <td>72000</td>\n",
       "    </tr>\n",
       "    <tr>\n",
       "      <th>2017-06-30</th>\n",
       "      <td>28000</td>\n",
       "    </tr>\n",
       "  </tbody>\n",
       "</table>\n",
       "</div>"
      ],
      "text/plain": [
       "            Sale_Amount\n",
       "2017-05-31        72000\n",
       "2017-06-30        28000"
      ]
     },
     "execution_count": 10,
     "metadata": {},
     "output_type": "execute_result"
    }
   ],
   "source": [
    "dataframe.resample('M', label='left').count()"
   ]
  },
  {
   "cell_type": "code",
   "execution_count": null,
   "id": "8450ee37-562b-436b-baff-b6fc6aa6f294",
   "metadata": {},
   "outputs": [],
   "source": [
    "# h: help\n",
    "# w: where\n",
    "# n: next\n",
    "# s: step\n",
    "# c: continue\n",
    "# p: print\n",
    "# l: list\n",
    "# q: quit"
   ]
  },
  {
   "cell_type": "code",
   "execution_count": null,
   "id": "516fede7-8e51-4227-96b4-4c5574a8f97e",
   "metadata": {},
   "outputs": [],
   "source": []
  },
  {
   "cell_type": "code",
   "execution_count": 2,
   "id": "e73eafde-e81a-4657-a8f6-009debb794b9",
   "metadata": {},
   "outputs": [],
   "source": [
    "import pdb"
   ]
  },
  {
   "cell_type": "code",
   "execution_count": null,
   "id": "342c1328-4ede-464d-901a-e049b4f47cd2",
   "metadata": {},
   "outputs": [],
   "source": [
    "# Python program to generate the prime numbers from 1 to N\n",
    "\n",
    "number_N = input(\"Enter the number: \")\n",
    "integer_N = int(number_N)\n",
    "prime_number = []\n",
    "check = []\n",
    "for i in range(2, integer_N+1, 1):  # List of integers to be used as divisors for the input integer N\n",
    "    \n",
    "    for j in range(2, i, 1):\n",
    "        remains = (i % j)\n",
    "        check.append(remains)\n",
    "    y = check.count(0)\n",
    "    if y==0:\n",
    "        prime_number.append(i)\n",
    "                      \n",
    "print(\"The prime from 1 to \" + number_N + \" are \" + str(prime_number))"
   ]
  },
  {
   "cell_type": "code",
   "execution_count": null,
   "id": "5bea7b4d-5948-4f3a-a522-c9a4b2efc4e0",
   "metadata": {},
   "outputs": [],
   "source": []
  },
  {
   "cell_type": "code",
   "execution_count": 3,
   "id": "b74618bd-bd82-49c1-9c7d-6bf179120f2e",
   "metadata": {},
   "outputs": [],
   "source": [
    "import pdb\n",
    "# debug txt\n",
    "\n",
    "# h: help\n",
    "# w: where\n",
    "# n: next\n",
    "# s: step\n",
    "# c: continue\n",
    "# p: print\n",
    "# l: list\n",
    "# q: quit"
   ]
  },
  {
   "cell_type": "code",
   "execution_count": null,
   "id": "2bedcbfc-44b3-4765-a00b-e6c02f897d98",
   "metadata": {},
   "outputs": [],
   "source": []
  },
  {
   "cell_type": "code",
   "execution_count": null,
   "id": "7ae635a7-2c95-4e86-aa00-60289b0ee7ac",
   "metadata": {},
   "outputs": [],
   "source": []
  },
  {
   "cell_type": "code",
   "execution_count": 4,
   "id": "bdc8e3c6-a992-4dc8-b23e-301680638825",
   "metadata": {},
   "outputs": [],
   "source": [
    "list1 = [1, 2, 3, 4] \n",
    "list2 = [5, 6, 7, 8]"
   ]
  },
  {
   "cell_type": "code",
   "execution_count": 5,
   "id": "3418c0eb-15a9-44b1-9b7a-d34e9db7abb5",
   "metadata": {},
   "outputs": [],
   "source": [
    "summed_list = []"
   ]
  },
  {
   "cell_type": "code",
   "execution_count": 6,
   "id": "33e521b7-9825-4085-961a-7bb4a3970fb5",
   "metadata": {},
   "outputs": [],
   "source": [
    "for item in zip(list1, list2):\n",
    "    temp_sum = sum(item)\n",
    "    summed_list.append(temp_sum)"
   ]
  },
  {
   "cell_type": "code",
   "execution_count": 7,
   "id": "8fe97f20-59f8-40cb-84ed-ddcc980709b4",
   "metadata": {},
   "outputs": [
    {
     "data": {
      "text/plain": [
       "[6, 8, 10, 12]"
      ]
     },
     "execution_count": 7,
     "metadata": {},
     "output_type": "execute_result"
    }
   ],
   "source": [
    "summed_list"
   ]
  },
  {
   "cell_type": "code",
   "execution_count": null,
   "id": "6b04d97e-02ed-470a-9ccd-df40a62b464e",
   "metadata": {},
   "outputs": [],
   "source": []
  }
 ],
 "metadata": {
  "kernelspec": {
   "display_name": "Python 3 (ipykernel)",
   "language": "python",
   "name": "python3"
  },
  "language_info": {
   "codemirror_mode": {
    "name": "ipython",
    "version": 3
   },
   "file_extension": ".py",
   "mimetype": "text/x-python",
   "name": "python",
   "nbconvert_exporter": "python",
   "pygments_lexer": "ipython3",
   "version": "3.8.4"
  }
 },
 "nbformat": 4,
 "nbformat_minor": 5
}
